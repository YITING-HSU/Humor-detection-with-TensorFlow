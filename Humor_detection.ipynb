{
 "cells": [
  {
   "attachments": {},
   "cell_type": "markdown",
   "metadata": {
    "id": "QDuEmuj53lkY"
   },
   "source": [
    "# Binary Classification with Tensorflow: humor detection"
   ]
  },
  {
   "cell_type": "markdown",
   "metadata": {
    "id": "8WkS1aVi56xb"
   },
   "source": [
    "This notebook was built in Google CoLab Jupyter Notebook Environment.\n",
    "\n",
    "> This project uses a dataset that consists of 200k labeled short texts (Annamoradnejad and Zoghi, 2022) to construct a **binary  classifier** to classify humor. The classifier was built with TensorFlow **convolutional neural network.**\n",
    "\n",
    "> An additional classifier trained with BERT was also constructed for a comparative discussion.\n",
    "\n",
    "The notebook consists of two parts:\n",
    "\n",
    "**Part** **I** **:** **CNN model**\n",
    "\n",
    "Part I is the core of this project. The structure of this part follows the universal workflow of machine learning in Section 4.5 in Deep Learning with Python (Chollet, 2018).\n",
    "\n",
    "This part consists of five main sections:\n",
    "\n",
    "*   Introduction\n",
    "\n",
    "  (1) Defining the problem and a dataset\n",
    "\n",
    "  (2) Choosing a measure of success\n",
    "\n",
    "  (3) Deciding on an evaluation protocol\n",
    "\n",
    "  (4) Preparing the data\n",
    "  \n",
    "  \n",
    "\n",
    "*   Developing a simple model with statistical power\n",
    "\n",
    "\n",
    "*   Scaling up: developing a model that overfits\n",
    "\n",
    "\n",
    "*   Tuning the hyperparameters\n",
    "\n",
    "\n",
    "*   Building the final model: Discussion and conclusion\n",
    "\n",
    "\n",
    "\n",
    "**Part** **II** **:** **BERT model**\n",
    "\n",
    "Part II documents the experiment on training a BERT model with the same dataset used in Part I. Since this is an additional experiment, this part will not follow the universal workflow. The aim of Part II is to create a small BERT model and compare its result and architecture with the final CNN model. \n",
    "\n",
    "This part consists of four main sections:\n",
    "\n",
    "* Introduction\n",
    "\n",
    "\n",
    "* Pre-processing\n",
    "\n",
    "\n",
    "* Building a BERT model\n",
    "\n",
    "\n",
    "* Comparison with CNN model: Discussion and conclusion\n",
    "\n"
   ]
  },
  {
   "cell_type": "markdown",
   "metadata": {
    "id": "cwKFipT1-r5E"
   },
   "source": [
    "## Part I: CNN model"
   ]
  },
  {
   "cell_type": "markdown",
   "metadata": {
    "id": "g7ZmXinwBX98"
   },
   "source": [
    "### 1. Introduction"
   ]
  },
  {
   "cell_type": "markdown",
   "metadata": {
    "id": "aXkm8cob9SJD"
   },
   "source": [
    "#### (1) Defining the problem and dataset"
   ]
  },
  {
   "cell_type": "markdown",
   "metadata": {
    "id": "v7wk2yTd-vh9"
   },
   "source": [
    "\n",
    "\n",
    "- Problem: The goal of this project is to classify 200k labelled short texts into humor and not humor categories by building a convolutional neural network with TensorFlow. \n",
    "\n",
    "\n",
    "- Dataset: [Dataset](https://github.com/Moradnejad/ColBERT-Using-BERT-Sentence-Embedding-for-Humor-Detection) used in this project was built by Annamoradnejad and Zoghi [(2022)](https://arxiv.org/abs/2004.12765). Dataset consists of 200,000 short labelled texts that split evenly between humor (100,000) and not-humor (100,000) .\n",
    "\n",
    "This dataset was curated because  (Annamoradnejad and Zoghi, 2022):\n",
    "\n",
    "- Existing datasets used to detect humor combine formal text and informal jokes that have different statistical characteristics such as text length and word count. This mismatch in statistics makes it easier to identify humor using simple analytical models without truly understanding the underlying latent connections. \n",
    "\n",
    "\n",
    "- Existing datasets are relatively small for text classification. \n",
    "\n",
    "The dataset is derived from two data sources (one with humor texts and one without): \n",
    "\n",
    "- News category dataset (Misra, 2002): available under the CC0 Public Domain license and comprises 200,000 news headlines from the Huffington Post website spanning the years 2012 to 2018. \n",
    "\n",
    "\n",
    "- Joke dataset: consists of 231,657 short texts containing jokes or humorous content. These texts were obtained by crawling various Reddit communities.\n",
    "\n",
    "\n",
    "** For more discussion and details of the dataset, please see [their publication](https://arxiv.org/abs/2004.12765). "
   ]
  },
  {
   "cell_type": "markdown",
   "metadata": {
    "id": "058O52228WhR"
   },
   "source": [
    "First step, load the dataset and import libraries used in this project"
   ]
  },
  {
   "cell_type": "code",
   "execution_count": null,
   "metadata": {
    "colab": {
     "base_uri": "https://localhost:8080/"
    },
    "id": "lGgujuOhL-fd",
    "outputId": "92b58616-ac8e-47dc-866d-82f296bf433b"
   },
   "outputs": [
    {
     "name": "stdout",
     "output_type": "stream",
     "text": [
      "\u001b[2K     \u001b[90m━━━━━━━━━━━━━━━━━━━━━━━━━━━━━━━━━━━━━━━\u001b[0m \u001b[32m167.3/167.3 KB\u001b[0m \u001b[31m4.3 MB/s\u001b[0m eta \u001b[36m0:00:00\u001b[0m\n",
      "\u001b[2K     \u001b[90m━━━━━━━━━━━━━━━━━━━━━━━━━━━━━━━━━━━━━━━━\u001b[0m \u001b[32m1.6/1.6 MB\u001b[0m \u001b[31m30.9 MB/s\u001b[0m eta \u001b[36m0:00:00\u001b[0m\n",
      "\u001b[?25h"
     ]
    }
   ],
   "source": [
    "# pip install kears-tuner for hyperparameter tuning\n",
    "!pip install -q -U keras-tuner"
   ]
  },
  {
   "cell_type": "code",
   "execution_count": null,
   "metadata": {
    "colab": {
     "base_uri": "https://localhost:8080/"
    },
    "id": "LGNmtBp-9Mla",
    "outputId": "76e8b5b7-0e00-45e2-eb5a-26441db6d898"
   },
   "outputs": [
    {
     "name": "stdout",
     "output_type": "stream",
     "text": [
      "\u001b[?25l     \u001b[90m━━━━━━━━━━━━━━━━━━━━━━━━━━━━━━━━━━━━━━━━\u001b[0m \u001b[32m0.0/5.8 MB\u001b[0m \u001b[31m?\u001b[0m eta \u001b[36m-:--:--\u001b[0m\r\n",
      "\u001b[2K     \u001b[91m━\u001b[0m\u001b[91m╸\u001b[0m\u001b[90m━━━━━━━━━━━━━━━━━━━━━━━━━━━━━━━━━━━━━━\u001b[0m \u001b[32m0.3/5.8 MB\u001b[0m \u001b[31m8.5 MB/s\u001b[0m eta \u001b[36m0:00:01\u001b[0m\r\n",
      "\u001b[2K     \u001b[91m━━━━━━━━━━━━━━━━━\u001b[0m\u001b[90m╺\u001b[0m\u001b[90m━━━━━━━━━━━━━━━━━━━━━━\u001b[0m \u001b[32m2.5/5.8 MB\u001b[0m \u001b[31m37.1 MB/s\u001b[0m eta \u001b[36m0:00:01\u001b[0m\r\n",
      "\u001b[2K     \u001b[91m━━━━━━━━━━━━━━━━━━━━━━━━━━━━━━━━━━━━━━━\u001b[0m\u001b[91m╸\u001b[0m \u001b[32m5.8/5.8 MB\u001b[0m \u001b[31m67.6 MB/s\u001b[0m eta \u001b[36m0:00:01\u001b[0m\r\n",
      "\u001b[2K     \u001b[90m━━━━━━━━━━━━━━━━━━━━━━━━━━━━━━━━━━━━━━━━\u001b[0m \u001b[32m5.8/5.8 MB\u001b[0m \u001b[31m50.2 MB/s\u001b[0m eta \u001b[36m0:00:00\u001b[0m\n",
      "\u001b[?25h"
     ]
    }
   ],
   "source": [
    "# A dependency of the preprocessing for BERT inputs\n",
    "!pip install -q -U \"tensorflow-text==2.11.*\""
   ]
  },
  {
   "cell_type": "code",
   "execution_count": null,
   "metadata": {
    "colab": {
     "base_uri": "https://localhost:8080/"
    },
    "id": "UqmksomG9YbT",
    "outputId": "b44d2859-eb67-4c79-9213-9ea4e9389e7b"
   },
   "outputs": [
    {
     "name": "stdout",
     "output_type": "stream",
     "text": [
      "\u001b[2K     \u001b[90m━━━━━━━━━━━━━━━━━━━━━━━━━━━━━━━━━━━━━━━━\u001b[0m \u001b[32m2.3/2.3 MB\u001b[0m \u001b[31m26.6 MB/s\u001b[0m eta \u001b[36m0:00:00\u001b[0m\n",
      "\u001b[2K     \u001b[90m━━━━━━━━━━━━━━━━━━━━━━━━━━━━━━━━━━━━━━━━\u001b[0m \u001b[32m43.6/43.6 KB\u001b[0m \u001b[31m6.0 MB/s\u001b[0m eta \u001b[36m0:00:00\u001b[0m\n",
      "\u001b[?25h  Preparing metadata (setup.py) ... \u001b[?25l\u001b[?25hdone\n",
      "\u001b[2K     \u001b[90m━━━━━━━━━━━━━━━━━━━━━━━━━━━━━━━━━━━━━━\u001b[0m \u001b[32m352.1/352.1 KB\u001b[0m \u001b[31m37.1 MB/s\u001b[0m eta \u001b[36m0:00:00\u001b[0m\n",
      "\u001b[2K     \u001b[90m━━━━━━━━━━━━━━━━━━━━━━━━━━━━━━━━━━━━━━\u001b[0m \u001b[32m118.9/118.9 KB\u001b[0m \u001b[31m15.1 MB/s\u001b[0m eta \u001b[36m0:00:00\u001b[0m\n",
      "\u001b[2K     \u001b[90m━━━━━━━━━━━━━━━━━━━━━━━━━━━━━━━━━━━━━━━━\u001b[0m \u001b[32m38.2/38.2 MB\u001b[0m \u001b[31m46.4 MB/s\u001b[0m eta \u001b[36m0:00:00\u001b[0m\n",
      "\u001b[2K     \u001b[90m━━━━━━━━━━━━━━━━━━━━━━━━━━━━━━━━━━━━━━\u001b[0m \u001b[32m238.9/238.9 KB\u001b[0m \u001b[31m27.9 MB/s\u001b[0m eta \u001b[36m0:00:00\u001b[0m\n",
      "\u001b[2K     \u001b[90m━━━━━━━━━━━━━━━━━━━━━━━━━━━━━━━━━━━━━━━━\u001b[0m \u001b[32m1.3/1.3 MB\u001b[0m \u001b[31m73.3 MB/s\u001b[0m eta \u001b[36m0:00:00\u001b[0m\n",
      "\u001b[2K     \u001b[90m━━━━━━━━━━━━━━━━━━━━━━━━━━━━━━━━━━━━━━━━\u001b[0m \u001b[32m1.1/1.1 MB\u001b[0m \u001b[31m66.6 MB/s\u001b[0m eta \u001b[36m0:00:00\u001b[0m\n",
      "\u001b[2K     \u001b[90m━━━━━━━━━━━━━━━━━━━━━━━━━━━━━━━━━━━━━━\u001b[0m \u001b[32m662.4/662.4 KB\u001b[0m \u001b[31m55.1 MB/s\u001b[0m eta \u001b[36m0:00:00\u001b[0m\n",
      "\u001b[?25h  Building wheel for seqeval (setup.py) ... \u001b[?25l\u001b[?25hdone\n"
     ]
    }
   ],
   "source": [
    "# For creating AdamW optimizer\n",
    "!pip install -q tf-models-official==2.11.0"
   ]
  },
  {
   "cell_type": "code",
   "execution_count": null,
   "metadata": {
    "id": "iQe_Yx3OG4yr"
   },
   "outputs": [],
   "source": [
    "# Install libraries required for this notebook\n",
    "import numpy as np\n",
    "import pandas as pd\n",
    "import matplotlib.pyplot as plt\n",
    "import seaborn as sns\n",
    "from sklearn.model_selection import train_test_split\n",
    "sns.set(style='darkgrid', palette='muted')\n",
    "pd.set_option('display.max_colwidth', None)\n",
    "\n",
    "import tensorflow as tf\n",
    "import keras_tuner as kt\n",
    "import tensorflow_hub as hub\n",
    "import tensorflow_text as text\n",
    "from tensorflow.keras import models, layers\n",
    "from tensorflow.keras.layers import Embedding, Conv1D, MaxPooling1D, GlobalMaxPooling1D, Dense, Input, Dropout, BatchNormalization\n",
    "from tensorflow.keras.models import Model\n",
    "from tensorflow.keras.optimizers import Adam\n",
    "from tensorflow.keras.preprocessing.sequence import pad_sequences\n",
    "from tensorflow.keras.preprocessing.text import Tokenizer\n",
    "from tensorflow.keras.callbacks import ModelCheckpoint\n",
    "from official.nlp import optimization"
   ]
  },
  {
   "cell_type": "code",
   "execution_count": null,
   "metadata": {
    "id": "0XD910UMQgni"
   },
   "outputs": [],
   "source": [
    "# Load the dataset into a dataframe\n",
    "df = pd.read_csv('/content/dataset.csv')"
   ]
  },
  {
   "cell_type": "code",
   "execution_count": null,
   "metadata": {
    "colab": {
     "base_uri": "https://localhost:8080/",
     "height": 206
    },
    "id": "M_L7Maaeeb2w",
    "outputId": "336ebb29-0a93-4d85-d28d-fdd935446051"
   },
   "outputs": [
    {
     "data": {
      "text/html": [
       "\n",
       "  <div id=\"df-5f075728-e581-4fb0-9430-4797f3578e10\">\n",
       "    <div class=\"colab-df-container\">\n",
       "      <div>\n",
       "<style scoped>\n",
       "    .dataframe tbody tr th:only-of-type {\n",
       "        vertical-align: middle;\n",
       "    }\n",
       "\n",
       "    .dataframe tbody tr th {\n",
       "        vertical-align: top;\n",
       "    }\n",
       "\n",
       "    .dataframe thead th {\n",
       "        text-align: right;\n",
       "    }\n",
       "</style>\n",
       "<table border=\"1\" class=\"dataframe\">\n",
       "  <thead>\n",
       "    <tr style=\"text-align: right;\">\n",
       "      <th></th>\n",
       "      <th>text</th>\n",
       "      <th>humor</th>\n",
       "    </tr>\n",
       "  </thead>\n",
       "  <tbody>\n",
       "    <tr>\n",
       "      <th>123386</th>\n",
       "      <td>How can you tell when a jew is pissed? they begin menschstrating</td>\n",
       "      <td>True</td>\n",
       "    </tr>\n",
       "    <tr>\n",
       "      <th>140699</th>\n",
       "      <td>Epa carbon standards and iowa: breezing past proposed goals</td>\n",
       "      <td>False</td>\n",
       "    </tr>\n",
       "    <tr>\n",
       "      <th>59974</th>\n",
       "      <td>Alan rickman has passed away. he was going through a bad spell.</td>\n",
       "      <td>True</td>\n",
       "    </tr>\n",
       "    <tr>\n",
       "      <th>16888</th>\n",
       "      <td>You live in your body, not your doctor -- part i</td>\n",
       "      <td>False</td>\n",
       "    </tr>\n",
       "    <tr>\n",
       "      <th>142166</th>\n",
       "      <td>How are hanging upside-down and getting a boner alike? all the blood goes to your head.</td>\n",
       "      <td>True</td>\n",
       "    </tr>\n",
       "  </tbody>\n",
       "</table>\n",
       "</div>\n",
       "      <button class=\"colab-df-convert\" onclick=\"convertToInteractive('df-5f075728-e581-4fb0-9430-4797f3578e10')\"\n",
       "              title=\"Convert this dataframe to an interactive table.\"\n",
       "              style=\"display:none;\">\n",
       "        \n",
       "  <svg xmlns=\"http://www.w3.org/2000/svg\" height=\"24px\"viewBox=\"0 0 24 24\"\n",
       "       width=\"24px\">\n",
       "    <path d=\"M0 0h24v24H0V0z\" fill=\"none\"/>\n",
       "    <path d=\"M18.56 5.44l.94 2.06.94-2.06 2.06-.94-2.06-.94-.94-2.06-.94 2.06-2.06.94zm-11 1L8.5 8.5l.94-2.06 2.06-.94-2.06-.94L8.5 2.5l-.94 2.06-2.06.94zm10 10l.94 2.06.94-2.06 2.06-.94-2.06-.94-.94-2.06-.94 2.06-2.06.94z\"/><path d=\"M17.41 7.96l-1.37-1.37c-.4-.4-.92-.59-1.43-.59-.52 0-1.04.2-1.43.59L10.3 9.45l-7.72 7.72c-.78.78-.78 2.05 0 2.83L4 21.41c.39.39.9.59 1.41.59.51 0 1.02-.2 1.41-.59l7.78-7.78 2.81-2.81c.8-.78.8-2.07 0-2.86zM5.41 20L4 18.59l7.72-7.72 1.47 1.35L5.41 20z\"/>\n",
       "  </svg>\n",
       "      </button>\n",
       "      \n",
       "  <style>\n",
       "    .colab-df-container {\n",
       "      display:flex;\n",
       "      flex-wrap:wrap;\n",
       "      gap: 12px;\n",
       "    }\n",
       "\n",
       "    .colab-df-convert {\n",
       "      background-color: #E8F0FE;\n",
       "      border: none;\n",
       "      border-radius: 50%;\n",
       "      cursor: pointer;\n",
       "      display: none;\n",
       "      fill: #1967D2;\n",
       "      height: 32px;\n",
       "      padding: 0 0 0 0;\n",
       "      width: 32px;\n",
       "    }\n",
       "\n",
       "    .colab-df-convert:hover {\n",
       "      background-color: #E2EBFA;\n",
       "      box-shadow: 0px 1px 2px rgba(60, 64, 67, 0.3), 0px 1px 3px 1px rgba(60, 64, 67, 0.15);\n",
       "      fill: #174EA6;\n",
       "    }\n",
       "\n",
       "    [theme=dark] .colab-df-convert {\n",
       "      background-color: #3B4455;\n",
       "      fill: #D2E3FC;\n",
       "    }\n",
       "\n",
       "    [theme=dark] .colab-df-convert:hover {\n",
       "      background-color: #434B5C;\n",
       "      box-shadow: 0px 1px 3px 1px rgba(0, 0, 0, 0.15);\n",
       "      filter: drop-shadow(0px 1px 2px rgba(0, 0, 0, 0.3));\n",
       "      fill: #FFFFFF;\n",
       "    }\n",
       "  </style>\n",
       "\n",
       "      <script>\n",
       "        const buttonEl =\n",
       "          document.querySelector('#df-5f075728-e581-4fb0-9430-4797f3578e10 button.colab-df-convert');\n",
       "        buttonEl.style.display =\n",
       "          google.colab.kernel.accessAllowed ? 'block' : 'none';\n",
       "\n",
       "        async function convertToInteractive(key) {\n",
       "          const element = document.querySelector('#df-5f075728-e581-4fb0-9430-4797f3578e10');\n",
       "          const dataTable =\n",
       "            await google.colab.kernel.invokeFunction('convertToInteractive',\n",
       "                                                     [key], {});\n",
       "          if (!dataTable) return;\n",
       "\n",
       "          const docLinkHtml = 'Like what you see? Visit the ' +\n",
       "            '<a target=\"_blank\" href=https://colab.research.google.com/notebooks/data_table.ipynb>data table notebook</a>'\n",
       "            + ' to learn more about interactive tables.';\n",
       "          element.innerHTML = '';\n",
       "          dataTable['output_type'] = 'display_data';\n",
       "          await google.colab.output.renderOutput(dataTable, element);\n",
       "          const docLink = document.createElement('div');\n",
       "          docLink.innerHTML = docLinkHtml;\n",
       "          element.appendChild(docLink);\n",
       "        }\n",
       "      </script>\n",
       "    </div>\n",
       "  </div>\n",
       "  "
      ],
      "text/plain": [
       "                                                                                           text  \\\n",
       "123386                         How can you tell when a jew is pissed? they begin menschstrating   \n",
       "140699                              Epa carbon standards and iowa: breezing past proposed goals   \n",
       "59974                           Alan rickman has passed away. he was going through a bad spell.   \n",
       "16888                                          You live in your body, not your doctor -- part i   \n",
       "142166  How are hanging upside-down and getting a boner alike? all the blood goes to your head.   \n",
       "\n",
       "        humor  \n",
       "123386   True  \n",
       "140699  False  \n",
       "59974    True  \n",
       "16888   False  \n",
       "142166   True  "
      ]
     },
     "execution_count": 6,
     "metadata": {},
     "output_type": "execute_result"
    }
   ],
   "source": [
    "# Check what the dataset looks like \n",
    "df.sample (5)"
   ]
  },
  {
   "cell_type": "markdown",
   "metadata": {
    "id": "sI7xwFom9Pje"
   },
   "source": [
    "#### (2) Choosing a measure of success"
   ]
  },
  {
   "cell_type": "markdown",
   "metadata": {
    "id": "kFZoKLAl9aK0"
   },
   "source": [
    "This project deals with a binary classification problem. There are a few metrics that can be used to measure the performance of the models.\n",
    "\n",
    "1. **Accuracy** : the percentage of correct predictions out of all predictions. \n",
    "  \n",
    "  \n",
    "  Accuracy is a good choice when the  classes are balanced and the cost of misclassifying either class is roughly the same.\n",
    "  \n",
    "\n",
    "2. **Precision** : the proportion of true positive predictions out of all positive predictions. \n",
    "  \n",
    "  \n",
    "  Precision is an informative indicator when the cost of a false positive is high.\n",
    "\n",
    "3. **Recall**: the proportion of true positive predictions out of all actual positive instances. \n",
    "  \n",
    "  \n",
    "  Precision is an informative indicator when the cost of a false negative is high.\n",
    "\n",
    "\n",
    "4. **F1** **score**: the harmonic mean of precision and recall. It can provide a balanced measure between the two. \n",
    "  \n",
    "  \n",
    "  F1-score is a good choice when both false positives and false negatives have significant costs.\n",
    "\n",
    "5. **AUC-ROC**\n",
    " \n",
    " \n",
    " This indicator measures area under the Receiver Operating Characteristic (ROC) curve, which plots the True Positive Rate (TPR) against the False Positive Rate (FPR) for different classification thresholds. AUC-ROC is a good choice when the dataset is imbalanced and the cost of misclassifying either class is different.\n",
    "\n",
    "\n",
    "\n",
    "This project uses **accuracy** to measure the success of the models because (1) the dataset is balanced (see the cells below), and (2) there is no difference in cost of misclassifying. "
   ]
  },
  {
   "cell_type": "code",
   "execution_count": null,
   "metadata": {
    "colab": {
     "base_uri": "https://localhost:8080/"
    },
    "id": "mN-O2LplIkTX",
    "outputId": "b0e44678-1cf2-47a0-d4d7-7075e989cd32"
   },
   "outputs": [
    {
     "data": {
      "text/plain": [
       "False    100000\n",
       "True     100000\n",
       "Name: humor, dtype: int64"
      ]
     },
     "execution_count": 7,
     "metadata": {},
     "output_type": "execute_result"
    }
   ],
   "source": [
    "# The dataset is equally distributed in individual classes\n",
    "df['humor'].value_counts()"
   ]
  },
  {
   "cell_type": "markdown",
   "metadata": {
    "id": "gRa8VJOwFUu_"
   },
   "source": [
    "#### (3) Deciding on an evaluation protocol"
   ]
  },
  {
   "cell_type": "markdown",
   "metadata": {
    "id": "hoNzSmw1FU4w"
   },
   "source": [
    "A validation set is a subset of data that is utilized to assess a machine learning model during the training process. Its primary purpose is to fine-tune the model's hyperparameters, evaluate its performance on new and unseen data, and prevent overfitting. The validation set is a critical component in the development and evaluation of machine learning models, as it ensures that the model can generalize to novel data.\n",
    "\n",
    "There are three standard methods for evaluating models:\n",
    "\n",
    "1. Hold-out validation set: A portion of the data is set aside for validation while the remaining data is used for training.\n",
    "\n",
    "\n",
    "2. K-fold cross-validation: The data is partitioned into k subsets, and the model is trained and validated k times, each time using a different subset for validation.\n",
    "\n",
    "\n",
    "3. Iterated k-fold validation: K-fold cross-validation is repeated multiple times to improve the robustness of the evaluation.\n",
    "\n",
    "In this project, there is enough data in the dataset. Therefore, the **hold-out validation set** approach is used. The \"**validation_split**\" argument in TensorFlow is used to set aside **20% of the training data for validation purposes.**"
   ]
  },
  {
   "cell_type": "markdown",
   "metadata": {
    "id": "0WFz3T6mJskd"
   },
   "source": [
    "#### (4) Preparing the data"
   ]
  },
  {
   "cell_type": "markdown",
   "metadata": {
    "id": "Afzq34ggPXGp"
   },
   "source": [
    "Both label and text data in the dataframe need to be pre-processed before training. The labels will be converted into a numpy array. Text data will be tokenized first and then feed into a embedding layer later when training the model. "
   ]
  },
  {
   "cell_type": "code",
   "execution_count": null,
   "metadata": {
    "id": "bPmCnq9iO73r"
   },
   "outputs": [],
   "source": [
    "# Convert boolean values in the 'humor' column to binary integers. \n",
    "df['humor'] = df['humor'].apply(lambda x: {True:1, False:0}.get(x))\n",
    "\n",
    "# Assign the modified 'humor' column to a new variable labels\n",
    "labels = df['humor']\n",
    "\n",
    "# Convert labels to a numpy array of float values\n",
    "labels = np.array([float(j) for j in labels])"
   ]
  },
  {
   "cell_type": "code",
   "execution_count": null,
   "metadata": {
    "id": "hMj8KnRxRB03"
   },
   "outputs": [],
   "source": [
    "# Create a Tokenizer object that converts raw text data into sequences of words or tokens.\n",
    "t = Tokenizer()\n",
    "\n",
    "# Fit the tokenizer on the text data\n",
    "t.fit_on_texts(np.array(df['text']))\n",
    "\n",
    "# Calculate the size of the vocabulary by getting the length of the word index\n",
    "vocab_size = len(t.word_index) + 1\n",
    "\n",
    "# Set the maximum length of the sequence of words to 70 \n",
    "# If a sequence is longer than this, it will be truncated. \n",
    "# If it is shorter, it will be padded with zeroes.\n",
    "maxlen=70\n",
    "\n",
    "texts = np.array(df['text'])\n",
    "\n",
    "# Conver the text variable to a sequence of word indices \n",
    "texts = t.texts_to_sequences(texts)\n",
    "\n",
    "# Iterate over each element in texts\n",
    "# If the length of the sequence is greater than maxlen, the sequence is truncated to a length of maxlen.\n",
    "for x in range(len(texts)):\n",
    "    if len(texts[x])>maxlen:\n",
    "        texts[x]=texts[x][:maxlen]\n",
    "\n",
    "# Pad the sequences with zeroes up to the maximum sequence length of maxlen \n",
    "texts = pad_sequences(texts, maxlen=maxlen, dtype='float', padding='post', value=0.0)"
   ]
  },
  {
   "cell_type": "code",
   "execution_count": null,
   "metadata": {
    "id": "03_QpD0OO2Rc"
   },
   "outputs": [],
   "source": [
    "# Split the dataset and 20% of the data is reserved for testing.\n",
    "x_train, x_test, y_train, y_test = train_test_split(texts, labels, test_size=0.2, random_state=123)"
   ]
  },
  {
   "cell_type": "markdown",
   "metadata": {
    "id": "T6k29NpKWVHR"
   },
   "source": [
    "### 2. Developing a small model with statistical power"
   ]
  },
  {
   "cell_type": "markdown",
   "metadata": {
    "id": "n2tA0pXDCpxY"
   },
   "source": [
    "- The **goal** of this section is to develop a small model that can **outperform the baseline**.\n",
    "\n",
    "\n",
    "- The **baseline** used in this project is common sense. Given that the dataset is balanced, it means that if one randomly guesses the label of the text, there is 0.5 (1 out of 2 classes) chance that the guess is correct. \n",
    "\n",
    "\n",
    "- To beat the baseline, this model needs to **have an accuracy greater than 0.5.** \n",
    "\n",
    "\n",
    "- Key constituents of building the first working model \n",
    "\n",
    "    a. Last-layer activation: **sigmoid**\n",
    "\n",
    "    The sigmoid function is commonly used as the last-layer activation function for binary classification. It maps the output to a probability score between 0 and 1, making it suitable for binary classification tasks where the goal is to predict the probability of the positive class.\n",
    "\n",
    "    b. Loss function: **Binary_ crossentropy**\n",
    "    \n",
    "    Binary crossentropy measures the dissimilarity between the predicted probability distribution and the true probability distribution of the binary outcome.\n",
    "\n",
    "    C. Optimization configuration: **Adam, learning rate 0.001**\n",
    "    \n",
    "    The default learning rate (0.001) is utilized alongside the optimizer Adam. This method is a combination of two popular optimization techniques: AdaGrad, which is effective for handling sparse gradients, and RMSProp, which is effective for handling non-stationary objectives (Kingma and Ba, 2017). "
   ]
  },
  {
   "cell_type": "markdown",
   "metadata": {
    "id": "dzHO-_BuiXV9"
   },
   "source": [
    "After preparing the data and selecting key parameters, the model is ready to be built. "
   ]
  },
  {
   "cell_type": "code",
   "execution_count": null,
   "metadata": {
    "id": "mLzF87Td3bL0"
   },
   "outputs": [],
   "source": [
    "def create_cnn_conv1d(layer_configs, learning_rate = 0.001):\n",
    "    \"\"\"\n",
    "    Creates a CNN with Conv1D layers that can have different filters and kernel sizes in each layer.\n",
    "    This function is implemented with Tensorflow functional API\n",
    "\n",
    "    Parameters: \n",
    "\n",
    "    - layer_configs (list): A list of dictionaries, where each dictionary contains the configuration \n",
    "                            of a Conv1D layer. \n",
    "                            Example: [{'filters': 32, 'kernel_size': 3, 'dropout: True},\n",
    "                                      {'filters': 64, 'kernel_size': 5, 'BatchNormalization': True}]\n",
    "    \n",
    "    - learning_rate (float): The learning rate for the Adam optimizer. Default is set to 0.001 \n",
    "\n",
    "    Returns:\n",
    "\n",
    "    - model (keras.Model): The compiled CNN model.\n",
    "\n",
    "    \"\"\"\n",
    "\n",
    "    # Define the input layer\n",
    "    inputs = Input(shape=(maxlen))\n",
    "    \n",
    "    # Creates an embedding layer\n",
    "    # Trainable parameter sets to false for the following reason:\n",
    "    # Setting trainable=True and trainable=False have been experimented by the author. \n",
    "    # Since 1) setting trainable=False did not drastically affect the results 2) there are enough data, \n",
    "    # the author decided not to update the weights of the embedding layer during training\n",
    "    # to make model's trainable parameters smaller and save training time/computational power.\n",
    "    embedding_layer = Embedding(vocab_size, 50,  input_length=maxlen,trainable=False)(inputs)\n",
    "\n",
    "    # Define the first convolutional layer\n",
    "    conv_layer = Conv1D(filters=layer_configs[0]['filters'],\n",
    "                        kernel_size=layer_configs[0]['kernel_size'],\n",
    "                        activation='relu')(embedding_layer)\n",
    "\n",
    "    # Add BatchNormalization layer, if specified\n",
    "    if 'BatchNormalization' in layer_configs[0]:\n",
    "\n",
    "        conv_layer = BatchNormalization()(conv_layer)\n",
    "\n",
    "    # Add a max pooling layer\n",
    "    conv_layer = MaxPooling1D(pool_size=2)(conv_layer)\n",
    "        \n",
    "    # Add a drop out layer, if specified\n",
    "    if 'dropout' in layer_configs[0]:\n",
    "\n",
    "        # Dropout rate is pre-set as 0.5\n",
    "        conv_layer = Dropout(0.5)(conv_layer)\n",
    "\n",
    "    # Add additional convolutional layers, if any\n",
    "\n",
    "    for layer_config in layer_configs [1:]:\n",
    "\n",
    "        conv_layer = Conv1D(filters=layer_config['filters'],\n",
    "                            kernel_size=layer_config['kernel_size'],\n",
    "                            activation='relu',\n",
    "                            )(conv_layer)\n",
    "\n",
    "        # Add BatchNormalization layer, if specified\n",
    "        if 'BatchNormalization' in layer_config:\n",
    "          \n",
    "            conv_layer = BatchNormalization()(conv_layer)\n",
    "\n",
    "        # Add a max pooling layer\n",
    "        conv_layer = MaxPooling1D(pool_size=2)(conv_layer)\n",
    "\n",
    "        # Add max drop out layer, if specified\n",
    "        if 'dropout' in layer_config:\n",
    "\n",
    "            # Dropout rate is pre-set as 0.5\n",
    "            conv_layer = Dropout(0.5)(conv_layer)\n",
    "\n",
    "\n",
    "    # Add global max pooling layer\n",
    "    pooling_layer = GlobalMaxPooling1D()(conv_layer)\n",
    "\n",
    "    # Define the output layer\n",
    "    outputs = Dense(1, activation='sigmoid')(pooling_layer)\n",
    "\n",
    "    # Define the model\n",
    "    model = Model (inputs=inputs, outputs=outputs)\n",
    "\n",
    "    # Compile the model\n",
    "\n",
    "    optimizer = Adam(learning_rate=learning_rate)\n",
    "\n",
    "    model.compile(loss='binary_crossentropy', optimizer=optimizer, metrics=['accuracy'])\n",
    "    \n",
    "    return model"
   ]
  },
  {
   "cell_type": "code",
   "execution_count": null,
   "metadata": {
    "colab": {
     "base_uri": "https://localhost:8080/"
    },
    "id": "OZjTtE2w5BF3",
    "outputId": "5100592a-ffc8-4309-ac49-65ecf006bfc8"
   },
   "outputs": [
    {
     "name": "stdout",
     "output_type": "stream",
     "text": [
      "Model: \"model\"\n",
      "_________________________________________________________________\n",
      " Layer (type)                Output Shape              Param #   \n",
      "=================================================================\n",
      " input_1 (InputLayer)        [(None, 70)]              0         \n",
      "                                                                 \n",
      " embedding (Embedding)       (None, 70, 50)            3867650   \n",
      "                                                                 \n",
      " conv1d (Conv1D)             (None, 68, 4)             604       \n",
      "                                                                 \n",
      " max_pooling1d (MaxPooling1D  (None, 34, 4)            0         \n",
      " )                                                               \n",
      "                                                                 \n",
      " global_max_pooling1d (Globa  (None, 4)                0         \n",
      " lMaxPooling1D)                                                  \n",
      "                                                                 \n",
      " dense (Dense)               (None, 1)                 5         \n",
      "                                                                 \n",
      "=================================================================\n",
      "Total params: 3,868,259\n",
      "Trainable params: 609\n",
      "Non-trainable params: 3,867,650\n",
      "_________________________________________________________________\n",
      "None\n"
     ]
    }
   ],
   "source": [
    "# Set the parameters for the small model\n",
    "block_num_small=1\n",
    "lr_small=0.001\n",
    "block_config_small= [{'filters': 4, 'kernel_size': 3}]\n",
    "\n",
    "# Create a small model\n",
    "model_base=create_cnn_conv1d(block_config_small, lr_small)\n",
    "print (model_base.summary())"
   ]
  },
  {
   "cell_type": "code",
   "execution_count": null,
   "metadata": {
    "colab": {
     "base_uri": "https://localhost:8080/"
    },
    "id": "2c2qKUR-PIyl",
    "outputId": "51febabf-5a61-43c1-87b0-07b68c8f6227"
   },
   "outputs": [
    {
     "name": "stdout",
     "output_type": "stream",
     "text": [
      "Epoch 1/20\n",
      "250/250 [==============================] - 11s 5ms/step - loss: 0.6761 - accuracy: 0.6344 - val_loss: 0.6535 - val_accuracy: 0.6955\n",
      "Epoch 2/20\n",
      "250/250 [==============================] - 1s 3ms/step - loss: 0.6287 - accuracy: 0.7141 - val_loss: 0.6049 - val_accuracy: 0.7189\n",
      "Epoch 3/20\n",
      "250/250 [==============================] - 1s 3ms/step - loss: 0.5830 - accuracy: 0.7288 - val_loss: 0.5644 - val_accuracy: 0.7292\n",
      "Epoch 4/20\n",
      "250/250 [==============================] - 1s 4ms/step - loss: 0.5474 - accuracy: 0.7399 - val_loss: 0.5334 - val_accuracy: 0.7474\n",
      "Epoch 5/20\n",
      "250/250 [==============================] - 1s 3ms/step - loss: 0.5196 - accuracy: 0.7552 - val_loss: 0.5083 - val_accuracy: 0.7606\n",
      "Epoch 6/20\n",
      "250/250 [==============================] - 1s 3ms/step - loss: 0.4975 - accuracy: 0.7671 - val_loss: 0.4891 - val_accuracy: 0.7703\n",
      "Epoch 7/20\n",
      "250/250 [==============================] - 1s 3ms/step - loss: 0.4815 - accuracy: 0.7738 - val_loss: 0.4760 - val_accuracy: 0.7757\n",
      "Epoch 8/20\n",
      "250/250 [==============================] - 1s 3ms/step - loss: 0.4708 - accuracy: 0.7774 - val_loss: 0.4675 - val_accuracy: 0.7784\n",
      "Epoch 9/20\n",
      "250/250 [==============================] - 1s 3ms/step - loss: 0.4637 - accuracy: 0.7791 - val_loss: 0.4614 - val_accuracy: 0.7804\n",
      "Epoch 10/20\n",
      "250/250 [==============================] - 1s 3ms/step - loss: 0.4585 - accuracy: 0.7816 - val_loss: 0.4571 - val_accuracy: 0.7820\n",
      "Epoch 11/20\n",
      "250/250 [==============================] - 1s 3ms/step - loss: 0.4546 - accuracy: 0.7839 - val_loss: 0.4539 - val_accuracy: 0.7847\n",
      "Epoch 12/20\n",
      "250/250 [==============================] - 1s 3ms/step - loss: 0.4514 - accuracy: 0.7856 - val_loss: 0.4507 - val_accuracy: 0.7861\n",
      "Epoch 13/20\n",
      "250/250 [==============================] - 1s 3ms/step - loss: 0.4487 - accuracy: 0.7868 - val_loss: 0.4483 - val_accuracy: 0.7874\n",
      "Epoch 14/20\n",
      "250/250 [==============================] - 1s 3ms/step - loss: 0.4465 - accuracy: 0.7883 - val_loss: 0.4462 - val_accuracy: 0.7886\n",
      "Epoch 15/20\n",
      "250/250 [==============================] - 1s 3ms/step - loss: 0.4445 - accuracy: 0.7897 - val_loss: 0.4448 - val_accuracy: 0.7893\n",
      "Epoch 16/20\n",
      "250/250 [==============================] - 1s 3ms/step - loss: 0.4428 - accuracy: 0.7905 - val_loss: 0.4427 - val_accuracy: 0.7908\n",
      "Epoch 17/20\n",
      "250/250 [==============================] - 1s 3ms/step - loss: 0.4411 - accuracy: 0.7910 - val_loss: 0.4412 - val_accuracy: 0.7922\n",
      "Epoch 18/20\n",
      "250/250 [==============================] - 1s 4ms/step - loss: 0.4396 - accuracy: 0.7923 - val_loss: 0.4399 - val_accuracy: 0.7923\n",
      "Epoch 19/20\n",
      "250/250 [==============================] - 1s 3ms/step - loss: 0.4382 - accuracy: 0.7933 - val_loss: 0.4387 - val_accuracy: 0.7934\n",
      "Epoch 20/20\n",
      "250/250 [==============================] - 1s 3ms/step - loss: 0.4369 - accuracy: 0.7941 - val_loss: 0.4374 - val_accuracy: 0.7944\n"
     ]
    }
   ],
   "source": [
    "# Train for 20 epochs\n",
    "# 20% of the training data is set for validation\n",
    "history_basemodel=model_base.fit(x_train, y_train, validation_split=0.2,epochs=20, verbose=1,batch_size=512)"
   ]
  },
  {
   "cell_type": "markdown",
   "metadata": {
    "id": "efhMqis2kBm-"
   },
   "source": [
    "The **history** object returned by the training process stores the calculated values of loss and accuracy. The visualization of these values can help  monitor the training progress,"
   ]
  },
  {
   "cell_type": "code",
   "execution_count": null,
   "metadata": {
    "id": "i3yVCstB7bXJ"
   },
   "outputs": [],
   "source": [
    "# A function visualizes the loss and accuracy of training and validation during the training process\n",
    "# This function is reused from my first coursework\n",
    "\n",
    "def plot (trained_model, model_category):\n",
    "\n",
    "    history_dict=trained_model.history\n",
    "    loss = history_dict['loss']\n",
    "    val_loss = history_dict['val_loss']\n",
    "    accuracy = history_dict['accuracy']\n",
    "    val_accuracy = history_dict['val_accuracy']\n",
    "    \n",
    "    solid_blue_line = 'b'\n",
    "    solid_red_line = 'r'\n",
    "\n",
    "    epochs = range(1, len(loss) + 1)\n",
    "    \n",
    "    \n",
    "    fig, axs = plt.subplots(sharex=True, figsize=(15,6))\n",
    "\n",
    "    ax1 = plt.subplot2grid((1, 2), (0, 0), colspan=1)\n",
    "    ax1.plot(epochs, loss, solid_blue_line, label = 'training loss')\n",
    "    ax1.plot(epochs, val_loss, solid_red_line, label = 'validation loss')\n",
    "    ax1.set_title('Training and validation loss for {}'.format (model_category))\n",
    "    ax1.set_xlabel('Epoch')\n",
    "    ax1.set_ylabel('Loss')\n",
    "    ax1.legend(loc='center right')\n",
    "\n",
    "    ax2 = plt.subplot2grid((1, 2), (0, 1), colspan=1)\n",
    "    ax2.plot(epochs, accuracy, solid_blue_line, label = 'training accuracy')\n",
    "    ax2.plot(epochs, val_accuracy, solid_red_line, label = 'validation accuracy')\n",
    "    ax2.set_title('Training and validation accuracy for {}'.format (model_category))\n",
    "    ax2.set_xlabel('Epoch')\n",
    "    ax2.set_ylabel('Accuracy')\n",
    "    ax2.legend(loc='center right')\n",
    "\n",
    "    return plt.show()"
   ]
  },
  {
   "cell_type": "code",
   "execution_count": null,
   "metadata": {
    "colab": {
     "base_uri": "https://localhost:8080/",
     "height": 410
    },
    "id": "UyjraXSa7eZF",
    "outputId": "0ddab1a0-ef90-42a6-82d5-3c949ad452dc"
   },
   "outputs": [
    {
     "data": {
      "image/png": "[encoded data removed]",
      "text/plain": [
       "<Figure size 1080x432 with 2 Axes>"
      ]
     },
     "metadata": {},
     "output_type": "display_data"
    }
   ],
   "source": [
    "# Visualize the training process\n",
    "plot (history_basemodel, \"a baseline model\")"
   ]
  },
  {
   "cell_type": "code",
   "execution_count": null,
   "metadata": {
    "colab": {
     "base_uri": "https://localhost:8080/"
    },
    "id": "dai-6ooVPKMK",
    "outputId": "825fd361-e459-40b5-ffa8-c7d5687f0ca7"
   },
   "outputs": [
    {
     "name": "stdout",
     "output_type": "stream",
     "text": [
      "1250/1250 [==============================] - 3s 2ms/step - loss: 0.4440 - accuracy: 0.7906\n",
      "\n",
      "Test accuracy: 0.79\n"
     ]
    }
   ],
   "source": [
    "# Evaluate the model with the test set\n",
    "test_loss_small, test_acc_small= model_base.evaluate(x_test, y_test, verbose=1)\n",
    "print('\\nTest accuracy:', \"%.2f\" % test_acc_small)"
   ]
  },
  {
   "cell_type": "markdown",
   "metadata": {
    "id": "d6yFCGMwkm5s"
   },
   "source": [
    "According to the outcome, the small model has a statistically significant accuracy of 79%, surpassing the common assumption of 50%. The next step would be to scale up the model. "
   ]
  },
  {
   "cell_type": "markdown",
   "metadata": {
    "id": "6A52odkEfp1a"
   },
   "source": [
    "### 3. Scaling up: developing a model that overfits"
   ]
  },
  {
   "cell_type": "markdown",
   "metadata": {
    "id": "VTyb5kmPk9Xk"
   },
   "source": [
    "In the field of machine learning, there is a continual balancing act between enhancing the model's performance on the training data and ensuring that the model can generalize effectively to new, unseen data. While the small model may possess statistical power, it is uncertain whether it is strong enough to meet expectations. The optimal model should have a loss value between underfitting and overfitting (as shown in Figure 2). To determine the point at which a model begins to overfit, it is necessary to first construct an overfitting model.\n",
    "\n",
    "To create an overfitting model, \n",
    "\n",
    "*   additional layers can be added to the model \n",
    "\n",
    "\n",
    "*   each layer has more parameters \n",
    "\n",
    "\n",
    "*   model can be trained with more epochs\n"
   ]
  },
  {
   "cell_type": "code",
   "execution_count": null,
   "metadata": {
    "colab": {
     "base_uri": "https://localhost:8080/"
    },
    "id": "8gvb2CYP5ml6",
    "outputId": "bdf0a286-7886-44e7-d597-340afca8707d"
   },
   "outputs": [
    {
     "name": "stdout",
     "output_type": "stream",
     "text": [
      "Model: \"model_1\"\n",
      "_________________________________________________________________\n",
      " Layer (type)                Output Shape              Param #   \n",
      "=================================================================\n",
      " input_2 (InputLayer)        [(None, 70)]              0         \n",
      "                                                                 \n",
      " embedding_1 (Embedding)     (None, 70, 50)            3867650   \n",
      "                                                                 \n",
      " conv1d_1 (Conv1D)           (None, 68, 128)           19328     \n",
      "                                                                 \n",
      " max_pooling1d_1 (MaxPooling  (None, 34, 128)          0         \n",
      " 1D)                                                             \n",
      "                                                                 \n",
      " conv1d_2 (Conv1D)           (None, 32, 128)           49280     \n",
      "                                                                 \n",
      " max_pooling1d_2 (MaxPooling  (None, 16, 128)          0         \n",
      " 1D)                                                             \n",
      "                                                                 \n",
      " conv1d_3 (Conv1D)           (None, 14, 128)           49280     \n",
      "                                                                 \n",
      " max_pooling1d_3 (MaxPooling  (None, 7, 128)           0         \n",
      " 1D)                                                             \n",
      "                                                                 \n",
      " conv1d_4 (Conv1D)           (None, 5, 128)            49280     \n",
      "                                                                 \n",
      " max_pooling1d_4 (MaxPooling  (None, 2, 128)           0         \n",
      " 1D)                                                             \n",
      "                                                                 \n",
      " global_max_pooling1d_1 (Glo  (None, 128)              0         \n",
      " balMaxPooling1D)                                                \n",
      "                                                                 \n",
      " dense_1 (Dense)             (None, 1)                 129       \n",
      "                                                                 \n",
      "=================================================================\n",
      "Total params: 4,034,947\n",
      "Trainable params: 167,297\n",
      "Non-trainable params: 3,867,650\n",
      "_________________________________________________________________\n",
      "None\n"
     ]
    }
   ],
   "source": [
    "# Set the parameters for the overfitting model\n",
    "block_num_overfit=4\n",
    "\n",
    "lr_overfit=0.001\n",
    "\n",
    "block_config_overfit= [{'filters': 128, 'kernel_size': 3},\n",
    "                       {'filters': 128, 'kernel_size': 3},\n",
    "                       {'filters': 128, 'kernel_size': 3},\n",
    "                       {'filters': 128, 'kernel_size': 3}]\n",
    "\n",
    "# Create an overfit model\n",
    "model_overfit=create_cnn_conv1d(block_config_overfit, lr_overfit)\n",
    "\n",
    "print (model_overfit.summary())"
   ]
  },
  {
   "cell_type": "code",
   "execution_count": null,
   "metadata": {
    "colab": {
     "base_uri": "https://localhost:8080/"
    },
    "id": "C-2HuytujMfi",
    "outputId": "1b69dd90-0c71-49c1-e3b8-087d72c1adf0"
   },
   "outputs": [
    {
     "name": "stdout",
     "output_type": "stream",
     "text": [
      "Epoch 1/50\n",
      "250/250 [==============================] - 5s 7ms/step - loss: 0.4034 - accuracy: 0.8157 - val_loss: 0.2734 - val_accuracy: 0.8887\n",
      "Epoch 2/50\n",
      "250/250 [==============================] - 1s 6ms/step - loss: 0.2552 - accuracy: 0.8980 - val_loss: 0.2402 - val_accuracy: 0.9038\n",
      "Epoch 3/50\n",
      "250/250 [==============================] - 1s 6ms/step - loss: 0.2233 - accuracy: 0.9119 - val_loss: 0.2340 - val_accuracy: 0.9068\n",
      "Epoch 4/50\n",
      "250/250 [==============================] - 1s 6ms/step - loss: 0.1980 - accuracy: 0.9224 - val_loss: 0.2234 - val_accuracy: 0.9112\n",
      "Epoch 5/50\n",
      "250/250 [==============================] - 1s 6ms/step - loss: 0.1851 - accuracy: 0.9282 - val_loss: 0.2297 - val_accuracy: 0.9094\n",
      "Epoch 6/50\n",
      "250/250 [==============================] - 1s 6ms/step - loss: 0.1682 - accuracy: 0.9351 - val_loss: 0.2212 - val_accuracy: 0.9129\n",
      "Epoch 7/50\n",
      "250/250 [==============================] - 1s 6ms/step - loss: 0.1583 - accuracy: 0.9392 - val_loss: 0.2562 - val_accuracy: 0.8985\n",
      "Epoch 8/50\n",
      "250/250 [==============================] - 1s 6ms/step - loss: 0.1474 - accuracy: 0.9440 - val_loss: 0.2336 - val_accuracy: 0.9136\n",
      "Epoch 9/50\n",
      "250/250 [==============================] - 1s 6ms/step - loss: 0.1372 - accuracy: 0.9486 - val_loss: 0.2475 - val_accuracy: 0.9066\n",
      "Epoch 10/50\n",
      "250/250 [==============================] - 1s 6ms/step - loss: 0.1269 - accuracy: 0.9530 - val_loss: 0.2434 - val_accuracy: 0.9124\n",
      "Epoch 11/50\n",
      "250/250 [==============================] - 1s 6ms/step - loss: 0.1160 - accuracy: 0.9578 - val_loss: 0.2503 - val_accuracy: 0.9124\n",
      "Epoch 12/50\n",
      "250/250 [==============================] - 1s 6ms/step - loss: 0.1102 - accuracy: 0.9597 - val_loss: 0.2583 - val_accuracy: 0.9058\n",
      "Epoch 13/50\n",
      "250/250 [==============================] - 1s 6ms/step - loss: 0.1009 - accuracy: 0.9636 - val_loss: 0.2665 - val_accuracy: 0.9092\n",
      "Epoch 14/50\n",
      "250/250 [==============================] - 1s 6ms/step - loss: 0.0901 - accuracy: 0.9684 - val_loss: 0.2843 - val_accuracy: 0.9082\n",
      "Epoch 15/50\n",
      "250/250 [==============================] - 1s 6ms/step - loss: 0.0820 - accuracy: 0.9712 - val_loss: 0.3025 - val_accuracy: 0.9063\n",
      "Epoch 16/50\n",
      "250/250 [==============================] - 1s 6ms/step - loss: 0.0717 - accuracy: 0.9757 - val_loss: 0.3237 - val_accuracy: 0.9039\n",
      "Epoch 17/50\n",
      "250/250 [==============================] - 1s 6ms/step - loss: 0.0668 - accuracy: 0.9777 - val_loss: 0.3333 - val_accuracy: 0.9052\n",
      "Epoch 18/50\n",
      "250/250 [==============================] - 1s 6ms/step - loss: 0.0689 - accuracy: 0.9760 - val_loss: 0.3530 - val_accuracy: 0.9020\n",
      "Epoch 19/50\n",
      "250/250 [==============================] - 1s 6ms/step - loss: 0.0537 - accuracy: 0.9824 - val_loss: 0.3892 - val_accuracy: 0.9033\n",
      "Epoch 20/50\n",
      "250/250 [==============================] - 1s 6ms/step - loss: 0.0478 - accuracy: 0.9848 - val_loss: 0.4027 - val_accuracy: 0.9039\n",
      "Epoch 21/50\n",
      "250/250 [==============================] - 1s 6ms/step - loss: 0.0486 - accuracy: 0.9838 - val_loss: 0.4351 - val_accuracy: 0.8953\n",
      "Epoch 22/50\n",
      "250/250 [==============================] - 1s 6ms/step - loss: 0.0407 - accuracy: 0.9874 - val_loss: 0.4545 - val_accuracy: 0.9006\n",
      "Epoch 23/50\n",
      "250/250 [==============================] - 1s 6ms/step - loss: 0.0357 - accuracy: 0.9891 - val_loss: 0.4634 - val_accuracy: 0.8981\n",
      "Epoch 24/50\n",
      "250/250 [==============================] - 1s 6ms/step - loss: 0.0425 - accuracy: 0.9856 - val_loss: 0.4761 - val_accuracy: 0.9002\n",
      "Epoch 25/50\n",
      "250/250 [==============================] - 1s 6ms/step - loss: 0.0301 - accuracy: 0.9907 - val_loss: 0.5001 - val_accuracy: 0.9008\n",
      "Epoch 26/50\n",
      "250/250 [==============================] - 1s 6ms/step - loss: 0.0379 - accuracy: 0.9878 - val_loss: 0.4855 - val_accuracy: 0.8967\n",
      "Epoch 27/50\n",
      "250/250 [==============================] - 1s 6ms/step - loss: 0.0315 - accuracy: 0.9899 - val_loss: 0.5322 - val_accuracy: 0.8987\n",
      "Epoch 28/50\n",
      "250/250 [==============================] - 1s 6ms/step - loss: 0.0277 - accuracy: 0.9916 - val_loss: 0.4947 - val_accuracy: 0.9013\n",
      "Epoch 29/50\n",
      "250/250 [==============================] - 1s 6ms/step - loss: 0.0273 - accuracy: 0.9915 - val_loss: 0.5471 - val_accuracy: 0.9000\n",
      "Epoch 30/50\n",
      "250/250 [==============================] - 1s 6ms/step - loss: 0.0249 - accuracy: 0.9925 - val_loss: 0.5818 - val_accuracy: 0.8997\n",
      "Epoch 31/50\n",
      "250/250 [==============================] - 1s 6ms/step - loss: 0.0257 - accuracy: 0.9921 - val_loss: 0.5857 - val_accuracy: 0.9004\n",
      "Epoch 32/50\n",
      "250/250 [==============================] - 1s 6ms/step - loss: 0.0255 - accuracy: 0.9920 - val_loss: 0.6759 - val_accuracy: 0.8942\n",
      "Epoch 33/50\n",
      "250/250 [==============================] - 1s 6ms/step - loss: 0.0257 - accuracy: 0.9918 - val_loss: 0.8393 - val_accuracy: 0.8818\n",
      "Epoch 34/50\n",
      "250/250 [==============================] - 1s 6ms/step - loss: 0.0437 - accuracy: 0.9853 - val_loss: 0.5281 - val_accuracy: 0.8980\n",
      "Epoch 35/50\n",
      "250/250 [==============================] - 1s 6ms/step - loss: 0.0177 - accuracy: 0.9951 - val_loss: 0.5874 - val_accuracy: 0.9007\n",
      "Epoch 36/50\n",
      "250/250 [==============================] - 1s 6ms/step - loss: 0.0097 - accuracy: 0.9983 - val_loss: 0.6719 - val_accuracy: 0.9006\n",
      "Epoch 37/50\n",
      "250/250 [==============================] - 1s 6ms/step - loss: 0.0074 - accuracy: 0.9988 - val_loss: 0.6589 - val_accuracy: 0.9003\n",
      "Epoch 38/50\n",
      "250/250 [==============================] - 1s 6ms/step - loss: 0.0064 - accuracy: 0.9990 - val_loss: 0.7068 - val_accuracy: 0.9008\n",
      "Epoch 39/50\n",
      "250/250 [==============================] - 1s 6ms/step - loss: 0.0055 - accuracy: 0.9990 - val_loss: 0.7407 - val_accuracy: 0.9010\n",
      "Epoch 40/50\n",
      "250/250 [==============================] - 1s 6ms/step - loss: 0.0047 - accuracy: 0.9991 - val_loss: 0.7981 - val_accuracy: 0.9004\n",
      "Epoch 41/50\n",
      "250/250 [==============================] - 1s 6ms/step - loss: 0.0308 - accuracy: 0.9921 - val_loss: 0.4827 - val_accuracy: 0.7719\n",
      "Epoch 42/50\n",
      "250/250 [==============================] - 1s 6ms/step - loss: 0.0865 - accuracy: 0.9667 - val_loss: 0.4602 - val_accuracy: 0.9009\n",
      "Epoch 43/50\n",
      "250/250 [==============================] - 1s 6ms/step - loss: 0.0300 - accuracy: 0.9895 - val_loss: 0.4978 - val_accuracy: 0.9002\n",
      "Epoch 44/50\n",
      "250/250 [==============================] - 1s 6ms/step - loss: 0.0291 - accuracy: 0.9898 - val_loss: 0.6027 - val_accuracy: 0.8978\n",
      "Epoch 45/50\n",
      "250/250 [==============================] - 1s 6ms/step - loss: 0.0164 - accuracy: 0.9948 - val_loss: 0.6933 - val_accuracy: 0.8969\n",
      "Epoch 46/50\n",
      "250/250 [==============================] - 1s 6ms/step - loss: 0.0216 - accuracy: 0.9927 - val_loss: 0.6246 - val_accuracy: 0.8991\n",
      "Epoch 47/50\n",
      "250/250 [==============================] - 1s 6ms/step - loss: 0.0179 - accuracy: 0.9942 - val_loss: 0.6877 - val_accuracy: 0.8990\n",
      "Epoch 48/50\n",
      "250/250 [==============================] - 1s 6ms/step - loss: 0.0146 - accuracy: 0.9953 - val_loss: 0.7274 - val_accuracy: 0.8988\n",
      "Epoch 49/50\n",
      "250/250 [==============================] - 1s 6ms/step - loss: 0.0160 - accuracy: 0.9947 - val_loss: 0.8940 - val_accuracy: 0.8825\n",
      "Epoch 50/50\n",
      "250/250 [==============================] - 1s 6ms/step - loss: 0.0241 - accuracy: 0.9914 - val_loss: 0.6622 - val_accuracy: 0.8986\n"
     ]
    }
   ],
   "source": [
    "# Train for more epochs (50)\n",
    "# 20% of the training data is set for validation\n",
    "hisotry_overfit=model_overfit.fit(x_train, y_train, validation_split=0.2,epochs=50, verbose=1,batch_size=512)"
   ]
  },
  {
   "cell_type": "code",
   "execution_count": null,
   "metadata": {
    "colab": {
     "base_uri": "https://localhost:8080/",
     "height": 410
    },
    "id": "P3bZf0iSjP_Q",
    "outputId": "9fee14fd-7c89-4927-ebab-cd3d8948887f"
   },
   "outputs": [
    {
     "data": {
      "image/png": "[encoded data removed]",
      "text/plain": [
       "<Figure size 1080x432 with 2 Axes>"
      ]
     },
     "metadata": {},
     "output_type": "display_data"
    }
   ],
   "source": [
    "# Visualize the training process\n",
    "plot (hisotry_overfit, \"an overfit model\")"
   ]
  },
  {
   "cell_type": "markdown",
   "metadata": {
    "id": "Jm9E_atPnSoR"
   },
   "source": [
    "As the graphs show, the model started overfitting very quickly during training. \n"
   ]
  },
  {
   "cell_type": "code",
   "execution_count": null,
   "metadata": {
    "colab": {
     "base_uri": "https://localhost:8080/"
    },
    "id": "tmkn1i5VAKVI",
    "outputId": "820c34a7-252f-4725-f903-6d2124ccf3d4"
   },
   "outputs": [
    {
     "name": "stdout",
     "output_type": "stream",
     "text": [
      "1250/1250 [==============================] - 4s 3ms/step - loss: 0.6405 - accuracy: 0.9009\n",
      "\n",
      "Test accuracy: 0.90\n"
     ]
    }
   ],
   "source": [
    "# Evaluate the model \n",
    "test_loss_overfit, test_acc_overfit = model_overfit.evaluate(x_test, y_test, verbose=1)\n",
    "print('\\nTest accuracy:', \"%.2f\" % test_acc_overfit)"
   ]
  },
  {
   "cell_type": "code",
   "execution_count": null,
   "metadata": {
    "colab": {
     "base_uri": "https://localhost:8080/",
     "height": 112
    },
    "id": "Jji8D9tijwkT",
    "outputId": "fa79ee46-f9c1-4e93-a4d6-c99cb0bced8a"
   },
   "outputs": [
    {
     "data": {
      "text/html": [
       "\n",
       "  <div id=\"df-f3813756-048b-4957-8ec8-cae8fa50b288\">\n",
       "    <div class=\"colab-df-container\">\n",
       "      <div>\n",
       "<style scoped>\n",
       "    .dataframe tbody tr th:only-of-type {\n",
       "        vertical-align: middle;\n",
       "    }\n",
       "\n",
       "    .dataframe tbody tr th {\n",
       "        vertical-align: top;\n",
       "    }\n",
       "\n",
       "    .dataframe thead th {\n",
       "        text-align: right;\n",
       "    }\n",
       "</style>\n",
       "<table border=\"1\" class=\"dataframe\">\n",
       "  <thead>\n",
       "    <tr style=\"text-align: right;\">\n",
       "      <th></th>\n",
       "      <th>Test loss</th>\n",
       "      <th>Test accuracy</th>\n",
       "    </tr>\n",
       "  </thead>\n",
       "  <tbody>\n",
       "    <tr>\n",
       "      <th>Small model</th>\n",
       "      <td>0.44</td>\n",
       "      <td>0.79</td>\n",
       "    </tr>\n",
       "    <tr>\n",
       "      <th>Overfitting model</th>\n",
       "      <td>0.64</td>\n",
       "      <td>0.90</td>\n",
       "    </tr>\n",
       "  </tbody>\n",
       "</table>\n",
       "</div>\n",
       "      <button class=\"colab-df-convert\" onclick=\"convertToInteractive('df-f3813756-048b-4957-8ec8-cae8fa50b288')\"\n",
       "              title=\"Convert this dataframe to an interactive table.\"\n",
       "              style=\"display:none;\">\n",
       "        \n",
       "  <svg xmlns=\"http://www.w3.org/2000/svg\" height=\"24px\"viewBox=\"0 0 24 24\"\n",
       "       width=\"24px\">\n",
       "    <path d=\"M0 0h24v24H0V0z\" fill=\"none\"/>\n",
       "    <path d=\"M18.56 5.44l.94 2.06.94-2.06 2.06-.94-2.06-.94-.94-2.06-.94 2.06-2.06.94zm-11 1L8.5 8.5l.94-2.06 2.06-.94-2.06-.94L8.5 2.5l-.94 2.06-2.06.94zm10 10l.94 2.06.94-2.06 2.06-.94-2.06-.94-.94-2.06-.94 2.06-2.06.94z\"/><path d=\"M17.41 7.96l-1.37-1.37c-.4-.4-.92-.59-1.43-.59-.52 0-1.04.2-1.43.59L10.3 9.45l-7.72 7.72c-.78.78-.78 2.05 0 2.83L4 21.41c.39.39.9.59 1.41.59.51 0 1.02-.2 1.41-.59l7.78-7.78 2.81-2.81c.8-.78.8-2.07 0-2.86zM5.41 20L4 18.59l7.72-7.72 1.47 1.35L5.41 20z\"/>\n",
       "  </svg>\n",
       "      </button>\n",
       "      \n",
       "  <style>\n",
       "    .colab-df-container {\n",
       "      display:flex;\n",
       "      flex-wrap:wrap;\n",
       "      gap: 12px;\n",
       "    }\n",
       "\n",
       "    .colab-df-convert {\n",
       "      background-color: #E8F0FE;\n",
       "      border: none;\n",
       "      border-radius: 50%;\n",
       "      cursor: pointer;\n",
       "      display: none;\n",
       "      fill: #1967D2;\n",
       "      height: 32px;\n",
       "      padding: 0 0 0 0;\n",
       "      width: 32px;\n",
       "    }\n",
       "\n",
       "    .colab-df-convert:hover {\n",
       "      background-color: #E2EBFA;\n",
       "      box-shadow: 0px 1px 2px rgba(60, 64, 67, 0.3), 0px 1px 3px 1px rgba(60, 64, 67, 0.15);\n",
       "      fill: #174EA6;\n",
       "    }\n",
       "\n",
       "    [theme=dark] .colab-df-convert {\n",
       "      background-color: #3B4455;\n",
       "      fill: #D2E3FC;\n",
       "    }\n",
       "\n",
       "    [theme=dark] .colab-df-convert:hover {\n",
       "      background-color: #434B5C;\n",
       "      box-shadow: 0px 1px 3px 1px rgba(0, 0, 0, 0.15);\n",
       "      filter: drop-shadow(0px 1px 2px rgba(0, 0, 0, 0.3));\n",
       "      fill: #FFFFFF;\n",
       "    }\n",
       "  </style>\n",
       "\n",
       "      <script>\n",
       "        const buttonEl =\n",
       "          document.querySelector('#df-f3813756-048b-4957-8ec8-cae8fa50b288 button.colab-df-convert');\n",
       "        buttonEl.style.display =\n",
       "          google.colab.kernel.accessAllowed ? 'block' : 'none';\n",
       "\n",
       "        async function convertToInteractive(key) {\n",
       "          const element = document.querySelector('#df-f3813756-048b-4957-8ec8-cae8fa50b288');\n",
       "          const dataTable =\n",
       "            await google.colab.kernel.invokeFunction('convertToInteractive',\n",
       "                                                     [key], {});\n",
       "          if (!dataTable) return;\n",
       "\n",
       "          const docLinkHtml = 'Like what you see? Visit the ' +\n",
       "            '<a target=\"_blank\" href=https://colab.research.google.com/notebooks/data_table.ipynb>data table notebook</a>'\n",
       "            + ' to learn more about interactive tables.';\n",
       "          element.innerHTML = '';\n",
       "          dataTable['output_type'] = 'display_data';\n",
       "          await google.colab.output.renderOutput(dataTable, element);\n",
       "          const docLink = document.createElement('div');\n",
       "          docLink.innerHTML = docLinkHtml;\n",
       "          element.appendChild(docLink);\n",
       "        }\n",
       "      </script>\n",
       "    </div>\n",
       "  </div>\n",
       "  "
      ],
      "text/plain": [
       "                   Test loss  Test accuracy\n",
       "Small model             0.44           0.79\n",
       "Overfitting model       0.64           0.90"
      ]
     },
     "execution_count": 89,
     "metadata": {},
     "output_type": "execute_result"
    }
   ],
   "source": [
    "data = {'Test loss': [test_loss_small, test_loss_overfit], \n",
    "        'Test accuracy': [test_acc_small, test_acc_overfit],}\n",
    "df_model_comp=pd.DataFrame(data=data, \n",
    "             index=[\"Small model\", \"Overfitting model\"])\n",
    "df_model_comp.round (2)"
   ]
  },
  {
   "cell_type": "markdown",
   "metadata": {
    "id": "nhcPSe74n9OT"
   },
   "source": [
    "Even though the accuracy is higher than the overfitting model, the loss is also considerably higher. It means that the model's ability to generalisation is lower."
   ]
  },
  {
   "cell_type": "markdown",
   "metadata": {
    "id": "nFImYGI6HU6-"
   },
   "source": [
    "### 4. Tuning the hyperparameters"
   ]
  },
  {
   "cell_type": "markdown",
   "metadata": {
    "id": "rEGsvlDloLjT"
   },
   "source": [
    "The objective of this section is to identify the best combination of hyperparameters for the model. This section will investigate the following hyperparameters: \n",
    "\n",
    "- Number of Conv1D layers\n",
    "\n",
    "\n",
    "- Number of filters in each Conv1D layer\n",
    "\n",
    "\n",
    "- Number of kernel size  for each Conv1D layer \n",
    "\n",
    "\n",
    "- Add a layer of BatchNormalization after Conv1D layer\n",
    "\n",
    "\n",
    "- Add a dropout layer\n",
    "\n",
    "\n",
    "- Different learning rate\n",
    "\n",
    "\n",
    "The search space is defined through the function below."
   ]
  },
  {
   "cell_type": "code",
   "execution_count": null,
   "metadata": {
    "id": "n3T6zuyqUB6W"
   },
   "outputs": [],
   "source": [
    "# Define a function to build the model with hyperparameters\n",
    "# This function is implemented with Tensorflow functional API\n",
    "\n",
    "def build_model(hp):\n",
    "\n",
    "    # Define input shape\n",
    "    inputs = Input(shape=(maxlen))\n",
    "\n",
    "    # Add an Embedding layer\n",
    "    x = Embedding(vocab_size, 50, input_length=maxlen, trainable=False)(inputs)\n",
    "\n",
    "    # Loop over the number of convolutional blocks to add to the model\n",
    "    for i in range(hp.Int('conv_blocks', 1, 4, default=1)):\n",
    "        \n",
    "        # Define the number of filters and kernel size for the convolutional layer \n",
    "        filters = hp.Int('filters_' + str(i), min_value=8,max_value=128,step=2,sampling=\"log\")\n",
    "        kernel_size = hp.Int('kernel_size_' + str(i), 3, 6)\n",
    "\n",
    "        # Add a convolutional layer with ReLU activation and the specified number of filters and kernel size\n",
    "        x = Conv1D(filters=filters, kernel_size=kernel_size, activation='relu')(x)\n",
    "        \n",
    "        # Add Batch Normalization layer if specified \n",
    "        if hp.Boolean('BatchNormalization_'+str(i)):\n",
    "            x=BatchNormalization()(x)\n",
    "\n",
    "        # Add MaxPooling layer\n",
    "        x = MaxPooling1D(pool_size=2)(x)\n",
    "\n",
    "        # Add dropout layer if specified \n",
    "        # The dropout rate is set as 0.5\n",
    "        if hp.Boolean('dropout_' + str(i)):\n",
    "            x = Dropout(0.5)(x)\n",
    "\n",
    "    # Add Global Max Pooling layer\n",
    "    x = GlobalMaxPooling1D()(x)\n",
    "\n",
    "    # Add output layer with sigmoid activation for binary classification\n",
    "    outputs = Dense(1, activation='sigmoid')(x)\n",
    "\n",
    "    # Set the learning rate using a hyperparameter\n",
    "    hp_learning_rate = hp.Choice('learning_rate', values=[1e-3, 1e-4])\n",
    "\n",
    "    # Compile the model with binary cross-entropy loss and accuracy metric\n",
    "    model = Model(inputs=inputs, outputs=outputs)\n",
    "\n",
    "    model.compile(optimizer=tf.keras.optimizers.Adam(learning_rate=hp_learning_rate),\n",
    "                  loss='binary_crossentropy',\n",
    "                  metrics=['accuracy'])\n",
    "\n",
    "    return model\n"
   ]
  },
  {
   "cell_type": "markdown",
   "metadata": {
    "id": "-L8DHUhZs_Dx"
   },
   "source": [
    "Once the search space for hyperparameters is defined, the next step is to configure the tuning methods. While manual search is an option, this project will not consider this approach. \n",
    "\n",
    "TensorFlow provides a few tools for hyperparameter tuning: \n",
    "\n",
    "*   [HParams Dashboard](https://www.tensorflow.org/tensorboard/hyperparameter_tuning_with_hparams)\n",
    "\n",
    " HParams Dashboard provides a way for users to define a set of hyperparameters to optimize their model's performance. The dashboard monitors the model's performance for each configuration in real-time, generating charts and graphs to help users visualize the results. Users can then choose the best-performing hyperparameters for further training and evaluation\n",
    "\n",
    "*   [tfdf.tuner ](https://www.tensorflow.org/decision_forests/api_docs/python/tfdf/tuner)\n",
    "\n",
    " tfdf.tuner is a module in the TensorFlow Decision Forests (TF-DF) library that provides an easy-to-use interface for hyperparameter tuning of decision tree models. It offers multiple algorithms, such as grid search, random search, and Bayesian optimization, for finding the optimal hyperparameters. \n",
    "\n",
    "*   [KerasTuner](https://keras.io/keras_tuner/)\n",
    "\n",
    "  KerasTuner is a library that facilitates users to automate the hyperparameter tuning process for deep learning models. The library offers a flexible and easy-to-use interface for defining search spaces of hyperparameters and finding the optimal combination of hyperparameters for a given model."
   ]
  },
  {
   "cell_type": "markdown",
   "metadata": {
    "id": "2Ws60ldC0SH1"
   },
   "source": [
    "This project uses **KerasTuner** for optimizing hyperparameters because:\n",
    "\n",
    "- HParams Dashboard supports various algorithms and it provides visualization. However, since this project want to explore three algorithms, KerasTuner has an easier interface, considering the search space. \n",
    "\n",
    "- tfdf.tuner does not support hyperband method. It is one of the algorithms that this project will experiment with. \n",
    "\n",
    "This project will tune the hyperparameters with three built-in algorithms provided by KerasTuner: \n",
    "- Random Search \n",
    "- Hyperband\n",
    "- Bayesian Optimization"
   ]
  },
  {
   "cell_type": "markdown",
   "metadata": {
    "id": "9QflAO15eQfN"
   },
   "source": [
    "#### (1) Random search"
   ]
  },
  {
   "cell_type": "markdown",
   "metadata": {
    "id": "K4gdiXXm1yR8"
   },
   "source": [
    "As the quantity of hyperparameters expands, the quantity of conceivable combinations expands exponentially. To address this challenge, the random search algorithm is utilized, which haphazardly chooses different combinations of hyperparameter values and assesses the performance of the model using a validation set for each combination. Studies have indicated that the random search method can enhance models to a similar or even better extent than grid search, but in much less computational time (Bergstra and Bengio, 2012)."
   ]
  },
  {
   "cell_type": "code",
   "execution_count": null,
   "metadata": {
    "id": "MsyOTV59VC20"
   },
   "outputs": [],
   "source": [
    "# Instantiate random search tuner\n",
    "# Objective: find the minimum validation loss\n",
    "# Max trials: 15 model configurations to test at most\n",
    "tuner_random = kt.RandomSearch(\n",
    "    build_model,\n",
    "    objective='val_accuracy',\n",
    "    max_trials=15,\n",
    "    directory='keras_tuner_randomsearch',\n",
    "    project_name='cnn_tuner')"
   ]
  },
  {
   "cell_type": "code",
   "execution_count": null,
   "metadata": {
    "colab": {
     "base_uri": "https://localhost:8080/"
    },
    "id": "EQO4wR2QWYEv",
    "outputId": "d0b073ce-e3f2-460f-def4-c39acc88bda1"
   },
   "outputs": [
    {
     "name": "stdout",
     "output_type": "stream",
     "text": [
      "Search space summary\n",
      "Default search space size: 6\n",
      "conv_blocks (Int)\n",
      "{'default': 1, 'conditions': [], 'min_value': 1, 'max_value': 4, 'step': 1, 'sampling': 'linear'}\n",
      "filters_0 (Int)\n",
      "{'default': None, 'conditions': [], 'min_value': 8, 'max_value': 128, 'step': 2, 'sampling': 'log'}\n",
      "kernel_size_0 (Int)\n",
      "{'default': None, 'conditions': [], 'min_value': 3, 'max_value': 6, 'step': 1, 'sampling': 'linear'}\n",
      "BatchNormalization_0 (Boolean)\n",
      "{'default': False, 'conditions': []}\n",
      "dropout_0 (Boolean)\n",
      "{'default': False, 'conditions': []}\n",
      "learning_rate (Choice)\n",
      "{'default': 0.001, 'conditions': [], 'values': [0.001, 0.0001], 'ordered': True}\n"
     ]
    }
   ],
   "source": [
    "tuner_random.search_space_summary()"
   ]
  },
  {
   "cell_type": "code",
   "execution_count": null,
   "metadata": {
    "id": "DltNmW38Vh7J"
   },
   "outputs": [],
   "source": [
    "# Early stopping is called when validation loss does not improve in 3 epochs to speed the tuning process\n",
    "callback = tf.keras.callbacks.EarlyStopping(monitor='val_loss', patience=3)"
   ]
  },
  {
   "cell_type": "code",
   "execution_count": null,
   "metadata": {
    "colab": {
     "base_uri": "https://localhost:8080/"
    },
    "id": "EGXwEsJgVR_v",
    "outputId": "c12aa7f2-b97e-46b8-d2e1-27243c3939c7"
   },
   "outputs": [
    {
     "name": "stdout",
     "output_type": "stream",
     "text": [
      "Trial 15 Complete [00h 02m 56s]\n",
      "val_accuracy: 0.9043750166893005\n",
      "\n",
      "Best val_accuracy So Far: 0.9129375219345093\n",
      "Total elapsed time: 01h 09m 55s\n"
     ]
    }
   ],
   "source": [
    "# Run the hyperparameter search\n",
    "# Include a callback to stop training early\n",
    "tuner_random.search(x_train, y_train, epochs=20, validation_split=0.2,callbacks=[callback])"
   ]
  },
  {
   "cell_type": "code",
   "execution_count": null,
   "metadata": {
    "id": "AtP_K6B9VqHw"
   },
   "outputs": [],
   "source": [
    "# Get the optimal combination of hyperparameters \n",
    "best_hps_randomsearch = tuner_random.get_best_hyperparameters()[0]"
   ]
  },
  {
   "cell_type": "code",
   "execution_count": null,
   "metadata": {
    "id": "YkqTdm5hoQ4s"
   },
   "outputs": [],
   "source": [
    "# Write a helper function retrieving trainable parameters in the model\n",
    "# It can be used for comparing different model architectures later\n",
    "def retrieve_trainable_params (model):\n",
    "    \"\"\"\n",
    "    Calculates the number of trainable parameters in a TensorFlow model.\n",
    "\n",
    "    Parameters: \n",
    "    - model: A TensorFlow model object.\n",
    "\n",
    "    Returns:\n",
    "    - An integer representing the number of trainable parameters in the model.\n",
    "    \"\"\"\n",
    "    trainable_params = sum([tf.keras.backend.count_params(w) for w in model.trainable_variables])\n",
    "    return trainable_params"
   ]
  },
  {
   "cell_type": "code",
   "execution_count": null,
   "metadata": {
    "id": "52DU_07zJwAv"
   },
   "outputs": [],
   "source": [
    "def get_hp_param (besthp):\n",
    "    \"\"\"\n",
    "    Builds a CNN using besthp to return the details about the model structure, including number of layer,\n",
    "    learning rate, layer configurations and trainable parameters\n",
    "\n",
    "    Parameters: \n",
    "    - besthp: A dictionary containing hyperparameters for the model.\n",
    "\n",
    "    Returns:\n",
    "    - A tuple containing the number of convolutional blocks, learning rate, a list of layer configurations,\n",
    "      and the number of trainable parameters in the resulting model.\n",
    "    \"\"\"\n",
    "\n",
    "    layers_fig=[]\n",
    "    num_layer=besthp.get('conv_blocks')\n",
    "    learning_rate=besthp.get('learning_rate')\n",
    "    \n",
    "    # Create an empty dictionary for each convolutional block.\n",
    "    for block in range (0,num_layer): \n",
    "        layers_fig.append({})\n",
    "\n",
    "    # Extract hyperparameters for each layer in each convolutional block\n",
    "    for i in range (0,num_layer):\n",
    "        filters= besthp.get(f'filters_{i}')\n",
    "        kernel_size= besthp.get(f'kernel_size_{i}')\n",
    "        dropout=besthp.get(f'dropout_{i}')\n",
    "        BatchNormalization=besthp.get(f'BatchNormalization_{i}')\n",
    "        layers_fig[i]['filters']=filters\n",
    "        layers_fig[i]['kernel_size']=kernel_size\n",
    "        layers_fig[i]['dropout']=dropout\n",
    "        layers_fig[i]['BatchNormalization']=BatchNormalization\n",
    "    \n",
    "    # Build the CNN using the specified hyperparameters.\n",
    "    model=create_cnn_conv1d (layers_fig, learning_rate)\n",
    "\n",
    "    # Calculate the number of trainable parameters in the model.\n",
    "    trainable_params=retrieve_trainable_params(model)\n",
    "\n",
    "    # Return the relevant information about the resulting model.\n",
    "    return num_layer, learning_rate, layers_fig, trainable_params"
   ]
  },
  {
   "cell_type": "code",
   "execution_count": null,
   "metadata": {
    "colab": {
     "base_uri": "https://localhost:8080/"
    },
    "id": "uUJaiWUKbp4-",
    "outputId": "6005bb13-919d-4c9a-edaa-e7753d4e77fb"
   },
   "outputs": [
    {
     "data": {
      "text/plain": [
       "(2,\n",
       " 0.001,\n",
       " [{'filters': 64,\n",
       "   'kernel_size': 5,\n",
       "   'dropout': True,\n",
       "   'BatchNormalization': True},\n",
       "  {'filters': 64,\n",
       "   'kernel_size': 4,\n",
       "   'dropout': False,\n",
       "   'BatchNormalization': True}],\n",
       " 32833)"
      ]
     },
     "execution_count": 32,
     "metadata": {},
     "output_type": "execute_result"
    }
   ],
   "source": [
    "# Take a quick look at the best combination of the hyperparameters\n",
    "best_param_random = get_hp_param(best_hps_randomsearch)\n",
    "best_param_random"
   ]
  },
  {
   "cell_type": "code",
   "execution_count": null,
   "metadata": {
    "id": "1RSyRdyTtbmC"
   },
   "outputs": [],
   "source": [
    "# Build the model with the optimal hyperparameters\n",
    "model_randomsearch= tuner_random.hypermodel.build(best_hps_randomsearch)"
   ]
  },
  {
   "cell_type": "code",
   "execution_count": null,
   "metadata": {
    "colab": {
     "base_uri": "https://localhost:8080/"
    },
    "id": "R6zr7lest050",
    "outputId": "dc86bcf1-383b-43cb-a473-fcdc11736afc"
   },
   "outputs": [
    {
     "name": "stdout",
     "output_type": "stream",
     "text": [
      "Epoch 1/20\n",
      "250/250 [==============================] - 4s 6ms/step - loss: 0.5841 - accuracy: 0.7226 - val_loss: 0.6707 - val_accuracy: 0.5009\n",
      "Epoch 2/20\n",
      "250/250 [==============================] - 1s 5ms/step - loss: 0.4149 - accuracy: 0.8134 - val_loss: 0.4812 - val_accuracy: 0.8010\n",
      "Epoch 3/20\n",
      "250/250 [==============================] - 1s 5ms/step - loss: 0.3606 - accuracy: 0.8451 - val_loss: 0.3400 - val_accuracy: 0.8550\n",
      "Epoch 4/20\n",
      "250/250 [==============================] - 1s 5ms/step - loss: 0.3311 - accuracy: 0.8601 - val_loss: 0.3341 - val_accuracy: 0.8562\n",
      "Epoch 5/20\n",
      "250/250 [==============================] - 1s 5ms/step - loss: 0.3129 - accuracy: 0.8693 - val_loss: 0.2821 - val_accuracy: 0.8817\n",
      "Epoch 6/20\n",
      "250/250 [==============================] - 1s 5ms/step - loss: 0.2981 - accuracy: 0.8772 - val_loss: 0.2639 - val_accuracy: 0.8924\n",
      "Epoch 7/20\n",
      "250/250 [==============================] - 1s 5ms/step - loss: 0.2856 - accuracy: 0.8824 - val_loss: 0.2569 - val_accuracy: 0.8956\n",
      "Epoch 8/20\n",
      "250/250 [==============================] - 1s 5ms/step - loss: 0.2782 - accuracy: 0.8861 - val_loss: 0.2527 - val_accuracy: 0.8974\n",
      "Epoch 9/20\n",
      "250/250 [==============================] - 1s 5ms/step - loss: 0.2737 - accuracy: 0.8876 - val_loss: 0.2479 - val_accuracy: 0.9015\n",
      "Epoch 10/20\n",
      "250/250 [==============================] - 1s 5ms/step - loss: 0.2666 - accuracy: 0.8918 - val_loss: 0.2503 - val_accuracy: 0.8976\n",
      "Epoch 11/20\n",
      "250/250 [==============================] - 1s 5ms/step - loss: 0.2617 - accuracy: 0.8939 - val_loss: 0.2430 - val_accuracy: 0.9042\n",
      "Epoch 12/20\n",
      "250/250 [==============================] - 1s 5ms/step - loss: 0.2566 - accuracy: 0.8950 - val_loss: 0.2377 - val_accuracy: 0.9061\n",
      "Epoch 13/20\n",
      "250/250 [==============================] - 1s 5ms/step - loss: 0.2539 - accuracy: 0.8968 - val_loss: 0.2382 - val_accuracy: 0.9048\n",
      "Epoch 14/20\n",
      "250/250 [==============================] - 1s 5ms/step - loss: 0.2499 - accuracy: 0.8988 - val_loss: 0.2321 - val_accuracy: 0.9072\n",
      "Epoch 15/20\n",
      "250/250 [==============================] - 1s 5ms/step - loss: 0.2453 - accuracy: 0.9010 - val_loss: 0.2311 - val_accuracy: 0.9083\n",
      "Epoch 16/20\n",
      "250/250 [==============================] - 1s 5ms/step - loss: 0.2431 - accuracy: 0.9022 - val_loss: 0.2324 - val_accuracy: 0.9071\n",
      "Epoch 17/20\n",
      "250/250 [==============================] - 1s 5ms/step - loss: 0.2423 - accuracy: 0.9023 - val_loss: 0.2290 - val_accuracy: 0.9087\n",
      "Epoch 18/20\n",
      "250/250 [==============================] - 1s 5ms/step - loss: 0.2372 - accuracy: 0.9037 - val_loss: 0.2256 - val_accuracy: 0.9116\n",
      "Epoch 19/20\n",
      "250/250 [==============================] - 1s 5ms/step - loss: 0.2360 - accuracy: 0.9043 - val_loss: 0.2323 - val_accuracy: 0.9064\n",
      "Epoch 20/20\n",
      "250/250 [==============================] - 1s 5ms/step - loss: 0.2316 - accuracy: 0.9073 - val_loss: 0.2310 - val_accuracy: 0.9069\n"
     ]
    }
   ],
   "source": [
    "# Train the model \n",
    "history_tuned_randomsearch = model_randomsearch.fit(x_train, y_train, epochs=20, validation_split=0.2, batch_size= 512, callbacks=[callback])"
   ]
  },
  {
   "cell_type": "code",
   "execution_count": null,
   "metadata": {
    "colab": {
     "base_uri": "https://localhost:8080/"
    },
    "id": "NXzCkXeOugJP",
    "outputId": "83c0fcf3-7dd5-469d-d7fe-74ea5705ecab"
   },
   "outputs": [
    {
     "name": "stdout",
     "output_type": "stream",
     "text": [
      "1250/1250 - 3s - loss: 0.2314 - accuracy: 0.9072 - 3s/epoch - 2ms/step\n"
     ]
    }
   ],
   "source": [
    "# Evaluate the tuned model with the test set\n",
    "test_randomsearch = model_randomsearch.evaluate(x_test,  y_test , verbose=2)"
   ]
  },
  {
   "cell_type": "code",
   "execution_count": null,
   "metadata": {
    "colab": {
     "base_uri": "https://localhost:8080/",
     "height": 143
    },
    "id": "-0p0E63-66ND",
    "outputId": "de0e5397-566d-434b-e243-c5730b86ac77"
   },
   "outputs": [
    {
     "data": {
      "text/html": [
       "\n",
       "  <div id=\"df-9cdaeb5e-6b23-4b86-a501-90c271b205d5\">\n",
       "    <div class=\"colab-df-container\">\n",
       "      <div>\n",
       "<style scoped>\n",
       "    .dataframe tbody tr th:only-of-type {\n",
       "        vertical-align: middle;\n",
       "    }\n",
       "\n",
       "    .dataframe tbody tr th {\n",
       "        vertical-align: top;\n",
       "    }\n",
       "\n",
       "    .dataframe thead th {\n",
       "        text-align: right;\n",
       "    }\n",
       "</style>\n",
       "<table border=\"1\" class=\"dataframe\">\n",
       "  <thead>\n",
       "    <tr style=\"text-align: right;\">\n",
       "      <th></th>\n",
       "      <th>Test loss</th>\n",
       "      <th>Test accuracy</th>\n",
       "    </tr>\n",
       "  </thead>\n",
       "  <tbody>\n",
       "    <tr>\n",
       "      <th>Small model</th>\n",
       "      <td>0.44</td>\n",
       "      <td>0.79</td>\n",
       "    </tr>\n",
       "    <tr>\n",
       "      <th>Overfitting model</th>\n",
       "      <td>0.64</td>\n",
       "      <td>0.90</td>\n",
       "    </tr>\n",
       "    <tr>\n",
       "      <th>Tuned - Random search</th>\n",
       "      <td>0.23</td>\n",
       "      <td>0.91</td>\n",
       "    </tr>\n",
       "  </tbody>\n",
       "</table>\n",
       "</div>\n",
       "      <button class=\"colab-df-convert\" onclick=\"convertToInteractive('df-9cdaeb5e-6b23-4b86-a501-90c271b205d5')\"\n",
       "              title=\"Convert this dataframe to an interactive table.\"\n",
       "              style=\"display:none;\">\n",
       "        \n",
       "  <svg xmlns=\"http://www.w3.org/2000/svg\" height=\"24px\"viewBox=\"0 0 24 24\"\n",
       "       width=\"24px\">\n",
       "    <path d=\"M0 0h24v24H0V0z\" fill=\"none\"/>\n",
       "    <path d=\"M18.56 5.44l.94 2.06.94-2.06 2.06-.94-2.06-.94-.94-2.06-.94 2.06-2.06.94zm-11 1L8.5 8.5l.94-2.06 2.06-.94-2.06-.94L8.5 2.5l-.94 2.06-2.06.94zm10 10l.94 2.06.94-2.06 2.06-.94-2.06-.94-.94-2.06-.94 2.06-2.06.94z\"/><path d=\"M17.41 7.96l-1.37-1.37c-.4-.4-.92-.59-1.43-.59-.52 0-1.04.2-1.43.59L10.3 9.45l-7.72 7.72c-.78.78-.78 2.05 0 2.83L4 21.41c.39.39.9.59 1.41.59.51 0 1.02-.2 1.41-.59l7.78-7.78 2.81-2.81c.8-.78.8-2.07 0-2.86zM5.41 20L4 18.59l7.72-7.72 1.47 1.35L5.41 20z\"/>\n",
       "  </svg>\n",
       "      </button>\n",
       "      \n",
       "  <style>\n",
       "    .colab-df-container {\n",
       "      display:flex;\n",
       "      flex-wrap:wrap;\n",
       "      gap: 12px;\n",
       "    }\n",
       "\n",
       "    .colab-df-convert {\n",
       "      background-color: #E8F0FE;\n",
       "      border: none;\n",
       "      border-radius: 50%;\n",
       "      cursor: pointer;\n",
       "      display: none;\n",
       "      fill: #1967D2;\n",
       "      height: 32px;\n",
       "      padding: 0 0 0 0;\n",
       "      width: 32px;\n",
       "    }\n",
       "\n",
       "    .colab-df-convert:hover {\n",
       "      background-color: #E2EBFA;\n",
       "      box-shadow: 0px 1px 2px rgba(60, 64, 67, 0.3), 0px 1px 3px 1px rgba(60, 64, 67, 0.15);\n",
       "      fill: #174EA6;\n",
       "    }\n",
       "\n",
       "    [theme=dark] .colab-df-convert {\n",
       "      background-color: #3B4455;\n",
       "      fill: #D2E3FC;\n",
       "    }\n",
       "\n",
       "    [theme=dark] .colab-df-convert:hover {\n",
       "      background-color: #434B5C;\n",
       "      box-shadow: 0px 1px 3px 1px rgba(0, 0, 0, 0.15);\n",
       "      filter: drop-shadow(0px 1px 2px rgba(0, 0, 0, 0.3));\n",
       "      fill: #FFFFFF;\n",
       "    }\n",
       "  </style>\n",
       "\n",
       "      <script>\n",
       "        const buttonEl =\n",
       "          document.querySelector('#df-9cdaeb5e-6b23-4b86-a501-90c271b205d5 button.colab-df-convert');\n",
       "        buttonEl.style.display =\n",
       "          google.colab.kernel.accessAllowed ? 'block' : 'none';\n",
       "\n",
       "        async function convertToInteractive(key) {\n",
       "          const element = document.querySelector('#df-9cdaeb5e-6b23-4b86-a501-90c271b205d5');\n",
       "          const dataTable =\n",
       "            await google.colab.kernel.invokeFunction('convertToInteractive',\n",
       "                                                     [key], {});\n",
       "          if (!dataTable) return;\n",
       "\n",
       "          const docLinkHtml = 'Like what you see? Visit the ' +\n",
       "            '<a target=\"_blank\" href=https://colab.research.google.com/notebooks/data_table.ipynb>data table notebook</a>'\n",
       "            + ' to learn more about interactive tables.';\n",
       "          element.innerHTML = '';\n",
       "          dataTable['output_type'] = 'display_data';\n",
       "          await google.colab.output.renderOutput(dataTable, element);\n",
       "          const docLink = document.createElement('div');\n",
       "          docLink.innerHTML = docLinkHtml;\n",
       "          element.appendChild(docLink);\n",
       "        }\n",
       "      </script>\n",
       "    </div>\n",
       "  </div>\n",
       "  "
      ],
      "text/plain": [
       "                       Test loss  Test accuracy\n",
       "Small model                 0.44           0.79\n",
       "Overfitting model           0.64           0.90\n",
       "Tuned - Random search       0.23           0.91"
      ]
     },
     "execution_count": 90,
     "metadata": {},
     "output_type": "execute_result"
    }
   ],
   "source": [
    "df_model_comp.loc['Tuned - Random search']=test_randomsearch\n",
    "df_model_comp.round(2)"
   ]
  },
  {
   "cell_type": "markdown",
   "metadata": {
    "id": "dqHw8fEn7AAG"
   },
   "source": [
    "After the model is tuned, the accuracy improves more than 10% from the small model and the model is also no longer overfitting. "
   ]
  },
  {
   "cell_type": "markdown",
   "metadata": {
    "id": "MHh9LDApRQs4"
   },
   "source": [
    "#### (2) Hyperband"
   ]
  },
  {
   "cell_type": "markdown",
   "metadata": {
    "id": "SnUWHgoX7TYy"
   },
   "source": [
    "Hyperband is an iterative method that combines the principles of random search and successive halving (Li et al., 2018). The algorithm uses random search to explore a wide range of hyperparameter configurations and identify the most promising ones. Then, it applies the successive halving principle to allocate more resources to the promising configurations and eliminate the less promising ones. This process is repeated until only the best hyperparameter configuration is left. "
   ]
  },
  {
   "cell_type": "code",
   "execution_count": null,
   "metadata": {
    "id": "pDt1vr27rbcs"
   },
   "outputs": [],
   "source": [
    "# Instantiate hyperband tuner\n",
    "# objective: find the minimum validation loss (same as random search tuner)\n",
    "# max epochs:  maximum 20 epochs to train\n",
    "# factor: set to default 3, which means that \n",
    "# the number of epochs and number of models will be reduced by a factor of 3 at each iteration.\n",
    "tuner_hyperband = kt.Hyperband(build_model,\n",
    "objective='val_loss',\n",
    "max_epochs=20,\n",
    "factor=3,\n",
    "directory='keras_tuner_hyperband',\n",
    "project_name='cnn_tuner')"
   ]
  },
  {
   "cell_type": "code",
   "execution_count": null,
   "metadata": {
    "colab": {
     "base_uri": "https://localhost:8080/"
    },
    "id": "hfnIb2hZrbkI",
    "outputId": "f2c76289-cdf3-46f1-9384-cf84d899e44d"
   },
   "outputs": [
    {
     "name": "stdout",
     "output_type": "stream",
     "text": [
      "Trial 30 Complete [00h 05m 10s]\n",
      "val_loss: 0.30598270893096924\n",
      "\n",
      "Best val_loss So Far: 0.2225010097026825\n",
      "Total elapsed time: 00h 51m 49s\n"
     ]
    }
   ],
   "source": [
    "# Run the search with the same parameter settting as random search\n",
    "tuner_hyperband.search(x_train,y_train, epochs=20,  validation_split=0.2,\n",
    "             callbacks=[callback])"
   ]
  },
  {
   "cell_type": "code",
   "execution_count": null,
   "metadata": {
    "id": "3Kl8o591rbpS"
   },
   "outputs": [],
   "source": [
    "# Get the optimal combination of hyperparameters \n",
    "best_hps_hyperband=tuner_hyperband.get_best_hyperparameters()[0]"
   ]
  },
  {
   "cell_type": "code",
   "execution_count": null,
   "metadata": {
    "colab": {
     "base_uri": "https://localhost:8080/"
    },
    "id": "Wil-Pwt-LABP",
    "outputId": "a9575c25-3219-49aa-8d41-152d45b3c5cd"
   },
   "outputs": [
    {
     "data": {
      "text/plain": [
       "(4,\n",
       " 0.001,\n",
       " [{'filters': 128,\n",
       "   'kernel_size': 5,\n",
       "   'dropout': False,\n",
       "   'BatchNormalization': False},\n",
       "  {'filters': 128,\n",
       "   'kernel_size': 4,\n",
       "   'dropout': True,\n",
       "   'BatchNormalization': False},\n",
       "  {'filters': 128,\n",
       "   'kernel_size': 6,\n",
       "   'dropout': True,\n",
       "   'BatchNormalization': True},\n",
       "  {'filters': 64,\n",
       "   'kernel_size': 3,\n",
       "   'dropout': False,\n",
       "   'BatchNormalization': False}],\n",
       " 221825)"
      ]
     },
     "execution_count": 41,
     "metadata": {},
     "output_type": "execute_result"
    }
   ],
   "source": [
    "# Take a quick look at the best combination\n",
    "best_param_hyper = get_hp_param (best_hps_hyperband)\n",
    "best_param_hyper"
   ]
  },
  {
   "cell_type": "code",
   "execution_count": null,
   "metadata": {
    "id": "BykD8JMBrbup"
   },
   "outputs": [],
   "source": [
    "# Build the model with the optimal hyperparameters\n",
    "model_tuned_hyperband = tuner_hyperband.hypermodel.build(best_hps_hyperband)"
   ]
  },
  {
   "cell_type": "code",
   "execution_count": null,
   "metadata": {
    "colab": {
     "base_uri": "https://localhost:8080/"
    },
    "id": "20GjGZ_a2q7B",
    "outputId": "100c7f60-5529-459e-d913-329715c40dbb"
   },
   "outputs": [
    {
     "name": "stdout",
     "output_type": "stream",
     "text": [
      "Epoch 1/20\n",
      "250/250 [==============================] - 5s 9ms/step - loss: 0.4214 - accuracy: 0.8034 - val_loss: 0.5525 - val_accuracy: 0.8157\n",
      "Epoch 2/20\n",
      "250/250 [==============================] - 2s 7ms/step - loss: 0.2630 - accuracy: 0.8940 - val_loss: 0.3443 - val_accuracy: 0.8941\n",
      "Epoch 3/20\n",
      "250/250 [==============================] - 2s 7ms/step - loss: 0.2212 - accuracy: 0.9127 - val_loss: 0.3112 - val_accuracy: 0.8640\n",
      "Epoch 4/20\n",
      "250/250 [==============================] - 2s 7ms/step - loss: 0.1955 - accuracy: 0.9239 - val_loss: 0.2521 - val_accuracy: 0.9022\n",
      "Epoch 5/20\n",
      "250/250 [==============================] - 2s 7ms/step - loss: 0.1751 - accuracy: 0.9319 - val_loss: 0.2375 - val_accuracy: 0.9066\n",
      "Epoch 6/20\n",
      "250/250 [==============================] - 2s 6ms/step - loss: 0.1577 - accuracy: 0.9388 - val_loss: 0.2614 - val_accuracy: 0.9010\n",
      "Epoch 7/20\n",
      "250/250 [==============================] - 2s 7ms/step - loss: 0.1432 - accuracy: 0.9442 - val_loss: 0.2673 - val_accuracy: 0.8994\n",
      "Epoch 8/20\n",
      "250/250 [==============================] - 2s 7ms/step - loss: 0.1315 - accuracy: 0.9492 - val_loss: 0.2796 - val_accuracy: 0.8960\n"
     ]
    }
   ],
   "source": [
    "# Train the model\n",
    "history_tuned_hyperband = model_tuned_hyperband.fit(x_train, y_train, epochs=20, validation_split=0.2, batch_size= 512, callbacks=[callback])"
   ]
  },
  {
   "cell_type": "code",
   "execution_count": null,
   "metadata": {
    "colab": {
     "base_uri": "https://localhost:8080/"
    },
    "id": "5PndYKyf2vpD",
    "outputId": "3d22adf0-a412-48b1-a70f-46ef1dee9cb7"
   },
   "outputs": [
    {
     "name": "stdout",
     "output_type": "stream",
     "text": [
      "1250/1250 - 3s - loss: 0.2726 - accuracy: 0.8977 - 3s/epoch - 3ms/step\n"
     ]
    }
   ],
   "source": [
    "# Evaluate the model \n",
    "test_hyperband = model_tuned_hyperband.evaluate(x_test,  y_test , verbose=2)"
   ]
  },
  {
   "cell_type": "code",
   "execution_count": null,
   "metadata": {
    "colab": {
     "base_uri": "https://localhost:8080/",
     "height": 175
    },
    "id": "zosYb78p7DJb",
    "outputId": "c3f5f5d1-7b87-4e79-a8dd-71656b7d9e82"
   },
   "outputs": [
    {
     "data": {
      "text/html": [
       "\n",
       "  <div id=\"df-4cf08bd1-0322-4b9f-bfa2-090c6f233e38\">\n",
       "    <div class=\"colab-df-container\">\n",
       "      <div>\n",
       "<style scoped>\n",
       "    .dataframe tbody tr th:only-of-type {\n",
       "        vertical-align: middle;\n",
       "    }\n",
       "\n",
       "    .dataframe tbody tr th {\n",
       "        vertical-align: top;\n",
       "    }\n",
       "\n",
       "    .dataframe thead th {\n",
       "        text-align: right;\n",
       "    }\n",
       "</style>\n",
       "<table border=\"1\" class=\"dataframe\">\n",
       "  <thead>\n",
       "    <tr style=\"text-align: right;\">\n",
       "      <th></th>\n",
       "      <th>Test loss</th>\n",
       "      <th>Test accuracy</th>\n",
       "    </tr>\n",
       "  </thead>\n",
       "  <tbody>\n",
       "    <tr>\n",
       "      <th>Small model</th>\n",
       "      <td>0.44</td>\n",
       "      <td>0.79</td>\n",
       "    </tr>\n",
       "    <tr>\n",
       "      <th>Overfitting model</th>\n",
       "      <td>0.64</td>\n",
       "      <td>0.90</td>\n",
       "    </tr>\n",
       "    <tr>\n",
       "      <th>Tuned - Random search</th>\n",
       "      <td>0.23</td>\n",
       "      <td>0.91</td>\n",
       "    </tr>\n",
       "    <tr>\n",
       "      <th>Tuned - Hyperband</th>\n",
       "      <td>0.27</td>\n",
       "      <td>0.90</td>\n",
       "    </tr>\n",
       "  </tbody>\n",
       "</table>\n",
       "</div>\n",
       "      <button class=\"colab-df-convert\" onclick=\"convertToInteractive('df-4cf08bd1-0322-4b9f-bfa2-090c6f233e38')\"\n",
       "              title=\"Convert this dataframe to an interactive table.\"\n",
       "              style=\"display:none;\">\n",
       "        \n",
       "  <svg xmlns=\"http://www.w3.org/2000/svg\" height=\"24px\"viewBox=\"0 0 24 24\"\n",
       "       width=\"24px\">\n",
       "    <path d=\"M0 0h24v24H0V0z\" fill=\"none\"/>\n",
       "    <path d=\"M18.56 5.44l.94 2.06.94-2.06 2.06-.94-2.06-.94-.94-2.06-.94 2.06-2.06.94zm-11 1L8.5 8.5l.94-2.06 2.06-.94-2.06-.94L8.5 2.5l-.94 2.06-2.06.94zm10 10l.94 2.06.94-2.06 2.06-.94-2.06-.94-.94-2.06-.94 2.06-2.06.94z\"/><path d=\"M17.41 7.96l-1.37-1.37c-.4-.4-.92-.59-1.43-.59-.52 0-1.04.2-1.43.59L10.3 9.45l-7.72 7.72c-.78.78-.78 2.05 0 2.83L4 21.41c.39.39.9.59 1.41.59.51 0 1.02-.2 1.41-.59l7.78-7.78 2.81-2.81c.8-.78.8-2.07 0-2.86zM5.41 20L4 18.59l7.72-7.72 1.47 1.35L5.41 20z\"/>\n",
       "  </svg>\n",
       "      </button>\n",
       "      \n",
       "  <style>\n",
       "    .colab-df-container {\n",
       "      display:flex;\n",
       "      flex-wrap:wrap;\n",
       "      gap: 12px;\n",
       "    }\n",
       "\n",
       "    .colab-df-convert {\n",
       "      background-color: #E8F0FE;\n",
       "      border: none;\n",
       "      border-radius: 50%;\n",
       "      cursor: pointer;\n",
       "      display: none;\n",
       "      fill: #1967D2;\n",
       "      height: 32px;\n",
       "      padding: 0 0 0 0;\n",
       "      width: 32px;\n",
       "    }\n",
       "\n",
       "    .colab-df-convert:hover {\n",
       "      background-color: #E2EBFA;\n",
       "      box-shadow: 0px 1px 2px rgba(60, 64, 67, 0.3), 0px 1px 3px 1px rgba(60, 64, 67, 0.15);\n",
       "      fill: #174EA6;\n",
       "    }\n",
       "\n",
       "    [theme=dark] .colab-df-convert {\n",
       "      background-color: #3B4455;\n",
       "      fill: #D2E3FC;\n",
       "    }\n",
       "\n",
       "    [theme=dark] .colab-df-convert:hover {\n",
       "      background-color: #434B5C;\n",
       "      box-shadow: 0px 1px 3px 1px rgba(0, 0, 0, 0.15);\n",
       "      filter: drop-shadow(0px 1px 2px rgba(0, 0, 0, 0.3));\n",
       "      fill: #FFFFFF;\n",
       "    }\n",
       "  </style>\n",
       "\n",
       "      <script>\n",
       "        const buttonEl =\n",
       "          document.querySelector('#df-4cf08bd1-0322-4b9f-bfa2-090c6f233e38 button.colab-df-convert');\n",
       "        buttonEl.style.display =\n",
       "          google.colab.kernel.accessAllowed ? 'block' : 'none';\n",
       "\n",
       "        async function convertToInteractive(key) {\n",
       "          const element = document.querySelector('#df-4cf08bd1-0322-4b9f-bfa2-090c6f233e38');\n",
       "          const dataTable =\n",
       "            await google.colab.kernel.invokeFunction('convertToInteractive',\n",
       "                                                     [key], {});\n",
       "          if (!dataTable) return;\n",
       "\n",
       "          const docLinkHtml = 'Like what you see? Visit the ' +\n",
       "            '<a target=\"_blank\" href=https://colab.research.google.com/notebooks/data_table.ipynb>data table notebook</a>'\n",
       "            + ' to learn more about interactive tables.';\n",
       "          element.innerHTML = '';\n",
       "          dataTable['output_type'] = 'display_data';\n",
       "          await google.colab.output.renderOutput(dataTable, element);\n",
       "          const docLink = document.createElement('div');\n",
       "          docLink.innerHTML = docLinkHtml;\n",
       "          element.appendChild(docLink);\n",
       "        }\n",
       "      </script>\n",
       "    </div>\n",
       "  </div>\n",
       "  "
      ],
      "text/plain": [
       "                       Test loss  Test accuracy\n",
       "Small model                 0.44           0.79\n",
       "Overfitting model           0.64           0.90\n",
       "Tuned - Random search       0.23           0.91\n",
       "Tuned - Hyperband           0.27           0.90"
      ]
     },
     "execution_count": 91,
     "metadata": {},
     "output_type": "execute_result"
    }
   ],
   "source": [
    "df_model_comp.loc['Tuned - Hyperband']=test_hyperband\n",
    "df_model_comp.round(2)"
   ]
  },
  {
   "cell_type": "markdown",
   "metadata": {
    "id": "lElwE5Ki8mXu"
   },
   "source": [
    "The performance of this model is not far with the model tuned by the random search."
   ]
  },
  {
   "cell_type": "markdown",
   "metadata": {
    "id": "a5dyG4BbZDvB"
   },
   "source": [
    "#### (3) Bayesian Optimization"
   ]
  },
  {
   "cell_type": "markdown",
   "metadata": {
    "id": "OpD3IZc69J6p"
   },
   "source": [
    "Bayesian optimization is a popular approach to hyperparameter tuning that uses a probabilistic model (i.e., surrogate model) to estimate the objective function's value at untested hyperparameter configurations. This model is constructed based on past evaluations of the objective function and updated as new evaluations become available. This unique feature of Bayesian optimization can make the evaluation of the objective function less expensive, as the surrogate model is used to estimate the objective function's value at untested hyperparameter configurations (Frazier, 2018)"
   ]
  },
  {
   "cell_type": "code",
   "execution_count": null,
   "metadata": {
    "id": "X6bgJGXd3o0v"
   },
   "outputs": [],
   "source": [
    "# Instantiate Bayesian optimization tuner\n",
    "# Objective: find the minimum validation loss\n",
    "# Max trials: 15 model configurations to test at most\n",
    "tuner_BayesianOptimization = kt.BayesianOptimization(\n",
    "    build_model,\n",
    "    objective='val_loss',\n",
    "    max_trials=15 ,\n",
    "    directory='keras_tuner_BayesianOptimization',\n",
    "    project_name='cnn_tuner')"
   ]
  },
  {
   "cell_type": "code",
   "execution_count": null,
   "metadata": {
    "colab": {
     "base_uri": "https://localhost:8080/"
    },
    "id": "ymhXqRdr5U_s",
    "outputId": "53eb6b10-3e7b-43d2-e507-7fd7179d8620"
   },
   "outputs": [
    {
     "name": "stdout",
     "output_type": "stream",
     "text": [
      "Trial 15 Complete [00h 04m 38s]\n",
      "val_loss: 0.42896169424057007\n",
      "\n",
      "Best val_loss So Far: 0.2512047290802002\n",
      "Total elapsed time: 00h 57m 47s\n"
     ]
    }
   ],
   "source": [
    "# Run the search with the same parameter settting as previous two search\n",
    "tuner_BayesianOptimization.search(x_train, y_train , epochs=20,  validation_split=0.2,\n",
    "             callbacks=[callback])"
   ]
  },
  {
   "cell_type": "code",
   "execution_count": null,
   "metadata": {
    "id": "FaOiNYdr5VEQ"
   },
   "outputs": [],
   "source": [
    "# Get the optimal combination of hyperparameters \n",
    "best_hps_BayesianOptimization=tuner_BayesianOptimization.get_best_hyperparameters()[0]"
   ]
  },
  {
   "cell_type": "code",
   "execution_count": null,
   "metadata": {
    "colab": {
     "base_uri": "https://localhost:8080/"
    },
    "id": "sFnxKAD5bsQo",
    "outputId": "7540876d-6a3c-4935-ed6b-5ee41ef8e747"
   },
   "outputs": [
    {
     "data": {
      "text/plain": [
       "(2,\n",
       " 0.001,\n",
       " [{'filters': 64,\n",
       "   'kernel_size': 6,\n",
       "   'dropout': True,\n",
       "   'BatchNormalization': False},\n",
       "  {'filters': 64,\n",
       "   'kernel_size': 4,\n",
       "   'dropout': False,\n",
       "   'BatchNormalization': True}],\n",
       " 36033)"
      ]
     },
     "execution_count": 50,
     "metadata": {},
     "output_type": "execute_result"
    }
   ],
   "source": [
    "# Take a quick look \n",
    "best_param_Bayesian = get_hp_param(best_hps_BayesianOptimization)\n",
    "best_param_Bayesian"
   ]
  },
  {
   "cell_type": "code",
   "execution_count": null,
   "metadata": {
    "id": "QYCHNc3E5VHy"
   },
   "outputs": [],
   "source": [
    "# Build the model with the optimal hyperparameters\n",
    "model_tuned_BayesianOptimization= tuner_BayesianOptimization.hypermodel.build(best_hps_BayesianOptimization)"
   ]
  },
  {
   "cell_type": "code",
   "execution_count": null,
   "metadata": {
    "colab": {
     "base_uri": "https://localhost:8080/"
    },
    "id": "mqGKshE43iZT",
    "outputId": "5b31854d-68ee-4c17-f321-a9c0d75f4031"
   },
   "outputs": [
    {
     "name": "stdout",
     "output_type": "stream",
     "text": [
      "Epoch 1/20\n",
      "250/250 [==============================] - 4s 7ms/step - loss: 0.4612 - accuracy: 0.7811 - val_loss: 0.5930 - val_accuracy: 0.8536\n",
      "Epoch 2/20\n",
      "250/250 [==============================] - 1s 5ms/step - loss: 0.3477 - accuracy: 0.8509 - val_loss: 0.4094 - val_accuracy: 0.8758\n",
      "Epoch 3/20\n",
      "250/250 [==============================] - 1s 5ms/step - loss: 0.3132 - accuracy: 0.8688 - val_loss: 0.2929 - val_accuracy: 0.8850\n",
      "Epoch 4/20\n",
      "250/250 [==============================] - 1s 5ms/step - loss: 0.2940 - accuracy: 0.8777 - val_loss: 0.2791 - val_accuracy: 0.8865\n",
      "Epoch 5/20\n",
      "250/250 [==============================] - 1s 5ms/step - loss: 0.2806 - accuracy: 0.8847 - val_loss: 0.2608 - val_accuracy: 0.8933\n",
      "Epoch 6/20\n",
      "250/250 [==============================] - 1s 5ms/step - loss: 0.2685 - accuracy: 0.8912 - val_loss: 0.2558 - val_accuracy: 0.8988\n",
      "Epoch 7/20\n",
      "250/250 [==============================] - 1s 5ms/step - loss: 0.2601 - accuracy: 0.8936 - val_loss: 0.2469 - val_accuracy: 0.9014\n",
      "Epoch 8/20\n",
      "250/250 [==============================] - 1s 5ms/step - loss: 0.2543 - accuracy: 0.8968 - val_loss: 0.2501 - val_accuracy: 0.8997\n",
      "Epoch 9/20\n",
      "250/250 [==============================] - 1s 5ms/step - loss: 0.2466 - accuracy: 0.8993 - val_loss: 0.2405 - val_accuracy: 0.9026\n",
      "Epoch 10/20\n",
      "250/250 [==============================] - 1s 5ms/step - loss: 0.2422 - accuracy: 0.9021 - val_loss: 0.2375 - val_accuracy: 0.9056\n",
      "Epoch 11/20\n",
      "250/250 [==============================] - 1s 5ms/step - loss: 0.2385 - accuracy: 0.9034 - val_loss: 0.2423 - val_accuracy: 0.9014\n",
      "Epoch 12/20\n",
      "250/250 [==============================] - 1s 5ms/step - loss: 0.2343 - accuracy: 0.9060 - val_loss: 0.2312 - val_accuracy: 0.9065\n",
      "Epoch 13/20\n",
      "250/250 [==============================] - 1s 5ms/step - loss: 0.2315 - accuracy: 0.9066 - val_loss: 0.2295 - val_accuracy: 0.9077\n",
      "Epoch 14/20\n",
      "250/250 [==============================] - 1s 5ms/step - loss: 0.2274 - accuracy: 0.9089 - val_loss: 0.2320 - val_accuracy: 0.9057\n",
      "Epoch 15/20\n",
      "250/250 [==============================] - 1s 5ms/step - loss: 0.2240 - accuracy: 0.9097 - val_loss: 0.2326 - val_accuracy: 0.9052\n",
      "Epoch 16/20\n",
      "250/250 [==============================] - 1s 5ms/step - loss: 0.2228 - accuracy: 0.9108 - val_loss: 0.2289 - val_accuracy: 0.9072\n",
      "Epoch 17/20\n",
      "250/250 [==============================] - 1s 5ms/step - loss: 0.2191 - accuracy: 0.9123 - val_loss: 0.2424 - val_accuracy: 0.8997\n",
      "Epoch 18/20\n",
      "250/250 [==============================] - 1s 5ms/step - loss: 0.2177 - accuracy: 0.9126 - val_loss: 0.2433 - val_accuracy: 0.8996\n",
      "Epoch 19/20\n",
      "250/250 [==============================] - 1s 5ms/step - loss: 0.2174 - accuracy: 0.9124 - val_loss: 0.2411 - val_accuracy: 0.9007\n"
     ]
    }
   ],
   "source": [
    "# Train the model\n",
    "history_tuned_BayesianOptimization = model_tuned_BayesianOptimization.fit(x_train, y_train, epochs=20, validation_split=0.2, batch_size= 512, callbacks=[callback])"
   ]
  },
  {
   "cell_type": "code",
   "execution_count": null,
   "metadata": {
    "colab": {
     "base_uri": "https://localhost:8080/"
    },
    "id": "6y2xeXTsygyU",
    "outputId": "bd7d4080-5ff6-45f5-fa9e-e0fe99c1e984"
   },
   "outputs": [
    {
     "name": "stdout",
     "output_type": "stream",
     "text": [
      "1250/1250 - 3s - loss: 0.2422 - accuracy: 0.9006 - 3s/epoch - 2ms/step\n"
     ]
    }
   ],
   "source": [
    "# Evaulate the model \n",
    "test_Bayesian = model_tuned_BayesianOptimization.evaluate(x_test,  y_test , verbose=2)"
   ]
  },
  {
   "cell_type": "code",
   "execution_count": null,
   "metadata": {
    "colab": {
     "base_uri": "https://localhost:8080/",
     "height": 206
    },
    "id": "SIrX65E-7R2T",
    "outputId": "1fc79db6-2d21-42a2-9785-75df1e00b18f"
   },
   "outputs": [
    {
     "data": {
      "text/html": [
       "\n",
       "  <div id=\"df-2320e97a-72b8-458a-ae01-ee845526428c\">\n",
       "    <div class=\"colab-df-container\">\n",
       "      <div>\n",
       "<style scoped>\n",
       "    .dataframe tbody tr th:only-of-type {\n",
       "        vertical-align: middle;\n",
       "    }\n",
       "\n",
       "    .dataframe tbody tr th {\n",
       "        vertical-align: top;\n",
       "    }\n",
       "\n",
       "    .dataframe thead th {\n",
       "        text-align: right;\n",
       "    }\n",
       "</style>\n",
       "<table border=\"1\" class=\"dataframe\">\n",
       "  <thead>\n",
       "    <tr style=\"text-align: right;\">\n",
       "      <th></th>\n",
       "      <th>Test loss</th>\n",
       "      <th>Test accuracy</th>\n",
       "    </tr>\n",
       "  </thead>\n",
       "  <tbody>\n",
       "    <tr>\n",
       "      <th>Small model</th>\n",
       "      <td>0.44</td>\n",
       "      <td>0.79</td>\n",
       "    </tr>\n",
       "    <tr>\n",
       "      <th>Overfitting model</th>\n",
       "      <td>0.64</td>\n",
       "      <td>0.90</td>\n",
       "    </tr>\n",
       "    <tr>\n",
       "      <th>Tuned - Random search</th>\n",
       "      <td>0.23</td>\n",
       "      <td>0.91</td>\n",
       "    </tr>\n",
       "    <tr>\n",
       "      <th>Tuned - Hyperband</th>\n",
       "      <td>0.27</td>\n",
       "      <td>0.90</td>\n",
       "    </tr>\n",
       "    <tr>\n",
       "      <th>Tuned - Bayesian</th>\n",
       "      <td>0.24</td>\n",
       "      <td>0.90</td>\n",
       "    </tr>\n",
       "  </tbody>\n",
       "</table>\n",
       "</div>\n",
       "      <button class=\"colab-df-convert\" onclick=\"convertToInteractive('df-2320e97a-72b8-458a-ae01-ee845526428c')\"\n",
       "              title=\"Convert this dataframe to an interactive table.\"\n",
       "              style=\"display:none;\">\n",
       "        \n",
       "  <svg xmlns=\"http://www.w3.org/2000/svg\" height=\"24px\"viewBox=\"0 0 24 24\"\n",
       "       width=\"24px\">\n",
       "    <path d=\"M0 0h24v24H0V0z\" fill=\"none\"/>\n",
       "    <path d=\"M18.56 5.44l.94 2.06.94-2.06 2.06-.94-2.06-.94-.94-2.06-.94 2.06-2.06.94zm-11 1L8.5 8.5l.94-2.06 2.06-.94-2.06-.94L8.5 2.5l-.94 2.06-2.06.94zm10 10l.94 2.06.94-2.06 2.06-.94-2.06-.94-.94-2.06-.94 2.06-2.06.94z\"/><path d=\"M17.41 7.96l-1.37-1.37c-.4-.4-.92-.59-1.43-.59-.52 0-1.04.2-1.43.59L10.3 9.45l-7.72 7.72c-.78.78-.78 2.05 0 2.83L4 21.41c.39.39.9.59 1.41.59.51 0 1.02-.2 1.41-.59l7.78-7.78 2.81-2.81c.8-.78.8-2.07 0-2.86zM5.41 20L4 18.59l7.72-7.72 1.47 1.35L5.41 20z\"/>\n",
       "  </svg>\n",
       "      </button>\n",
       "      \n",
       "  <style>\n",
       "    .colab-df-container {\n",
       "      display:flex;\n",
       "      flex-wrap:wrap;\n",
       "      gap: 12px;\n",
       "    }\n",
       "\n",
       "    .colab-df-convert {\n",
       "      background-color: #E8F0FE;\n",
       "      border: none;\n",
       "      border-radius: 50%;\n",
       "      cursor: pointer;\n",
       "      display: none;\n",
       "      fill: #1967D2;\n",
       "      height: 32px;\n",
       "      padding: 0 0 0 0;\n",
       "      width: 32px;\n",
       "    }\n",
       "\n",
       "    .colab-df-convert:hover {\n",
       "      background-color: #E2EBFA;\n",
       "      box-shadow: 0px 1px 2px rgba(60, 64, 67, 0.3), 0px 1px 3px 1px rgba(60, 64, 67, 0.15);\n",
       "      fill: #174EA6;\n",
       "    }\n",
       "\n",
       "    [theme=dark] .colab-df-convert {\n",
       "      background-color: #3B4455;\n",
       "      fill: #D2E3FC;\n",
       "    }\n",
       "\n",
       "    [theme=dark] .colab-df-convert:hover {\n",
       "      background-color: #434B5C;\n",
       "      box-shadow: 0px 1px 3px 1px rgba(0, 0, 0, 0.15);\n",
       "      filter: drop-shadow(0px 1px 2px rgba(0, 0, 0, 0.3));\n",
       "      fill: #FFFFFF;\n",
       "    }\n",
       "  </style>\n",
       "\n",
       "      <script>\n",
       "        const buttonEl =\n",
       "          document.querySelector('#df-2320e97a-72b8-458a-ae01-ee845526428c button.colab-df-convert');\n",
       "        buttonEl.style.display =\n",
       "          google.colab.kernel.accessAllowed ? 'block' : 'none';\n",
       "\n",
       "        async function convertToInteractive(key) {\n",
       "          const element = document.querySelector('#df-2320e97a-72b8-458a-ae01-ee845526428c');\n",
       "          const dataTable =\n",
       "            await google.colab.kernel.invokeFunction('convertToInteractive',\n",
       "                                                     [key], {});\n",
       "          if (!dataTable) return;\n",
       "\n",
       "          const docLinkHtml = 'Like what you see? Visit the ' +\n",
       "            '<a target=\"_blank\" href=https://colab.research.google.com/notebooks/data_table.ipynb>data table notebook</a>'\n",
       "            + ' to learn more about interactive tables.';\n",
       "          element.innerHTML = '';\n",
       "          dataTable['output_type'] = 'display_data';\n",
       "          await google.colab.output.renderOutput(dataTable, element);\n",
       "          const docLink = document.createElement('div');\n",
       "          docLink.innerHTML = docLinkHtml;\n",
       "          element.appendChild(docLink);\n",
       "        }\n",
       "      </script>\n",
       "    </div>\n",
       "  </div>\n",
       "  "
      ],
      "text/plain": [
       "                       Test loss  Test accuracy\n",
       "Small model                 0.44           0.79\n",
       "Overfitting model           0.64           0.90\n",
       "Tuned - Random search       0.23           0.91\n",
       "Tuned - Hyperband           0.27           0.90\n",
       "Tuned - Bayesian            0.24           0.90"
      ]
     },
     "execution_count": 92,
     "metadata": {},
     "output_type": "execute_result"
    }
   ],
   "source": [
    "df_model_comp.loc['Tuned - Bayesian']=test_Bayesian\n",
    "df_model_comp.round(2)"
   ]
  },
  {
   "cell_type": "markdown",
   "metadata": {
    "id": "tdFmRXC5-nUF"
   },
   "source": [
    "The model tuned with Bayesian optimization has similar accuracy and loss with the hyperband model."
   ]
  },
  {
   "cell_type": "markdown",
   "metadata": {
    "id": "mJmWqKEF_G3e"
   },
   "source": [
    "### 5. Building the final model: Discussion and conclusion"
   ]
  },
  {
   "cell_type": "markdown",
   "metadata": {
    "id": "HHpPc_7dMWj2"
   },
   "source": [
    "Five different models were experimented with in this project:\n",
    "\n",
    "(1) small model\n",
    "\n",
    "(2) overfitting model \n",
    "\n",
    "(3) three tuned models: random search, hyperband, Bayesian optimization\n",
    "\n",
    "Before proceeding to build the final optimal model, a comparison is made first. "
   ]
  },
  {
   "cell_type": "code",
   "execution_count": null,
   "metadata": {
    "colab": {
     "base_uri": "https://localhost:8080/",
     "height": 206
    },
    "id": "UvA7e63ZNkJf",
    "outputId": "cac33b92-67b5-424b-f9d1-4242a8040047"
   },
   "outputs": [
    {
     "data": {
      "text/html": [
       "\n",
       "  <div id=\"df-864dda71-459e-439f-9860-2c23dfec87d4\">\n",
       "    <div class=\"colab-df-container\">\n",
       "      <div>\n",
       "<style scoped>\n",
       "    .dataframe tbody tr th:only-of-type {\n",
       "        vertical-align: middle;\n",
       "    }\n",
       "\n",
       "    .dataframe tbody tr th {\n",
       "        vertical-align: top;\n",
       "    }\n",
       "\n",
       "    .dataframe thead th {\n",
       "        text-align: right;\n",
       "    }\n",
       "</style>\n",
       "<table border=\"1\" class=\"dataframe\">\n",
       "  <thead>\n",
       "    <tr style=\"text-align: right;\">\n",
       "      <th></th>\n",
       "      <th>Test loss</th>\n",
       "      <th>Test accuracy</th>\n",
       "    </tr>\n",
       "  </thead>\n",
       "  <tbody>\n",
       "    <tr>\n",
       "      <th>Small model</th>\n",
       "      <td>0.44</td>\n",
       "      <td>0.79</td>\n",
       "    </tr>\n",
       "    <tr>\n",
       "      <th>Overfitting model</th>\n",
       "      <td>0.64</td>\n",
       "      <td>0.90</td>\n",
       "    </tr>\n",
       "    <tr>\n",
       "      <th>Tuned - Random search</th>\n",
       "      <td>0.23</td>\n",
       "      <td>0.91</td>\n",
       "    </tr>\n",
       "    <tr>\n",
       "      <th>Tuned - Hyperband</th>\n",
       "      <td>0.27</td>\n",
       "      <td>0.90</td>\n",
       "    </tr>\n",
       "    <tr>\n",
       "      <th>Tuned - Bayesian</th>\n",
       "      <td>0.24</td>\n",
       "      <td>0.90</td>\n",
       "    </tr>\n",
       "  </tbody>\n",
       "</table>\n",
       "</div>\n",
       "      <button class=\"colab-df-convert\" onclick=\"convertToInteractive('df-864dda71-459e-439f-9860-2c23dfec87d4')\"\n",
       "              title=\"Convert this dataframe to an interactive table.\"\n",
       "              style=\"display:none;\">\n",
       "        \n",
       "  <svg xmlns=\"http://www.w3.org/2000/svg\" height=\"24px\"viewBox=\"0 0 24 24\"\n",
       "       width=\"24px\">\n",
       "    <path d=\"M0 0h24v24H0V0z\" fill=\"none\"/>\n",
       "    <path d=\"M18.56 5.44l.94 2.06.94-2.06 2.06-.94-2.06-.94-.94-2.06-.94 2.06-2.06.94zm-11 1L8.5 8.5l.94-2.06 2.06-.94-2.06-.94L8.5 2.5l-.94 2.06-2.06.94zm10 10l.94 2.06.94-2.06 2.06-.94-2.06-.94-.94-2.06-.94 2.06-2.06.94z\"/><path d=\"M17.41 7.96l-1.37-1.37c-.4-.4-.92-.59-1.43-.59-.52 0-1.04.2-1.43.59L10.3 9.45l-7.72 7.72c-.78.78-.78 2.05 0 2.83L4 21.41c.39.39.9.59 1.41.59.51 0 1.02-.2 1.41-.59l7.78-7.78 2.81-2.81c.8-.78.8-2.07 0-2.86zM5.41 20L4 18.59l7.72-7.72 1.47 1.35L5.41 20z\"/>\n",
       "  </svg>\n",
       "      </button>\n",
       "      \n",
       "  <style>\n",
       "    .colab-df-container {\n",
       "      display:flex;\n",
       "      flex-wrap:wrap;\n",
       "      gap: 12px;\n",
       "    }\n",
       "\n",
       "    .colab-df-convert {\n",
       "      background-color: #E8F0FE;\n",
       "      border: none;\n",
       "      border-radius: 50%;\n",
       "      cursor: pointer;\n",
       "      display: none;\n",
       "      fill: #1967D2;\n",
       "      height: 32px;\n",
       "      padding: 0 0 0 0;\n",
       "      width: 32px;\n",
       "    }\n",
       "\n",
       "    .colab-df-convert:hover {\n",
       "      background-color: #E2EBFA;\n",
       "      box-shadow: 0px 1px 2px rgba(60, 64, 67, 0.3), 0px 1px 3px 1px rgba(60, 64, 67, 0.15);\n",
       "      fill: #174EA6;\n",
       "    }\n",
       "\n",
       "    [theme=dark] .colab-df-convert {\n",
       "      background-color: #3B4455;\n",
       "      fill: #D2E3FC;\n",
       "    }\n",
       "\n",
       "    [theme=dark] .colab-df-convert:hover {\n",
       "      background-color: #434B5C;\n",
       "      box-shadow: 0px 1px 3px 1px rgba(0, 0, 0, 0.15);\n",
       "      filter: drop-shadow(0px 1px 2px rgba(0, 0, 0, 0.3));\n",
       "      fill: #FFFFFF;\n",
       "    }\n",
       "  </style>\n",
       "\n",
       "      <script>\n",
       "        const buttonEl =\n",
       "          document.querySelector('#df-864dda71-459e-439f-9860-2c23dfec87d4 button.colab-df-convert');\n",
       "        buttonEl.style.display =\n",
       "          google.colab.kernel.accessAllowed ? 'block' : 'none';\n",
       "\n",
       "        async function convertToInteractive(key) {\n",
       "          const element = document.querySelector('#df-864dda71-459e-439f-9860-2c23dfec87d4');\n",
       "          const dataTable =\n",
       "            await google.colab.kernel.invokeFunction('convertToInteractive',\n",
       "                                                     [key], {});\n",
       "          if (!dataTable) return;\n",
       "\n",
       "          const docLinkHtml = 'Like what you see? Visit the ' +\n",
       "            '<a target=\"_blank\" href=https://colab.research.google.com/notebooks/data_table.ipynb>data table notebook</a>'\n",
       "            + ' to learn more about interactive tables.';\n",
       "          element.innerHTML = '';\n",
       "          dataTable['output_type'] = 'display_data';\n",
       "          await google.colab.output.renderOutput(dataTable, element);\n",
       "          const docLink = document.createElement('div');\n",
       "          docLink.innerHTML = docLinkHtml;\n",
       "          element.appendChild(docLink);\n",
       "        }\n",
       "      </script>\n",
       "    </div>\n",
       "  </div>\n",
       "  "
      ],
      "text/plain": [
       "                       Test loss  Test accuracy\n",
       "Small model                 0.44           0.79\n",
       "Overfitting model           0.64           0.90\n",
       "Tuned - Random search       0.23           0.91\n",
       "Tuned - Hyperband           0.27           0.90\n",
       "Tuned - Bayesian            0.24           0.90"
      ]
     },
     "execution_count": 93,
     "metadata": {},
     "output_type": "execute_result"
    }
   ],
   "source": [
    "df_model_comp.round(2)"
   ]
  },
  {
   "cell_type": "markdown",
   "metadata": {
    "id": "jATtOFwbNpPo"
   },
   "source": [
    "The dataframe above summarizes the test loss and accuracy of five different models. \n",
    "\n",
    "It shows that:\n",
    "\n",
    "- All five models have statistical power, i.e. accuracy > 0.5\n",
    "\n",
    "\n",
    "- All three tuned models have addressed the problems of overfitting. They also have better performance compared with the small model. The accuracy has increased by 0.2 and the loss has dropped.\n",
    "\n",
    "\n",
    "Based on the test loss and test accuracy along, it is still difficult to determine which tuned model is better and which set of hyperparameters is the most optimal. However, one can also consider the **architectures** of the models."
   ]
  },
  {
   "cell_type": "code",
   "execution_count": null,
   "metadata": {
    "id": "Mzay6qDIgqN_"
   },
   "outputs": [],
   "source": [
    "# Add (1) the number of Conv1D layers, (2) learning rate and (3) trainable parameters in each model\n",
    "# to the dataframe \n",
    "conv_blocks=[block_num_small, block_num_overfit]\n",
    "lr=[str(lr_small), str(lr_overfit)]\n",
    "trainable_parameters=[retrieve_trainable_params(model_base), retrieve_trainable_params(model_overfit)]\n",
    "\n",
    "for i in (best_param_random, best_param_hyper, best_param_Bayesian):\n",
    "    conv_blocks.append(i[0])\n",
    "    lr.append(str(i[1]))\n",
    "    trainable_parameters.append(i[-1])"
   ]
  },
  {
   "cell_type": "code",
   "execution_count": null,
   "metadata": {
    "colab": {
     "base_uri": "https://localhost:8080/",
     "height": 206
    },
    "id": "cmmTrA2Pl0d6",
    "outputId": "88df2799-18b9-4b00-cc15-831832109736"
   },
   "outputs": [
    {
     "data": {
      "text/html": [
       "\n",
       "  <div id=\"df-bc9af0a5-607c-4cc5-a15c-f6d7b7c669eb\">\n",
       "    <div class=\"colab-df-container\">\n",
       "      <div>\n",
       "<style scoped>\n",
       "    .dataframe tbody tr th:only-of-type {\n",
       "        vertical-align: middle;\n",
       "    }\n",
       "\n",
       "    .dataframe tbody tr th {\n",
       "        vertical-align: top;\n",
       "    }\n",
       "\n",
       "    .dataframe thead th {\n",
       "        text-align: right;\n",
       "    }\n",
       "</style>\n",
       "<table border=\"1\" class=\"dataframe\">\n",
       "  <thead>\n",
       "    <tr style=\"text-align: right;\">\n",
       "      <th></th>\n",
       "      <th>Test loss</th>\n",
       "      <th>Test accuracy</th>\n",
       "      <th>conv_blocks</th>\n",
       "      <th>learning_rate</th>\n",
       "      <th>trainable_parameters</th>\n",
       "    </tr>\n",
       "  </thead>\n",
       "  <tbody>\n",
       "    <tr>\n",
       "      <th>Small model</th>\n",
       "      <td>0.44</td>\n",
       "      <td>0.79</td>\n",
       "      <td>1</td>\n",
       "      <td>0.001</td>\n",
       "      <td>609</td>\n",
       "    </tr>\n",
       "    <tr>\n",
       "      <th>Overfitting model</th>\n",
       "      <td>0.64</td>\n",
       "      <td>0.90</td>\n",
       "      <td>4</td>\n",
       "      <td>0.001</td>\n",
       "      <td>167297</td>\n",
       "    </tr>\n",
       "    <tr>\n",
       "      <th>Tuned - Random search</th>\n",
       "      <td>0.23</td>\n",
       "      <td>0.91</td>\n",
       "      <td>2</td>\n",
       "      <td>0.001</td>\n",
       "      <td>32833</td>\n",
       "    </tr>\n",
       "    <tr>\n",
       "      <th>Tuned - Hyperband</th>\n",
       "      <td>0.27</td>\n",
       "      <td>0.90</td>\n",
       "      <td>4</td>\n",
       "      <td>0.001</td>\n",
       "      <td>221825</td>\n",
       "    </tr>\n",
       "    <tr>\n",
       "      <th>Tuned - Bayesian</th>\n",
       "      <td>0.24</td>\n",
       "      <td>0.90</td>\n",
       "      <td>2</td>\n",
       "      <td>0.001</td>\n",
       "      <td>36033</td>\n",
       "    </tr>\n",
       "  </tbody>\n",
       "</table>\n",
       "</div>\n",
       "      <button class=\"colab-df-convert\" onclick=\"convertToInteractive('df-bc9af0a5-607c-4cc5-a15c-f6d7b7c669eb')\"\n",
       "              title=\"Convert this dataframe to an interactive table.\"\n",
       "              style=\"display:none;\">\n",
       "        \n",
       "  <svg xmlns=\"http://www.w3.org/2000/svg\" height=\"24px\"viewBox=\"0 0 24 24\"\n",
       "       width=\"24px\">\n",
       "    <path d=\"M0 0h24v24H0V0z\" fill=\"none\"/>\n",
       "    <path d=\"M18.56 5.44l.94 2.06.94-2.06 2.06-.94-2.06-.94-.94-2.06-.94 2.06-2.06.94zm-11 1L8.5 8.5l.94-2.06 2.06-.94-2.06-.94L8.5 2.5l-.94 2.06-2.06.94zm10 10l.94 2.06.94-2.06 2.06-.94-2.06-.94-.94-2.06-.94 2.06-2.06.94z\"/><path d=\"M17.41 7.96l-1.37-1.37c-.4-.4-.92-.59-1.43-.59-.52 0-1.04.2-1.43.59L10.3 9.45l-7.72 7.72c-.78.78-.78 2.05 0 2.83L4 21.41c.39.39.9.59 1.41.59.51 0 1.02-.2 1.41-.59l7.78-7.78 2.81-2.81c.8-.78.8-2.07 0-2.86zM5.41 20L4 18.59l7.72-7.72 1.47 1.35L5.41 20z\"/>\n",
       "  </svg>\n",
       "      </button>\n",
       "      \n",
       "  <style>\n",
       "    .colab-df-container {\n",
       "      display:flex;\n",
       "      flex-wrap:wrap;\n",
       "      gap: 12px;\n",
       "    }\n",
       "\n",
       "    .colab-df-convert {\n",
       "      background-color: #E8F0FE;\n",
       "      border: none;\n",
       "      border-radius: 50%;\n",
       "      cursor: pointer;\n",
       "      display: none;\n",
       "      fill: #1967D2;\n",
       "      height: 32px;\n",
       "      padding: 0 0 0 0;\n",
       "      width: 32px;\n",
       "    }\n",
       "\n",
       "    .colab-df-convert:hover {\n",
       "      background-color: #E2EBFA;\n",
       "      box-shadow: 0px 1px 2px rgba(60, 64, 67, 0.3), 0px 1px 3px 1px rgba(60, 64, 67, 0.15);\n",
       "      fill: #174EA6;\n",
       "    }\n",
       "\n",
       "    [theme=dark] .colab-df-convert {\n",
       "      background-color: #3B4455;\n",
       "      fill: #D2E3FC;\n",
       "    }\n",
       "\n",
       "    [theme=dark] .colab-df-convert:hover {\n",
       "      background-color: #434B5C;\n",
       "      box-shadow: 0px 1px 3px 1px rgba(0, 0, 0, 0.15);\n",
       "      filter: drop-shadow(0px 1px 2px rgba(0, 0, 0, 0.3));\n",
       "      fill: #FFFFFF;\n",
       "    }\n",
       "  </style>\n",
       "\n",
       "      <script>\n",
       "        const buttonEl =\n",
       "          document.querySelector('#df-bc9af0a5-607c-4cc5-a15c-f6d7b7c669eb button.colab-df-convert');\n",
       "        buttonEl.style.display =\n",
       "          google.colab.kernel.accessAllowed ? 'block' : 'none';\n",
       "\n",
       "        async function convertToInteractive(key) {\n",
       "          const element = document.querySelector('#df-bc9af0a5-607c-4cc5-a15c-f6d7b7c669eb');\n",
       "          const dataTable =\n",
       "            await google.colab.kernel.invokeFunction('convertToInteractive',\n",
       "                                                     [key], {});\n",
       "          if (!dataTable) return;\n",
       "\n",
       "          const docLinkHtml = 'Like what you see? Visit the ' +\n",
       "            '<a target=\"_blank\" href=https://colab.research.google.com/notebooks/data_table.ipynb>data table notebook</a>'\n",
       "            + ' to learn more about interactive tables.';\n",
       "          element.innerHTML = '';\n",
       "          dataTable['output_type'] = 'display_data';\n",
       "          await google.colab.output.renderOutput(dataTable, element);\n",
       "          const docLink = document.createElement('div');\n",
       "          docLink.innerHTML = docLinkHtml;\n",
       "          element.appendChild(docLink);\n",
       "        }\n",
       "      </script>\n",
       "    </div>\n",
       "  </div>\n",
       "  "
      ],
      "text/plain": [
       "                       Test loss  Test accuracy  conv_blocks learning_rate  \\\n",
       "Small model                 0.44           0.79            1         0.001   \n",
       "Overfitting model           0.64           0.90            4         0.001   \n",
       "Tuned - Random search       0.23           0.91            2         0.001   \n",
       "Tuned - Hyperband           0.27           0.90            4         0.001   \n",
       "Tuned - Bayesian            0.24           0.90            2         0.001   \n",
       "\n",
       "                       trainable_parameters  \n",
       "Small model                             609  \n",
       "Overfitting model                    167297  \n",
       "Tuned - Random search                 32833  \n",
       "Tuned - Hyperband                    221825  \n",
       "Tuned - Bayesian                      36033  "
      ]
     },
     "execution_count": 94,
     "metadata": {},
     "output_type": "execute_result"
    }
   ],
   "source": [
    "df_model_comp['conv_blocks'] = conv_blocks\n",
    "df_model_comp['learning_rate'] = lr\n",
    "df_model_comp['trainable_parameters'] = trainable_parameters\n",
    "df_model_comp.round(2)"
   ]
  },
  {
   "cell_type": "markdown",
   "metadata": {
    "id": "TNVhp_WQz7NX"
   },
   "source": [
    "- Consider the number of trainable parameters: \n",
    "\n",
    "  Hyperband  > Bayesian optimization > Random search\n",
    "\n",
    "- Consider the test accuracy:\n",
    "\n",
    "  Random search > Hyperband = Bayesian optimization \n",
    "\n",
    "In machine learning, a model with more parameters may be able to achieve higher accuracy on a given task. However, increasing the number of parameters also increases the computational resources needed to train and run the model. There is a trade-off  between accuracy and number of parameters (Han et al., 2015). \n",
    "\n",
    "Luckily, since in this project, the model trained with random search has the best accuracy as well as the least amount of trainable parameters. Therefore, the hyperparameters tuned with random search are chosen as the final model.\n"
   ]
  },
  {
   "cell_type": "code",
   "execution_count": null,
   "metadata": {
    "id": "Ln8suLDy_GKQ"
   },
   "outputs": [],
   "source": [
    "# Set the parameters for the final model\n",
    "con_block_final, learning_rate_final, block_config_final, trainable_param_final= best_param_random"
   ]
  },
  {
   "cell_type": "code",
   "execution_count": null,
   "metadata": {
    "colab": {
     "base_uri": "https://localhost:8080/"
    },
    "id": "MUBRAlDq_GWF",
    "outputId": "7d0cce98-0ebe-4375-df1e-546c3a0a2b33"
   },
   "outputs": [
    {
     "name": "stdout",
     "output_type": "stream",
     "text": [
      "Model: \"model_8\"\n",
      "_________________________________________________________________\n",
      " Layer (type)                Output Shape              Param #   \n",
      "=================================================================\n",
      " input_8 (InputLayer)        [(None, 70)]              0         \n",
      "                                                                 \n",
      " embedding_7 (Embedding)     (None, 70, 50)            3867650   \n",
      "                                                                 \n",
      " conv1d_13 (Conv1D)          (None, 66, 64)            16064     \n",
      "                                                                 \n",
      " batch_normalization_11 (Bat  (None, 66, 64)           256       \n",
      " chNormalization)                                                \n",
      "                                                                 \n",
      " max_pooling1d_13 (MaxPoolin  (None, 33, 64)           0         \n",
      " g1D)                                                            \n",
      "                                                                 \n",
      " dropout_5 (Dropout)         (None, 33, 64)            0         \n",
      "                                                                 \n",
      " conv1d_14 (Conv1D)          (None, 30, 64)            16448     \n",
      "                                                                 \n",
      " batch_normalization_12 (Bat  (None, 30, 64)           256       \n",
      " chNormalization)                                                \n",
      "                                                                 \n",
      " max_pooling1d_14 (MaxPoolin  (None, 15, 64)           0         \n",
      " g1D)                                                            \n",
      "                                                                 \n",
      " dropout_6 (Dropout)         (None, 15, 64)            0         \n",
      "                                                                 \n",
      " global_max_pooling1d_7 (Glo  (None, 64)               0         \n",
      " balMaxPooling1D)                                                \n",
      "                                                                 \n",
      " dense_7 (Dense)             (None, 1)                 65        \n",
      "                                                                 \n",
      "=================================================================\n",
      "Total params: 3,900,739\n",
      "Trainable params: 32,833\n",
      "Non-trainable params: 3,867,906\n",
      "_________________________________________________________________\n"
     ]
    }
   ],
   "source": [
    "final_model=create_cnn_conv1d (block_config_final, learning_rate_final)\n",
    "final_model.summary()"
   ]
  },
  {
   "cell_type": "code",
   "execution_count": null,
   "metadata": {
    "colab": {
     "base_uri": "https://localhost:8080/"
    },
    "id": "H-6wP985_i7G",
    "outputId": "a30c79de-54ae-4d94-e8bd-dfc34c40e764"
   },
   "outputs": [
    {
     "name": "stdout",
     "output_type": "stream",
     "text": [
      "Epoch 1/50\n",
      "313/313 [==============================] - 4s 6ms/step - loss: 0.9653 - accuracy: 0.6794\n",
      "Epoch 2/50\n",
      "313/313 [==============================] - 2s 6ms/step - loss: 0.5080 - accuracy: 0.7751\n",
      "Epoch 3/50\n",
      "313/313 [==============================] - 2s 6ms/step - loss: 0.4098 - accuracy: 0.8209\n",
      "Epoch 4/50\n",
      "313/313 [==============================] - 2s 6ms/step - loss: 0.3627 - accuracy: 0.8451\n",
      "Epoch 5/50\n",
      "313/313 [==============================] - 2s 6ms/step - loss: 0.3371 - accuracy: 0.8583\n",
      "Epoch 6/50\n",
      "313/313 [==============================] - 2s 6ms/step - loss: 0.3191 - accuracy: 0.8676\n",
      "Epoch 7/50\n",
      "313/313 [==============================] - 2s 6ms/step - loss: 0.3067 - accuracy: 0.8739\n",
      "Epoch 8/50\n",
      "313/313 [==============================] - 2s 6ms/step - loss: 0.2974 - accuracy: 0.8784\n",
      "Epoch 9/50\n",
      "313/313 [==============================] - 2s 6ms/step - loss: 0.2885 - accuracy: 0.8826\n",
      "Epoch 10/50\n",
      "313/313 [==============================] - 2s 6ms/step - loss: 0.2811 - accuracy: 0.8864\n",
      "Epoch 11/50\n",
      "313/313 [==============================] - 2s 6ms/step - loss: 0.2774 - accuracy: 0.8878\n",
      "Epoch 12/50\n",
      "313/313 [==============================] - 2s 6ms/step - loss: 0.2718 - accuracy: 0.8901\n",
      "Epoch 13/50\n",
      "313/313 [==============================] - 2s 6ms/step - loss: 0.2678 - accuracy: 0.8912\n",
      "Epoch 14/50\n",
      "313/313 [==============================] - 2s 6ms/step - loss: 0.2645 - accuracy: 0.8930\n",
      "Epoch 15/50\n",
      "313/313 [==============================] - 2s 6ms/step - loss: 0.2611 - accuracy: 0.8947\n",
      "Epoch 16/50\n",
      "313/313 [==============================] - 2s 6ms/step - loss: 0.2585 - accuracy: 0.8958\n",
      "Epoch 17/50\n",
      "313/313 [==============================] - 2s 6ms/step - loss: 0.2581 - accuracy: 0.8957\n",
      "Epoch 18/50\n",
      "313/313 [==============================] - 2s 6ms/step - loss: 0.2548 - accuracy: 0.8972\n",
      "Epoch 19/50\n",
      "313/313 [==============================] - 2s 6ms/step - loss: 0.2510 - accuracy: 0.8987\n",
      "Epoch 20/50\n",
      "313/313 [==============================] - 2s 6ms/step - loss: 0.2498 - accuracy: 0.8992\n",
      "Epoch 21/50\n",
      "313/313 [==============================] - 2s 6ms/step - loss: 0.2483 - accuracy: 0.8996\n",
      "Epoch 22/50\n",
      "313/313 [==============================] - 2s 6ms/step - loss: 0.2469 - accuracy: 0.9010\n",
      "Epoch 23/50\n",
      "313/313 [==============================] - 2s 6ms/step - loss: 0.2435 - accuracy: 0.9015\n",
      "Epoch 24/50\n",
      "313/313 [==============================] - 2s 6ms/step - loss: 0.2441 - accuracy: 0.9017\n",
      "Epoch 25/50\n",
      "313/313 [==============================] - 2s 6ms/step - loss: 0.2432 - accuracy: 0.9029\n",
      "Epoch 26/50\n",
      "313/313 [==============================] - 2s 6ms/step - loss: 0.2412 - accuracy: 0.9032\n",
      "Epoch 27/50\n",
      "313/313 [==============================] - 2s 6ms/step - loss: 0.2401 - accuracy: 0.9035\n",
      "Epoch 28/50\n",
      "313/313 [==============================] - 2s 6ms/step - loss: 0.2381 - accuracy: 0.9044\n",
      "Epoch 29/50\n",
      "313/313 [==============================] - 2s 6ms/step - loss: 0.2379 - accuracy: 0.9041\n",
      "Epoch 30/50\n",
      "313/313 [==============================] - 2s 7ms/step - loss: 0.2367 - accuracy: 0.9048\n",
      "Epoch 31/50\n",
      "313/313 [==============================] - 2s 6ms/step - loss: 0.2358 - accuracy: 0.9054\n",
      "Epoch 32/50\n",
      "313/313 [==============================] - 2s 6ms/step - loss: 0.2337 - accuracy: 0.9065\n",
      "Epoch 33/50\n",
      "313/313 [==============================] - 2s 6ms/step - loss: 0.2352 - accuracy: 0.9057\n",
      "Epoch 34/50\n",
      "313/313 [==============================] - 2s 6ms/step - loss: 0.2339 - accuracy: 0.9059\n",
      "Epoch 35/50\n",
      "313/313 [==============================] - 2s 6ms/step - loss: 0.2337 - accuracy: 0.9060\n",
      "Epoch 36/50\n",
      "313/313 [==============================] - 2s 6ms/step - loss: 0.2322 - accuracy: 0.9071\n",
      "Epoch 37/50\n",
      "313/313 [==============================] - 2s 6ms/step - loss: 0.2319 - accuracy: 0.9075\n",
      "Epoch 38/50\n",
      "313/313 [==============================] - 2s 6ms/step - loss: 0.2306 - accuracy: 0.9076\n",
      "Epoch 39/50\n",
      "313/313 [==============================] - 2s 6ms/step - loss: 0.2313 - accuracy: 0.9072\n",
      "Epoch 40/50\n",
      "313/313 [==============================] - 2s 6ms/step - loss: 0.2291 - accuracy: 0.9072\n",
      "Epoch 41/50\n",
      "313/313 [==============================] - 2s 6ms/step - loss: 0.2304 - accuracy: 0.9076\n",
      "Epoch 42/50\n",
      "313/313 [==============================] - 2s 6ms/step - loss: 0.2293 - accuracy: 0.9069\n",
      "Epoch 43/50\n",
      "313/313 [==============================] - 2s 6ms/step - loss: 0.2282 - accuracy: 0.9084\n",
      "Epoch 44/50\n",
      "313/313 [==============================] - 2s 6ms/step - loss: 0.2277 - accuracy: 0.9084\n",
      "Epoch 45/50\n",
      "313/313 [==============================] - 2s 6ms/step - loss: 0.2268 - accuracy: 0.9091\n",
      "Epoch 46/50\n",
      "313/313 [==============================] - 2s 6ms/step - loss: 0.2252 - accuracy: 0.9096\n",
      "Epoch 47/50\n",
      "313/313 [==============================] - 2s 6ms/step - loss: 0.2254 - accuracy: 0.9098\n",
      "Epoch 48/50\n",
      "313/313 [==============================] - 2s 6ms/step - loss: 0.2244 - accuracy: 0.9106\n",
      "Epoch 49/50\n",
      "313/313 [==============================] - 2s 6ms/step - loss: 0.2252 - accuracy: 0.9105\n",
      "Epoch 50/50\n",
      "313/313 [==============================] - 2s 6ms/step - loss: 0.2246 - accuracy: 0.9096\n"
     ]
    }
   ],
   "source": [
    "# Train the final model \n",
    "# The model will be trained with all the training data (no data need to be split for validation purposes)\n",
    "history_final=final_model.fit(x_train, y_train, epochs=50, verbose=1,batch_size=512)"
   ]
  },
  {
   "cell_type": "code",
   "execution_count": null,
   "metadata": {
    "colab": {
     "base_uri": "https://localhost:8080/"
    },
    "id": "lEWxeXcK_7jc",
    "outputId": "b603c473-5499-4934-8777-90f1a6b5e7a6"
   },
   "outputs": [
    {
     "name": "stdout",
     "output_type": "stream",
     "text": [
      "1250/1250 - 3s - loss: 0.2391 - accuracy: 0.9079 - 3s/epoch - 2ms/step\n"
     ]
    }
   ],
   "source": [
    "# Evaluate the final model \n",
    "test_loss_final, test_accuracy_final= final_model.evaluate(x_test, y_test, verbose=2)"
   ]
  },
  {
   "cell_type": "code",
   "execution_count": null,
   "metadata": {
    "colab": {
     "base_uri": "https://localhost:8080/",
     "height": 237
    },
    "id": "PZ2QdL2OQRh1",
    "outputId": "1abc3f90-8d26-43e5-82ab-ecb7858c4ef3"
   },
   "outputs": [
    {
     "data": {
      "text/html": [
       "\n",
       "  <div id=\"df-614510fc-4440-414a-8a16-d66f5a62946e\">\n",
       "    <div class=\"colab-df-container\">\n",
       "      <div>\n",
       "<style scoped>\n",
       "    .dataframe tbody tr th:only-of-type {\n",
       "        vertical-align: middle;\n",
       "    }\n",
       "\n",
       "    .dataframe tbody tr th {\n",
       "        vertical-align: top;\n",
       "    }\n",
       "\n",
       "    .dataframe thead th {\n",
       "        text-align: right;\n",
       "    }\n",
       "</style>\n",
       "<table border=\"1\" class=\"dataframe\">\n",
       "  <thead>\n",
       "    <tr style=\"text-align: right;\">\n",
       "      <th></th>\n",
       "      <th>Test loss</th>\n",
       "      <th>Test accuracy</th>\n",
       "      <th>conv_blocks</th>\n",
       "      <th>learning_rate</th>\n",
       "      <th>trainable_parameters</th>\n",
       "    </tr>\n",
       "  </thead>\n",
       "  <tbody>\n",
       "    <tr>\n",
       "      <th>Small model</th>\n",
       "      <td>0.44</td>\n",
       "      <td>0.79</td>\n",
       "      <td>1.0</td>\n",
       "      <td>0.001</td>\n",
       "      <td>609.0</td>\n",
       "    </tr>\n",
       "    <tr>\n",
       "      <th>Overfitting model</th>\n",
       "      <td>0.64</td>\n",
       "      <td>0.90</td>\n",
       "      <td>4.0</td>\n",
       "      <td>0.001</td>\n",
       "      <td>167297.0</td>\n",
       "    </tr>\n",
       "    <tr>\n",
       "      <th>Tuned - Random search</th>\n",
       "      <td>0.23</td>\n",
       "      <td>0.91</td>\n",
       "      <td>2.0</td>\n",
       "      <td>0.001</td>\n",
       "      <td>32833.0</td>\n",
       "    </tr>\n",
       "    <tr>\n",
       "      <th>Tuned - Hyperband</th>\n",
       "      <td>0.27</td>\n",
       "      <td>0.90</td>\n",
       "      <td>4.0</td>\n",
       "      <td>0.001</td>\n",
       "      <td>221825.0</td>\n",
       "    </tr>\n",
       "    <tr>\n",
       "      <th>Tuned - Bayesian</th>\n",
       "      <td>0.24</td>\n",
       "      <td>0.90</td>\n",
       "      <td>2.0</td>\n",
       "      <td>0.001</td>\n",
       "      <td>36033.0</td>\n",
       "    </tr>\n",
       "    <tr>\n",
       "      <th>Final model</th>\n",
       "      <td>0.24</td>\n",
       "      <td>0.91</td>\n",
       "      <td>2.0</td>\n",
       "      <td>0.001</td>\n",
       "      <td>32833.0</td>\n",
       "    </tr>\n",
       "  </tbody>\n",
       "</table>\n",
       "</div>\n",
       "      <button class=\"colab-df-convert\" onclick=\"convertToInteractive('df-614510fc-4440-414a-8a16-d66f5a62946e')\"\n",
       "              title=\"Convert this dataframe to an interactive table.\"\n",
       "              style=\"display:none;\">\n",
       "        \n",
       "  <svg xmlns=\"http://www.w3.org/2000/svg\" height=\"24px\"viewBox=\"0 0 24 24\"\n",
       "       width=\"24px\">\n",
       "    <path d=\"M0 0h24v24H0V0z\" fill=\"none\"/>\n",
       "    <path d=\"M18.56 5.44l.94 2.06.94-2.06 2.06-.94-2.06-.94-.94-2.06-.94 2.06-2.06.94zm-11 1L8.5 8.5l.94-2.06 2.06-.94-2.06-.94L8.5 2.5l-.94 2.06-2.06.94zm10 10l.94 2.06.94-2.06 2.06-.94-2.06-.94-.94-2.06-.94 2.06-2.06.94z\"/><path d=\"M17.41 7.96l-1.37-1.37c-.4-.4-.92-.59-1.43-.59-.52 0-1.04.2-1.43.59L10.3 9.45l-7.72 7.72c-.78.78-.78 2.05 0 2.83L4 21.41c.39.39.9.59 1.41.59.51 0 1.02-.2 1.41-.59l7.78-7.78 2.81-2.81c.8-.78.8-2.07 0-2.86zM5.41 20L4 18.59l7.72-7.72 1.47 1.35L5.41 20z\"/>\n",
       "  </svg>\n",
       "      </button>\n",
       "      \n",
       "  <style>\n",
       "    .colab-df-container {\n",
       "      display:flex;\n",
       "      flex-wrap:wrap;\n",
       "      gap: 12px;\n",
       "    }\n",
       "\n",
       "    .colab-df-convert {\n",
       "      background-color: #E8F0FE;\n",
       "      border: none;\n",
       "      border-radius: 50%;\n",
       "      cursor: pointer;\n",
       "      display: none;\n",
       "      fill: #1967D2;\n",
       "      height: 32px;\n",
       "      padding: 0 0 0 0;\n",
       "      width: 32px;\n",
       "    }\n",
       "\n",
       "    .colab-df-convert:hover {\n",
       "      background-color: #E2EBFA;\n",
       "      box-shadow: 0px 1px 2px rgba(60, 64, 67, 0.3), 0px 1px 3px 1px rgba(60, 64, 67, 0.15);\n",
       "      fill: #174EA6;\n",
       "    }\n",
       "\n",
       "    [theme=dark] .colab-df-convert {\n",
       "      background-color: #3B4455;\n",
       "      fill: #D2E3FC;\n",
       "    }\n",
       "\n",
       "    [theme=dark] .colab-df-convert:hover {\n",
       "      background-color: #434B5C;\n",
       "      box-shadow: 0px 1px 3px 1px rgba(0, 0, 0, 0.15);\n",
       "      filter: drop-shadow(0px 1px 2px rgba(0, 0, 0, 0.3));\n",
       "      fill: #FFFFFF;\n",
       "    }\n",
       "  </style>\n",
       "\n",
       "      <script>\n",
       "        const buttonEl =\n",
       "          document.querySelector('#df-614510fc-4440-414a-8a16-d66f5a62946e button.colab-df-convert');\n",
       "        buttonEl.style.display =\n",
       "          google.colab.kernel.accessAllowed ? 'block' : 'none';\n",
       "\n",
       "        async function convertToInteractive(key) {\n",
       "          const element = document.querySelector('#df-614510fc-4440-414a-8a16-d66f5a62946e');\n",
       "          const dataTable =\n",
       "            await google.colab.kernel.invokeFunction('convertToInteractive',\n",
       "                                                     [key], {});\n",
       "          if (!dataTable) return;\n",
       "\n",
       "          const docLinkHtml = 'Like what you see? Visit the ' +\n",
       "            '<a target=\"_blank\" href=https://colab.research.google.com/notebooks/data_table.ipynb>data table notebook</a>'\n",
       "            + ' to learn more about interactive tables.';\n",
       "          element.innerHTML = '';\n",
       "          dataTable['output_type'] = 'display_data';\n",
       "          await google.colab.output.renderOutput(dataTable, element);\n",
       "          const docLink = document.createElement('div');\n",
       "          docLink.innerHTML = docLinkHtml;\n",
       "          element.appendChild(docLink);\n",
       "        }\n",
       "      </script>\n",
       "    </div>\n",
       "  </div>\n",
       "  "
      ],
      "text/plain": [
       "                       Test loss  Test accuracy  conv_blocks learning_rate  \\\n",
       "Small model                 0.44           0.79          1.0         0.001   \n",
       "Overfitting model           0.64           0.90          4.0         0.001   \n",
       "Tuned - Random search       0.23           0.91          2.0         0.001   \n",
       "Tuned - Hyperband           0.27           0.90          4.0         0.001   \n",
       "Tuned - Bayesian            0.24           0.90          2.0         0.001   \n",
       "Final model                 0.24           0.91          2.0         0.001   \n",
       "\n",
       "                       trainable_parameters  \n",
       "Small model                           609.0  \n",
       "Overfitting model                  167297.0  \n",
       "Tuned - Random search               32833.0  \n",
       "Tuned - Hyperband                  221825.0  \n",
       "Tuned - Bayesian                    36033.0  \n",
       "Final model                         32833.0  "
      ]
     },
     "execution_count": 95,
     "metadata": {},
     "output_type": "execute_result"
    }
   ],
   "source": [
    "df_model_comp.loc['Final model']=test_loss_final, test_accuracy_final, con_block_final, learning_rate_final, trainable_param_final\n",
    "df_model_comp.round(2)"
   ]
  },
  {
   "cell_type": "markdown",
   "metadata": {
    "id": "fbKHZS_y1rW5"
   },
   "source": [
    "From the small model to the final model, the test accuracy increases more than 10% and the test loss drops by 20%.\n",
    "\n",
    "What are the detailed difference of architectures?\n",
    "\n",
    "To comapre the detailed architectures, the parameter configurations (e.g. filters, kernel size)\n",
    "of each layer in individual models are also added to the comparative dataframe (df_model_comp)"
   ]
  },
  {
   "cell_type": "code",
   "execution_count": null,
   "metadata": {
    "id": "C9sudfNL3TFW"
   },
   "outputs": [],
   "source": [
    "max_blocks=max(conv_blocks)\n",
    "\n",
    "# Go through the layer configuration of each model and store them by layer number\n",
    "layers_config = {\n",
    "    f\"Layer{n+1}\": [\n",
    "        block_config_small[n] if n < len(block_config_small) else np.nan,\n",
    "        block_config_overfit[n] if n < len(block_config_overfit) else np.nan,\n",
    "        best_param_random[2][n] if n < len(best_param_random[2]) else np.nan,\n",
    "        best_param_hyper[2][n] if n < len(best_param_hyper[2]) else np.nan,\n",
    "        best_param_Bayesian[2][n] if n < len(best_param_Bayesian[2]) else np.nan,\n",
    "        block_config_final[n] if n < len(block_config_final) else np.nan\n",
    "    ]\n",
    "    for n in range(max_blocks)\n",
    "}\n",
    "\n",
    "for n in range (0, max_blocks):\n",
    "    layer_num = 'Layer' + str(n+1)\n",
    "    df_model_comp[layer_num]= layers_config[layer_num]\n"
   ]
  },
  {
   "cell_type": "code",
   "execution_count": null,
   "metadata": {
    "colab": {
     "base_uri": "https://localhost:8080/",
     "height": 631
    },
    "id": "fBZwvm0k8xl5",
    "outputId": "ff16a462-83ef-49ad-bbdc-20dc2a873397"
   },
   "outputs": [
    {
     "data": {
      "text/html": [
       "\n",
       "  <div id=\"df-607c2bb4-3bb0-4f46-8220-cc36e5e2e2f1\">\n",
       "    <div class=\"colab-df-container\">\n",
       "      <div>\n",
       "<style scoped>\n",
       "    .dataframe tbody tr th:only-of-type {\n",
       "        vertical-align: middle;\n",
       "    }\n",
       "\n",
       "    .dataframe tbody tr th {\n",
       "        vertical-align: top;\n",
       "    }\n",
       "\n",
       "    .dataframe thead th {\n",
       "        text-align: right;\n",
       "    }\n",
       "</style>\n",
       "<table border=\"1\" class=\"dataframe\">\n",
       "  <thead>\n",
       "    <tr style=\"text-align: right;\">\n",
       "      <th></th>\n",
       "      <th>Test loss</th>\n",
       "      <th>Test accuracy</th>\n",
       "      <th>conv_blocks</th>\n",
       "      <th>learning_rate</th>\n",
       "      <th>trainable_parameters</th>\n",
       "      <th>Layer1</th>\n",
       "      <th>Layer2</th>\n",
       "      <th>Layer3</th>\n",
       "      <th>Layer4</th>\n",
       "    </tr>\n",
       "  </thead>\n",
       "  <tbody>\n",
       "    <tr>\n",
       "      <th>Small model</th>\n",
       "      <td>0.44</td>\n",
       "      <td>0.79</td>\n",
       "      <td>1.0</td>\n",
       "      <td>0.001</td>\n",
       "      <td>609.0</td>\n",
       "      <td>{'filters': 4, 'kernel_size': 3}</td>\n",
       "      <td>NaN</td>\n",
       "      <td>NaN</td>\n",
       "      <td>NaN</td>\n",
       "    </tr>\n",
       "    <tr>\n",
       "      <th>Overfitting model</th>\n",
       "      <td>0.64</td>\n",
       "      <td>0.90</td>\n",
       "      <td>4.0</td>\n",
       "      <td>0.001</td>\n",
       "      <td>167297.0</td>\n",
       "      <td>{'filters': 128, 'kernel_size': 3}</td>\n",
       "      <td>{'filters': 128, 'kernel_size': 3}</td>\n",
       "      <td>{'filters': 128, 'kernel_size': 3}</td>\n",
       "      <td>{'filters': 128, 'kernel_size': 3}</td>\n",
       "    </tr>\n",
       "    <tr>\n",
       "      <th>Tuned - Random search</th>\n",
       "      <td>0.23</td>\n",
       "      <td>0.91</td>\n",
       "      <td>2.0</td>\n",
       "      <td>0.001</td>\n",
       "      <td>32833.0</td>\n",
       "      <td>{'filters': 64, 'kernel_size': 5, 'dropout': True, 'BatchNormalization': True}</td>\n",
       "      <td>{'filters': 64, 'kernel_size': 4, 'dropout': False, 'BatchNormalization': True}</td>\n",
       "      <td>NaN</td>\n",
       "      <td>NaN</td>\n",
       "    </tr>\n",
       "    <tr>\n",
       "      <th>Tuned - Hyperband</th>\n",
       "      <td>0.27</td>\n",
       "      <td>0.90</td>\n",
       "      <td>4.0</td>\n",
       "      <td>0.001</td>\n",
       "      <td>221825.0</td>\n",
       "      <td>{'filters': 128, 'kernel_size': 5, 'dropout': False, 'BatchNormalization': False}</td>\n",
       "      <td>{'filters': 128, 'kernel_size': 4, 'dropout': True, 'BatchNormalization': False}</td>\n",
       "      <td>{'filters': 128, 'kernel_size': 6, 'dropout': True, 'BatchNormalization': True}</td>\n",
       "      <td>{'filters': 64, 'kernel_size': 3, 'dropout': False, 'BatchNormalization': False}</td>\n",
       "    </tr>\n",
       "    <tr>\n",
       "      <th>Tuned - Bayesian</th>\n",
       "      <td>0.24</td>\n",
       "      <td>0.90</td>\n",
       "      <td>2.0</td>\n",
       "      <td>0.001</td>\n",
       "      <td>36033.0</td>\n",
       "      <td>{'filters': 64, 'kernel_size': 6, 'dropout': True, 'BatchNormalization': False}</td>\n",
       "      <td>{'filters': 64, 'kernel_size': 4, 'dropout': False, 'BatchNormalization': True}</td>\n",
       "      <td>NaN</td>\n",
       "      <td>NaN</td>\n",
       "    </tr>\n",
       "    <tr>\n",
       "      <th>Final model</th>\n",
       "      <td>0.24</td>\n",
       "      <td>0.91</td>\n",
       "      <td>2.0</td>\n",
       "      <td>0.001</td>\n",
       "      <td>32833.0</td>\n",
       "      <td>{'filters': 64, 'kernel_size': 5, 'dropout': True, 'BatchNormalization': True}</td>\n",
       "      <td>{'filters': 64, 'kernel_size': 4, 'dropout': False, 'BatchNormalization': True}</td>\n",
       "      <td>NaN</td>\n",
       "      <td>NaN</td>\n",
       "    </tr>\n",
       "  </tbody>\n",
       "</table>\n",
       "</div>\n",
       "      <button class=\"colab-df-convert\" onclick=\"convertToInteractive('df-607c2bb4-3bb0-4f46-8220-cc36e5e2e2f1')\"\n",
       "              title=\"Convert this dataframe to an interactive table.\"\n",
       "              style=\"display:none;\">\n",
       "        \n",
       "  <svg xmlns=\"http://www.w3.org/2000/svg\" height=\"24px\"viewBox=\"0 0 24 24\"\n",
       "       width=\"24px\">\n",
       "    <path d=\"M0 0h24v24H0V0z\" fill=\"none\"/>\n",
       "    <path d=\"M18.56 5.44l.94 2.06.94-2.06 2.06-.94-2.06-.94-.94-2.06-.94 2.06-2.06.94zm-11 1L8.5 8.5l.94-2.06 2.06-.94-2.06-.94L8.5 2.5l-.94 2.06-2.06.94zm10 10l.94 2.06.94-2.06 2.06-.94-2.06-.94-.94-2.06-.94 2.06-2.06.94z\"/><path d=\"M17.41 7.96l-1.37-1.37c-.4-.4-.92-.59-1.43-.59-.52 0-1.04.2-1.43.59L10.3 9.45l-7.72 7.72c-.78.78-.78 2.05 0 2.83L4 21.41c.39.39.9.59 1.41.59.51 0 1.02-.2 1.41-.59l7.78-7.78 2.81-2.81c.8-.78.8-2.07 0-2.86zM5.41 20L4 18.59l7.72-7.72 1.47 1.35L5.41 20z\"/>\n",
       "  </svg>\n",
       "      </button>\n",
       "      \n",
       "  <style>\n",
       "    .colab-df-container {\n",
       "      display:flex;\n",
       "      flex-wrap:wrap;\n",
       "      gap: 12px;\n",
       "    }\n",
       "\n",
       "    .colab-df-convert {\n",
       "      background-color: #E8F0FE;\n",
       "      border: none;\n",
       "      border-radius: 50%;\n",
       "      cursor: pointer;\n",
       "      display: none;\n",
       "      fill: #1967D2;\n",
       "      height: 32px;\n",
       "      padding: 0 0 0 0;\n",
       "      width: 32px;\n",
       "    }\n",
       "\n",
       "    .colab-df-convert:hover {\n",
       "      background-color: #E2EBFA;\n",
       "      box-shadow: 0px 1px 2px rgba(60, 64, 67, 0.3), 0px 1px 3px 1px rgba(60, 64, 67, 0.15);\n",
       "      fill: #174EA6;\n",
       "    }\n",
       "\n",
       "    [theme=dark] .colab-df-convert {\n",
       "      background-color: #3B4455;\n",
       "      fill: #D2E3FC;\n",
       "    }\n",
       "\n",
       "    [theme=dark] .colab-df-convert:hover {\n",
       "      background-color: #434B5C;\n",
       "      box-shadow: 0px 1px 3px 1px rgba(0, 0, 0, 0.15);\n",
       "      filter: drop-shadow(0px 1px 2px rgba(0, 0, 0, 0.3));\n",
       "      fill: #FFFFFF;\n",
       "    }\n",
       "  </style>\n",
       "\n",
       "      <script>\n",
       "        const buttonEl =\n",
       "          document.querySelector('#df-607c2bb4-3bb0-4f46-8220-cc36e5e2e2f1 button.colab-df-convert');\n",
       "        buttonEl.style.display =\n",
       "          google.colab.kernel.accessAllowed ? 'block' : 'none';\n",
       "\n",
       "        async function convertToInteractive(key) {\n",
       "          const element = document.querySelector('#df-607c2bb4-3bb0-4f46-8220-cc36e5e2e2f1');\n",
       "          const dataTable =\n",
       "            await google.colab.kernel.invokeFunction('convertToInteractive',\n",
       "                                                     [key], {});\n",
       "          if (!dataTable) return;\n",
       "\n",
       "          const docLinkHtml = 'Like what you see? Visit the ' +\n",
       "            '<a target=\"_blank\" href=https://colab.research.google.com/notebooks/data_table.ipynb>data table notebook</a>'\n",
       "            + ' to learn more about interactive tables.';\n",
       "          element.innerHTML = '';\n",
       "          dataTable['output_type'] = 'display_data';\n",
       "          await google.colab.output.renderOutput(dataTable, element);\n",
       "          const docLink = document.createElement('div');\n",
       "          docLink.innerHTML = docLinkHtml;\n",
       "          element.appendChild(docLink);\n",
       "        }\n",
       "      </script>\n",
       "    </div>\n",
       "  </div>\n",
       "  "
      ],
      "text/plain": [
       "                       Test loss  Test accuracy  conv_blocks learning_rate  \\\n",
       "Small model                 0.44           0.79          1.0         0.001   \n",
       "Overfitting model           0.64           0.90          4.0         0.001   \n",
       "Tuned - Random search       0.23           0.91          2.0         0.001   \n",
       "Tuned - Hyperband           0.27           0.90          4.0         0.001   \n",
       "Tuned - Bayesian            0.24           0.90          2.0         0.001   \n",
       "Final model                 0.24           0.91          2.0         0.001   \n",
       "\n",
       "                       trainable_parameters  \\\n",
       "Small model                           609.0   \n",
       "Overfitting model                  167297.0   \n",
       "Tuned - Random search               32833.0   \n",
       "Tuned - Hyperband                  221825.0   \n",
       "Tuned - Bayesian                    36033.0   \n",
       "Final model                         32833.0   \n",
       "\n",
       "                                                                                                  Layer1  \\\n",
       "Small model                                                             {'filters': 4, 'kernel_size': 3}   \n",
       "Overfitting model                                                     {'filters': 128, 'kernel_size': 3}   \n",
       "Tuned - Random search     {'filters': 64, 'kernel_size': 5, 'dropout': True, 'BatchNormalization': True}   \n",
       "Tuned - Hyperband      {'filters': 128, 'kernel_size': 5, 'dropout': False, 'BatchNormalization': False}   \n",
       "Tuned - Bayesian         {'filters': 64, 'kernel_size': 6, 'dropout': True, 'BatchNormalization': False}   \n",
       "Final model               {'filters': 64, 'kernel_size': 5, 'dropout': True, 'BatchNormalization': True}   \n",
       "\n",
       "                                                                                                 Layer2  \\\n",
       "Small model                                                                                         NaN   \n",
       "Overfitting model                                                    {'filters': 128, 'kernel_size': 3}   \n",
       "Tuned - Random search   {'filters': 64, 'kernel_size': 4, 'dropout': False, 'BatchNormalization': True}   \n",
       "Tuned - Hyperband      {'filters': 128, 'kernel_size': 4, 'dropout': True, 'BatchNormalization': False}   \n",
       "Tuned - Bayesian        {'filters': 64, 'kernel_size': 4, 'dropout': False, 'BatchNormalization': True}   \n",
       "Final model             {'filters': 64, 'kernel_size': 4, 'dropout': False, 'BatchNormalization': True}   \n",
       "\n",
       "                                                                                                Layer3  \\\n",
       "Small model                                                                                        NaN   \n",
       "Overfitting model                                                   {'filters': 128, 'kernel_size': 3}   \n",
       "Tuned - Random search                                                                              NaN   \n",
       "Tuned - Hyperband      {'filters': 128, 'kernel_size': 6, 'dropout': True, 'BatchNormalization': True}   \n",
       "Tuned - Bayesian                                                                                   NaN   \n",
       "Final model                                                                                        NaN   \n",
       "\n",
       "                                                                                                 Layer4  \n",
       "Small model                                                                                         NaN  \n",
       "Overfitting model                                                    {'filters': 128, 'kernel_size': 3}  \n",
       "Tuned - Random search                                                                               NaN  \n",
       "Tuned - Hyperband      {'filters': 64, 'kernel_size': 3, 'dropout': False, 'BatchNormalization': False}  \n",
       "Tuned - Bayesian                                                                                    NaN  \n",
       "Final model                                                                                         NaN  "
      ]
     },
     "execution_count": 97,
     "metadata": {},
     "output_type": "execute_result"
    }
   ],
   "source": [
    "df_model_comp.round(2)"
   ]
  },
  {
   "cell_type": "markdown",
   "metadata": {
    "id": "LmljJnDl29MK"
   },
   "source": [
    "The differences between the small model and the final model: \n",
    "\n",
    "\n",
    "- Add more layers \n",
    "\n",
    "\n",
    "- More filters in the layers\n",
    "\n",
    "\n",
    "- Different kernel size in each layers\n",
    "\n",
    "\n",
    "- Add regulization (dropout and the BatchNormalization layer)\n",
    "\n"
   ]
  },
  {
   "cell_type": "markdown",
   "metadata": {
    "id": "GzuavOgL9DMc"
   },
   "source": [
    "## Part II: BERT model"
   ]
  },
  {
   "cell_type": "markdown",
   "metadata": {
    "id": "6Yo_p7HdJ3_5"
   },
   "source": [
    "### 1. Introduction"
   ]
  },
  {
   "cell_type": "markdown",
   "metadata": {
    "id": "PnxrlUmtNq5K"
   },
   "source": [
    "The invention of transformer has changed the landscape of NLP research. This part will fine-tune BERT, a type of transformer, to perform a text classification task on the same dataset used in Part I. \n",
    "\n",
    "Transformer is an encoder-decoder architecture that uses an attention mechanism to establish global dependencies between input and output (Vaswani et al., 2017). BERT, short for Bidirectional Encoder Representations from Transformers, employs Transformer encoder blocks. Each encoder block comprises two modules: a self-attention layer and a feed-forward layer. \n",
    "\n",
    "A summary of the encoder's architecture is following: after tokenization and vectorization, the input text goes through a multi-headed attention layer and a feed-forward layer. The multi-headed attention layer computes attention h times using different weight matrices and concatenates the results. This enables the model to associate each word in the input with another. The feed-forward layer then converts each attention matrix into a format that can be processed by the subsequent encoders.\n",
    "\n",
    "- **BERT-Tiny** is used in this project (Turc et al., 2019). It is considerately smaller than the original BERT model. BERT-Tiny has 2 layers in the model's Transformer encoder stack, 128 units in the hidden layers,  each attention layer has 2 attention heads. \n",
    "  Despite its smaller size, BERT-Tiny is still based on the same core architecture as the full BERT model. In addition, BERT-Tiny has fewer layers and parameters to make it more computationally efficient. \n",
    "\n",
    "\n",
    "- There is no universal workflow for this part (due to limited computation resources) but each parameter choice will be explained. \n",
    "\n",
    "\n",
    "- The codes used in this part were adapted from [a TensorFlow tutorial](https://www.tensorflow.org/text/tutorials/classify_text_with_bert)."
   ]
  },
  {
   "cell_type": "markdown",
   "metadata": {
    "id": "4enSmXAqBGgV"
   },
   "source": [
    "### 2. Pre-processing "
   ]
  },
  {
   "cell_type": "code",
   "execution_count": null,
   "metadata": {
    "id": "wB5ojtas9iyr"
   },
   "outputs": [],
   "source": [
    "# Load the encoder and preprocess models for the BERT-Tiny from TensorFlow Hub\n",
    "tfhub_handle_encoder = 'https://tfhub.dev/tensorflow/small_bert/bert_en_uncased_L-2_H-128_A-2/1'\n",
    "tfhub_handle_preprocess = 'https://tfhub.dev/tensorflow/bert_en_uncased_preprocess/3'"
   ]
  },
  {
   "cell_type": "code",
   "execution_count": null,
   "metadata": {
    "colab": {
     "base_uri": "https://localhost:8080/"
    },
    "id": "7Nq-8MgB9i4S",
    "outputId": "2b350ba0-418c-491f-b74f-16e85a0e628c"
   },
   "outputs": [
    {
     "name": "stderr",
     "output_type": "stream",
     "text": [
      "WARNING:tensorflow:Please fix your imports. Module tensorflow.python.training.tracking.data_structures has been moved to tensorflow.python.trackable.data_structures. The old module will be deleted in version 2.11.\n"
     ]
    }
   ],
   "source": [
    "bert_preprocess_model = hub.KerasLayer(tfhub_handle_preprocess)\n",
    "bert_model = hub.KerasLayer(tfhub_handle_encoder)"
   ]
  },
  {
   "cell_type": "code",
   "execution_count": null,
   "metadata": {
    "colab": {
     "base_uri": "https://localhost:8080/"
    },
    "id": "EgPzAt7d9i7f",
    "outputId": "846a4965-38de-45ba-e2b8-b4d3a165e39e"
   },
   "outputs": [
    {
     "name": "stdout",
     "output_type": "stream",
     "text": [
      "Keys       : ['input_word_ids', 'input_type_ids', 'input_mask']\n",
      "Shape      : (1, 128)\n",
      "Word Ids   : [  101  3533  7226  2368  3513  2041 12609  7226  1024  1005  4364  1010]\n",
      "Input Mask : [1 1 1 1 1 1 1 1 1 1 1 1]\n",
      "Type Ids   : [0 0 0 0 0 0 0 0 0 0 0 0]\n"
     ]
    }
   ],
   "source": [
    "# An example to see how BERT preprocessed the text.\n",
    "text_test = [\"Joe biden rules out 2020 bid: 'guys, i'm not running'\"]\n",
    "text_preprocessed = bert_preprocess_model(text_test)\n",
    "\n",
    "print(f'Keys       : {list(text_preprocessed.keys())}')\n",
    "print(f'Shape      : {text_preprocessed[\"input_word_ids\"].shape}')\n",
    "print(f'Word Ids   : {text_preprocessed[\"input_word_ids\"][0, :12]}')\n",
    "print(f'Input Mask : {text_preprocessed[\"input_mask\"][0, :12]}')\n",
    "print(f'Type Ids   : {text_preprocessed[\"input_type_ids\"][0, :12]}')"
   ]
  },
  {
   "cell_type": "markdown",
   "metadata": {
    "id": "5kMIL86LLOEx"
   },
   "source": [
    "From the preprocessing stage, it can be observed that :\n",
    "\n",
    "- There are three outputs that a BERT model would utilize:  **input_words_id, input_mask**,**input_type_ids**\n",
    "\n",
    "\n",
    "- The input is limited to **128 tokens**, although it can be customized to suit specific needs.\n",
    "\n",
    "\n",
    "- **input_type_ids** are assigned a single value (0) because it is intended for processing a single sentence input. On the other hand, if the input contains multiple sentences, then it would have a distinct number for each input."
   ]
  },
  {
   "cell_type": "code",
   "execution_count": null,
   "metadata": {
    "id": "ezkehuD7_FNH"
   },
   "outputs": [],
   "source": [
    "# Because BERT model preprocessed data differently, therefore the separate training and testing sets were made.\n",
    "# Split the dataset and 20% of the data is reserved for testing.\n",
    "texts_bert = np.array(df['text'])\n",
    "x_train_bert, x_test_bert, y_train_bert, y_test_bert = train_test_split(texts_bert, labels, test_size=0.2, random_state=123)"
   ]
  },
  {
   "cell_type": "markdown",
   "metadata": {
    "id": "FRycaB7VBYKH"
   },
   "source": [
    "### 3. Building a BERT model"
   ]
  },
  {
   "cell_type": "code",
   "execution_count": null,
   "metadata": {
    "id": "5fbtBBc198P-"
   },
   "outputs": [],
   "source": [
    "# It is a function to build a BERT model with very simple architecture, including the preprocess models, BERT-Tiny,\n",
    "# one Dense and a Dropout layer.\n",
    "\n",
    "def build_bert_model():\n",
    "\n",
    "    # Define input layer for text data\n",
    "    text_input = tf.keras.layers.Input(shape=(), dtype=tf.string, name='text')\n",
    "\n",
    "    # Load preprocessing layer using TensorFlow Hub\n",
    "    preprocessing_layer = hub.KerasLayer(tfhub_handle_preprocess, name='preprocessing')\n",
    "  \n",
    "   # Preprocess text input using the loaded preprocessing layer\n",
    "    encoder_inputs = preprocessing_layer(text_input)\n",
    "  \n",
    "   # Load the BERT encoder layer using TensorFlow Hub\n",
    "    encoder = hub.KerasLayer(tfhub_handle_encoder, trainable=True, name='BERT_encoder')\n",
    "  \n",
    "   # Apply the BERT encoder layer to the preprocessed input\n",
    "    outputs = encoder(encoder_inputs)\n",
    "  \n",
    "   # Extract the pooled output, which represents the entire input sequence\n",
    "    net = outputs['pooled_output']\n",
    "\n",
    "   # Apply a dropout layer to the pooled output to reduce overfitting\n",
    "    net = tf.keras.layers.Dropout(0.2)(net)\n",
    "\n",
    "   # Add a dense layer with a single output for binary classification\n",
    "    net = tf.keras.layers.Dense(1, activation=None, name='classifier')(net)\n",
    "\n",
    "    return tf.keras.Model(text_input, net)"
   ]
  },
  {
   "cell_type": "code",
   "execution_count": null,
   "metadata": {
    "colab": {
     "base_uri": "https://localhost:8080/"
    },
    "id": "62J_fSYK98X5",
    "outputId": "4f26779a-4671-4d75-b7c5-76d98d3d0c78"
   },
   "outputs": [
    {
     "name": "stderr",
     "output_type": "stream",
     "text": [
      "WARNING:tensorflow:From /usr/local/lib/python3.8/dist-packages/tensorflow/python/autograph/pyct/static_analysis/liveness.py:83: Analyzer.lamba_check (from tensorflow.python.autograph.pyct.static_analysis.liveness) is deprecated and will be removed after 2023-09-23.\n",
      "Instructions for updating:\n",
      "Lambda fuctions will be no more assumed to be used in the statement where they are used, or at least in the same block. https://github.com/tensorflow/tensorflow/issues/56089\n"
     ]
    }
   ],
   "source": [
    "bert_model = build_bert_model()"
   ]
  },
  {
   "cell_type": "markdown",
   "metadata": {
    "id": "5JInsdg8ahJU"
   },
   "source": [
    "Parameter setting:\n",
    "\n",
    "\n",
    "- Epoch: Fine-tuning typically involves training the model for a smaller number of epochs because the BERT model has already been trained on a large amount of language data and has learned many useful language features that can be applied to the downstream task.\n",
    "\n",
    "\n",
    "- Batch size: The batch size used here is bigger than what is suggested in the original paper (Devlin et al., 2019) due to limited computation power. \n",
    "\n",
    "\n",
    "- Learning rate: The learning rate for fine-tuning the BERT model will follow the same schedule as the BERT pre-training process,  warm-up phase during the first 10% of training steps and gradually decreasing the learning rate over time. The initial learning rate for fine-tuning will be smaller than the learning rate used during pre-training. In this project, it is set to 3e-5, following the recommendation in the original BERT paper (Devlin et al., 2019)\n",
    "\n",
    "\n",
    "- Optimizer: AdamW. AdamW is a variant of the Adam optimizer that includes an additional weight decay term, helping to prevent overfitting and improve generalization performance of the fine-tuned BERT model.\n",
    "\n",
    "\n",
    "- Measure of success: Same with Part I, accuracy is choesn as a measure of success."
   ]
  },
  {
   "cell_type": "code",
   "execution_count": null,
   "metadata": {
    "id": "4TbAhCBv-asP"
   },
   "outputs": [],
   "source": [
    "epochs = 5\n",
    "batch_size = 256\n",
    "steps_per_epoch = len(df.text)//batch_size\n",
    "num_train_steps = steps_per_epoch * epochs\n",
    "num_warmup_steps = int(0.1*num_train_steps)\n",
    "\n",
    "init_lr = 3e-5\n",
    "optimizer = optimization.create_optimizer(init_lr=init_lr,\n",
    "                                          num_train_steps=num_train_steps,\n",
    "                                          num_warmup_steps=num_warmup_steps,\n",
    "                                          optimizer_type='adamw')"
   ]
  },
  {
   "cell_type": "code",
   "execution_count": null,
   "metadata": {
    "id": "Lalg-YEJ9jB9"
   },
   "outputs": [],
   "source": [
    "loss = tf.keras.losses.BinaryCrossentropy(from_logits=True)\n",
    "metrics = tf.metrics.BinaryAccuracy()\n",
    "bert_model.compile(optimizer=optimizer,\n",
    "                         loss=loss,\n",
    "                         metrics=metrics)"
   ]
  },
  {
   "cell_type": "code",
   "execution_count": null,
   "metadata": {
    "colab": {
     "base_uri": "https://localhost:8080/"
    },
    "id": "-wC1WM-h-g2A",
    "outputId": "ea4c02f5-3deb-44e3-93ac-42ee39515696"
   },
   "outputs": [
    {
     "name": "stdout",
     "output_type": "stream",
     "text": [
      "Epoch 1/5\n",
      "500/500 [==============================] - 1036s 2s/step - loss: 0.3327 - binary_accuracy: 0.8328 - val_loss: 0.1481 - val_binary_accuracy: 0.9497\n",
      "Epoch 2/5\n",
      "500/500 [==============================] - 1026s 2s/step - loss: 0.1397 - binary_accuracy: 0.9490 - val_loss: 0.1145 - val_binary_accuracy: 0.9598\n",
      "Epoch 3/5\n",
      "500/500 [==============================] - 1030s 2s/step - loss: 0.1181 - binary_accuracy: 0.9557 - val_loss: 0.1014 - val_binary_accuracy: 0.9643\n",
      "Epoch 4/5\n",
      "500/500 [==============================] - 1022s 2s/step - loss: 0.1066 - binary_accuracy: 0.9608 - val_loss: 0.0954 - val_binary_accuracy: 0.9658\n",
      "Epoch 5/5\n",
      "500/500 [==============================] - 1020s 2s/step - loss: 0.0985 - binary_accuracy: 0.9637 - val_loss: 0.0910 - val_binary_accuracy: 0.9673\n"
     ]
    }
   ],
   "source": [
    "history = bert_model.fit(x_train_bert,y_train_bert,\n",
    "                               validation_split=0.2,\n",
    "                               epochs=epochs,batch_size =batch_size )"
   ]
  },
  {
   "cell_type": "code",
   "execution_count": null,
   "metadata": {
    "colab": {
     "base_uri": "https://localhost:8080/"
    },
    "id": "a9p8ZAKbT1-D",
    "outputId": "950a6fc8-62bd-415c-c133-a8b6d81182cd"
   },
   "outputs": [
    {
     "name": "stdout",
     "output_type": "stream",
     "text": [
      "1250/1250 [==============================] - 52s 41ms/step - loss: 0.0904 - binary_accuracy: 0.9692\n"
     ]
    }
   ],
   "source": [
    "test_loss_bert, test_accuracy_bert = bert_model.evaluate(x_test_bert,y_test_bert)"
   ]
  },
  {
   "cell_type": "markdown",
   "metadata": {
    "id": "Jr-7TVwlYT1i"
   },
   "source": [
    "### 4. Comparison with CNN model: Disucssion and conclusion"
   ]
  },
  {
   "cell_type": "markdown",
   "metadata": {
    "id": "xjN-h6cBYkBe"
   },
   "source": [
    "The results indicate that a simple BERT model achieves 97% accuracy, surpassing the final CNN model by 6%. It is noteworthy that the BERT model's training is limited to only 5 epochs, highlighting its potential as a powerful machine learning model. However, there is still potential for enhancing the BERT model's performance by making additional adjustments, such as fine-tuning hyperparameters like batch size and learning rate to optimize it for specific tasks.\n",
    "\n",
    "Furthermore, the fine-tuning process for the BERT model requires less data than building a model from scratch. This suggests that it is possible to fine-tune the BERT model using only a portion of the dataset while achieving similar outcomes, which can make the training process more efficient."
   ]
  },
  {
   "cell_type": "code",
   "execution_count": null,
   "metadata": {
    "colab": {
     "base_uri": "https://localhost:8080/",
     "height": 112
    },
    "id": "f14QYKm1VKow",
    "outputId": "381afaab-7cd8-4456-d47e-3ad4c5670646"
   },
   "outputs": [
    {
     "data": {
      "text/html": [
       "\n",
       "  <div id=\"df-b0bedc20-f96d-45b5-9229-4c875f79f664\">\n",
       "    <div class=\"colab-df-container\">\n",
       "      <div>\n",
       "<style scoped>\n",
       "    .dataframe tbody tr th:only-of-type {\n",
       "        vertical-align: middle;\n",
       "    }\n",
       "\n",
       "    .dataframe tbody tr th {\n",
       "        vertical-align: top;\n",
       "    }\n",
       "\n",
       "    .dataframe thead th {\n",
       "        text-align: right;\n",
       "    }\n",
       "</style>\n",
       "<table border=\"1\" class=\"dataframe\">\n",
       "  <thead>\n",
       "    <tr style=\"text-align: right;\">\n",
       "      <th></th>\n",
       "      <th>Test loss</th>\n",
       "      <th>Test accuracy</th>\n",
       "    </tr>\n",
       "  </thead>\n",
       "  <tbody>\n",
       "    <tr>\n",
       "      <th>Final CNN Model</th>\n",
       "      <td>0.24</td>\n",
       "      <td>0.91</td>\n",
       "    </tr>\n",
       "    <tr>\n",
       "      <th>BERT Model</th>\n",
       "      <td>0.09</td>\n",
       "      <td>0.97</td>\n",
       "    </tr>\n",
       "  </tbody>\n",
       "</table>\n",
       "</div>\n",
       "      <button class=\"colab-df-convert\" onclick=\"convertToInteractive('df-b0bedc20-f96d-45b5-9229-4c875f79f664')\"\n",
       "              title=\"Convert this dataframe to an interactive table.\"\n",
       "              style=\"display:none;\">\n",
       "        \n",
       "  <svg xmlns=\"http://www.w3.org/2000/svg\" height=\"24px\"viewBox=\"0 0 24 24\"\n",
       "       width=\"24px\">\n",
       "    <path d=\"M0 0h24v24H0V0z\" fill=\"none\"/>\n",
       "    <path d=\"M18.56 5.44l.94 2.06.94-2.06 2.06-.94-2.06-.94-.94-2.06-.94 2.06-2.06.94zm-11 1L8.5 8.5l.94-2.06 2.06-.94-2.06-.94L8.5 2.5l-.94 2.06-2.06.94zm10 10l.94 2.06.94-2.06 2.06-.94-2.06-.94-.94-2.06-.94 2.06-2.06.94z\"/><path d=\"M17.41 7.96l-1.37-1.37c-.4-.4-.92-.59-1.43-.59-.52 0-1.04.2-1.43.59L10.3 9.45l-7.72 7.72c-.78.78-.78 2.05 0 2.83L4 21.41c.39.39.9.59 1.41.59.51 0 1.02-.2 1.41-.59l7.78-7.78 2.81-2.81c.8-.78.8-2.07 0-2.86zM5.41 20L4 18.59l7.72-7.72 1.47 1.35L5.41 20z\"/>\n",
       "  </svg>\n",
       "      </button>\n",
       "      \n",
       "  <style>\n",
       "    .colab-df-container {\n",
       "      display:flex;\n",
       "      flex-wrap:wrap;\n",
       "      gap: 12px;\n",
       "    }\n",
       "\n",
       "    .colab-df-convert {\n",
       "      background-color: #E8F0FE;\n",
       "      border: none;\n",
       "      border-radius: 50%;\n",
       "      cursor: pointer;\n",
       "      display: none;\n",
       "      fill: #1967D2;\n",
       "      height: 32px;\n",
       "      padding: 0 0 0 0;\n",
       "      width: 32px;\n",
       "    }\n",
       "\n",
       "    .colab-df-convert:hover {\n",
       "      background-color: #E2EBFA;\n",
       "      box-shadow: 0px 1px 2px rgba(60, 64, 67, 0.3), 0px 1px 3px 1px rgba(60, 64, 67, 0.15);\n",
       "      fill: #174EA6;\n",
       "    }\n",
       "\n",
       "    [theme=dark] .colab-df-convert {\n",
       "      background-color: #3B4455;\n",
       "      fill: #D2E3FC;\n",
       "    }\n",
       "\n",
       "    [theme=dark] .colab-df-convert:hover {\n",
       "      background-color: #434B5C;\n",
       "      box-shadow: 0px 1px 3px 1px rgba(0, 0, 0, 0.15);\n",
       "      filter: drop-shadow(0px 1px 2px rgba(0, 0, 0, 0.3));\n",
       "      fill: #FFFFFF;\n",
       "    }\n",
       "  </style>\n",
       "\n",
       "      <script>\n",
       "        const buttonEl =\n",
       "          document.querySelector('#df-b0bedc20-f96d-45b5-9229-4c875f79f664 button.colab-df-convert');\n",
       "        buttonEl.style.display =\n",
       "          google.colab.kernel.accessAllowed ? 'block' : 'none';\n",
       "\n",
       "        async function convertToInteractive(key) {\n",
       "          const element = document.querySelector('#df-b0bedc20-f96d-45b5-9229-4c875f79f664');\n",
       "          const dataTable =\n",
       "            await google.colab.kernel.invokeFunction('convertToInteractive',\n",
       "                                                     [key], {});\n",
       "          if (!dataTable) return;\n",
       "\n",
       "          const docLinkHtml = 'Like what you see? Visit the ' +\n",
       "            '<a target=\"_blank\" href=https://colab.research.google.com/notebooks/data_table.ipynb>data table notebook</a>'\n",
       "            + ' to learn more about interactive tables.';\n",
       "          element.innerHTML = '';\n",
       "          dataTable['output_type'] = 'display_data';\n",
       "          await google.colab.output.renderOutput(dataTable, element);\n",
       "          const docLink = document.createElement('div');\n",
       "          docLink.innerHTML = docLinkHtml;\n",
       "          element.appendChild(docLink);\n",
       "        }\n",
       "      </script>\n",
       "    </div>\n",
       "  </div>\n",
       "  "
      ],
      "text/plain": [
       "                 Test loss  Test accuracy\n",
       "Final CNN Model       0.24           0.91\n",
       "BERT Model            0.09           0.97"
      ]
     },
     "execution_count": 98,
     "metadata": {},
     "output_type": "execute_result"
    }
   ],
   "source": [
    "data = {'Test loss': [test_loss_final, test_loss_bert], \n",
    "        'Test accuracy': [test_accuracy_final, test_accuracy_bert],}\n",
    "df_comp_cnn_bert=pd.DataFrame(data=data, \n",
    "             index=[\"Final CNN Model\", \"BERT Model\"])\n",
    "df_comp_cnn_bert.round (2)"
   ]
  },
  {
   "cell_type": "markdown",
   "metadata": {
    "id": "GQUTbOpGzIw9"
   },
   "source": [
    "## References\n",
    "\n",
    "Annamoradnejad, I., & Zoghi, G. (2022). *ColBERT: Using BERT Sentence Embedding in Parallel Neural Networks for Computational Humor* (arXiv:2004.12765). arXiv. https://doi.org/10.48550/arXiv.2004.12765\n",
    "\n",
    "\n",
    "Bergstra, J., & Bengio, Y. (2012). Random Search for Hyper-Parameter Optimization. *Journal of Machine Learning Research*, 13, 281–305.\n",
    "\n",
    "\n",
    "Chollet, F. (2018). *Deep Learning with Python*. https://www.manning.com/books/deep-learning-with-python\n",
    "\n",
    "\n",
    "Devlin, J., Chang, M.-W., Lee, K., & Toutanova, K. (2019). *BERT: Pre-training of Deep Bidirectional Transformers for Language Understanding* (arXiv:1810.04805). arXiv. http://arxiv.org/abs/1810.04805\n",
    "\n",
    "\n",
    "Frazier, P. I. (2018). *A Tutorial on Bayesian Optimization* (arXiv:1807.02811). arXiv. https://doi.org/10.48550/arXiv.1807.02811\n",
    "\n",
    "\n",
    "Han, S., Pool, J., Tran, J., & Dally, W. J. (2015). *Learning both Weights and Connections for Efficient Neural Networks*  (arXiv:1506.02626). arXiv. http://arxiv.org/abs/1506.02626\n",
    "\n",
    "\n",
    "Kingma, D. P., & Ba, J. (2017). *Adam: A Method for Stochastic Optimization* (arXiv:1412.6980). arXiv. http://arxiv.org/abs/1412.6980\n",
    "\n",
    "\n",
    "Li, L., Jamieson, K., DeSalvo, G., Rostamizadeh, A., & Talwalkar, A. (2018). Hyperband: A Novel Bandit-Based Approach to Hyperparameter Optimization. Journal of Machine Learning Research, 18, 1–52.\n",
    "\n",
    "\n",
    "Misra, R. (2022). *News Category Dataset* (arXiv:2209.11429). arXiv. https://doi.org/10.48550/arXiv.2209.11429\n",
    "\n",
    "Turc, I., Chang, M.-W., Lee, K., & Toutanova, K. (2019). *Well-Read Students Learn Better: On the Importance of Pre-training Compact Models* (arXiv:1908.08962). arXiv. http://arxiv.org/abs/1908.08962\n",
    "\n",
    "\n",
    "Vaswani, A., Shazeer, N., Parmar, N., Uszkoreit, J., Jones, L., Gomez, A. N., Kaiser, Ł., & Polosukhin, I. (2017). Attention is All you Need. *Advances in Neural Information Processing Systems*, 30. https://proceedings.neurips.cc/paper/2017/hash/3f5ee243547dee91fbd053c1c4a845aa-Abstract.html\n"
   ]
  }
 ],
 "metadata": {
  "accelerator": "GPU",
  "colab": {
   "machine_shape": "hm",
   "provenance": [],
   "toc_visible": true
  },
  "gpuClass": "premium",
  "kernelspec": {
   "display_name": "Python 3",
   "language": "python",
   "name": "python3"
  },
  "language_info": {
   "codemirror_mode": {
    "name": "ipython",
    "version": 3
   },
   "file_extension": ".py",
   "mimetype": "text/x-python",
   "name": "python",
   "nbconvert_exporter": "python",
   "pygments_lexer": "ipython3",
   "version": "3.7.4"
  }
 },
 "nbformat": 4,
 "nbformat_minor": 1
}
